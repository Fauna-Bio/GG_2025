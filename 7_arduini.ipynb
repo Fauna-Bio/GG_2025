{
 "cells": [
  {
   "cell_type": "code",
   "execution_count": 1,
   "id": "8803f396-f2f0-431d-b34e-f1fc45b0a18c",
   "metadata": {},
   "outputs": [],
   "source": [
    "import numpy as np\n",
    "import matplotlib.pyplot as plt\n",
    "import pandas as pd\n",
    "import scanpy as sc "
   ]
  },
  {
   "cell_type": "markdown",
   "id": "17a5fd15-5c01-460f-a364-7492d468fcd6",
   "metadata": {},
   "source": [
    "# Obtain pseudoalignments"
   ]
  },
  {
   "cell_type": "markdown",
   "id": "f8c75160-59b2-49c1-9d1a-4db1cc1c30a8",
   "metadata": {},
   "source": [
    "This code assembles a bash script that downloads unfiltered kallisto|bustools outputs. Afterward, the bash script is run separately."
   ]
  },
  {
   "cell_type": "code",
   "execution_count": 3,
   "id": "7f10d10d-a924-4593-8cd5-e05cc7b8b927",
   "metadata": {},
   "outputs": [],
   "source": [
    "meta = pd.read_csv('/home/ec2-user/curation/arduini/meta.csv')"
   ]
  },
  {
   "cell_type": "code",
   "execution_count": 4,
   "id": "6425a61a-4e6c-43c1-adf4-6866fd3ea310",
   "metadata": {},
   "outputs": [
    {
     "data": {
      "text/plain": [
       "tissue\n",
       "Left ventricle region 2B    28\n",
       "Left ventricle region 2A    12\n",
       "Left ventricle region 2C    12\n",
       "Left ventricle region 1B    12\n",
       "Left ventricle region 3B    12\n",
       "Name: count, dtype: int64"
      ]
     },
     "execution_count": 4,
     "metadata": {},
     "output_type": "execute_result"
    }
   ],
   "source": [
    "meta['tissue'].value_counts()"
   ]
  },
  {
   "cell_type": "code",
   "execution_count": 5,
   "id": "dce36b05-3be5-4d47-87a7-a6903281f186",
   "metadata": {},
   "outputs": [
    {
     "data": {
      "text/plain": [
       "individual_or_pool\n",
       "chambers_14    16\n",
       "chambers_13    16\n",
       "chambers_11    16\n",
       "chambers_6      4\n",
       "chambers_7      4\n",
       "chambers_5      4\n",
       "chambers_3      4\n",
       "chambers_4      4\n",
       "chambers_1      4\n",
       "chambers_2      4\n",
       "Name: count, dtype: int64"
      ]
     },
     "execution_count": 5,
     "metadata": {},
     "output_type": "execute_result"
    }
   ],
   "source": [
    "meta['individual_or_pool'].value_counts()"
   ]
  },
  {
   "cell_type": "code",
   "execution_count": 6,
   "id": "ce3b2b81-c8fc-4144-83d5-b5ae41f23f5d",
   "metadata": {},
   "outputs": [
    {
     "data": {
      "text/plain": [
       "Run                                                           SRR31090443\n",
       "Assay Type                                                        RNA-Seq\n",
       "AvgSpotLen                                                            132\n",
       "Bases                                                          3665219052\n",
       "BioProject                                                   PRJNA1176479\n",
       "BioSample                                                    SAMN44404548\n",
       "Bytes                                                          1796703549\n",
       "Center Name                       LAB OF PATRICK ELLINOR, BROAD INSTITUTE\n",
       "Collection_Date                                                   missing\n",
       "Consent                                                            public\n",
       "DATASTORE filetype                                       fastq,run.zq,sra\n",
       "DATASTORE provider                                             gs,ncbi,s3\n",
       "DATASTORE region                     gs.us-east1,ncbi.public,s3.us-east-1\n",
       "Developmental_Stage                                               17 week\n",
       "disease                                                           healthy\n",
       "Experiment                                                    SRX26473835\n",
       "geo_loc_name_country                                         uncalculated\n",
       "geo_loc_name_country_continent                               uncalculated\n",
       "geo_loc_name                                                      missing\n",
       "individual_or_pool                                            chambers_14\n",
       "Instrument                                                    NextSeq 550\n",
       "Library Name                                                   GSM8587489\n",
       "LibraryLayout                                                      PAIRED\n",
       "LibrarySelection                                                     cDNA\n",
       "LibrarySource                                  TRANSCRIPTOMIC SINGLE CELL\n",
       "Organism                                                Rattus norvegicus\n",
       "Platform                                                         ILLUMINA\n",
       "ReleaseDate                                          2024-10-28T00:00:00Z\n",
       "create_date                                          2024-10-23T10:22:00Z\n",
       "version                                                                 1\n",
       "Sample Name                                                    GSM8587489\n",
       "sex                                                                  male\n",
       "source_name                                      Left ventricle region 2A\n",
       "SRA Study                                                       SRP540353\n",
       "strain                                                             Wistar\n",
       "tissue                                           Left ventricle region 2A\n",
       "Name: 0, dtype: object"
      ]
     },
     "execution_count": 6,
     "metadata": {},
     "output_type": "execute_result"
    }
   ],
   "source": [
    "meta.iloc[0]"
   ]
  },
  {
   "cell_type": "code",
   "execution_count": 7,
   "id": "2bd2c557-bd98-4653-9858-74f2c8026f0d",
   "metadata": {},
   "outputs": [],
   "source": [
    "meta['sample_names'] = 'A_LV'+meta['individual_or_pool'].str.split('_').str[-1]+'_'+meta['tissue'].str.split(' ').str[-1]"
   ]
  },
  {
   "cell_type": "code",
   "execution_count": 8,
   "id": "d8615442-bd0c-4103-bbcc-017e835eea55",
   "metadata": {},
   "outputs": [],
   "source": [
    "meta['sample_names'].unique()\n",
    "samples = meta['sample_names'].unique()\n",
    "rootdir = '/home/ec2-user/curation/arduini/kb_2503/kallisto/'\n"
   ]
  },
  {
   "cell_type": "code",
   "execution_count": 102,
   "id": "b4028e42-6e17-481a-ab0b-9d0a98f54131",
   "metadata": {},
   "outputs": [],
   "source": [
    "lines = []\n",
    "lines.append('mkdir -p '+rootdir)\n",
    "\n",
    "for sample in samples:\n",
    "    src = f's3://gennady-wip/curation/arduini/kb_2503/kallisto/{sample}.count/counts_unfiltered/'\n",
    "    dest = f'{rootdir}/{sample}/counts_unfiltered/'\n",
    "    lines.append('mkdir -p '+dest)\n",
    "    for file in ['cells_x_genes.total.mtx','cells_x_genes.barcodes.txt','cells_x_genes.genes.names.txt']:\n",
    "        lines.append(f'aws s3 cp {src}{file} {dest}')\n"
   ]
  },
  {
   "cell_type": "code",
   "execution_count": 103,
   "id": "55eab9e5-de01-4f37-beee-a8b93a199247",
   "metadata": {},
   "outputs": [],
   "source": [
    "lines = [x+'\\n' for x in lines]"
   ]
  },
  {
   "cell_type": "code",
   "execution_count": 104,
   "id": "9190554d-09f8-4d47-8538-42121db98938",
   "metadata": {},
   "outputs": [],
   "source": [
    "\n",
    "with open('/home/ec2-user/curation/arduini/get_unfiltered.sh', \"w\") as file:\n",
    "    file.writelines(lines)\n"
   ]
  },
  {
   "cell_type": "markdown",
   "id": "3a6b06cd-e069-4a72-9541-86fc99b20a8a",
   "metadata": {},
   "source": [
    "# Load pseudoalignments"
   ]
  },
  {
   "cell_type": "code",
   "execution_count": 9,
   "id": "3181c528-688a-479d-bda1-c3ce491e0b85",
   "metadata": {},
   "outputs": [],
   "source": [
    "import tqdm"
   ]
  },
  {
   "cell_type": "code",
   "execution_count": 10,
   "id": "e9dfb828-044c-4974-8898-fe05b5d7c96d",
   "metadata": {},
   "outputs": [
    {
     "name": "stderr",
     "output_type": "stream",
     "text": [
      "100%|███████████████████████████████████████████████████████████████████████████████████████████████████████████████████████████████████████████████████████████████████████████| 19/19 [03:38<00:00, 11.53s/it]\n"
     ]
    }
   ],
   "source": [
    "ads = []\n",
    "for sample in tqdm.tqdm(samples):\n",
    "    # print(sample)\n",
    "    samp_dir =  f'{rootdir}/{sample}/counts_unfiltered/'\n",
    "    bcs = np.loadtxt(samp_dir+'cells_x_genes.barcodes.txt',dtype=str)\n",
    "    genes = np.loadtxt(samp_dir+'cells_x_genes.genes.names.txt',dtype=str)\n",
    "    ad = sc.read_mtx(samp_dir+'cells_x_genes.total.mtx')\n",
    "    ad.var.index = genes\n",
    "    ad.obs.index = bcs\n",
    "    ads.append(ad)\n"
   ]
  },
  {
   "cell_type": "code",
   "execution_count": 11,
   "id": "438e7775-d541-4f1e-a096-1df8d0fece54",
   "metadata": {},
   "outputs": [],
   "source": [
    "knees = []\n",
    "for ad in ads:\n",
    "    knee = np.sort((np.array(ad.X.sum(axis=1))).flatten())[::-1]\n",
    "    knees.append(knee)\n"
   ]
  },
  {
   "cell_type": "code",
   "execution_count": 12,
   "id": "20c538e7-618f-475d-b070-5cdb2c99758b",
   "metadata": {},
   "outputs": [
    {
     "data": {
      "text/plain": [
       "Text(0, 0.5, 'UMI counts')"
      ]
     },
     "execution_count": 12,
     "metadata": {},
     "output_type": "execute_result"
    },
    {
     "data": {
      "image/png": "[encoded data removed]",
      "text/plain": [
       "<Figure size 640x480 with 1 Axes>"
      ]
     },
     "metadata": {},
     "output_type": "display_data"
    }
   ],
   "source": [
    "for i in range(len(ads)):\n",
    "    plt.plot(range(len(knees[i])),knees[i],color='k',alpha=0.5)\n",
    "plt.xscale('log')\n",
    "plt.yscale('log')\n",
    "plt.xlabel('cell rank')\n",
    "plt.ylabel('UMI counts')\n"
   ]
  },
  {
   "cell_type": "code",
   "execution_count": 13,
   "id": "9cc35143-d892-49ce-ac3f-43550d177777",
   "metadata": {},
   "outputs": [],
   "source": [
    "ad_ratmap=sc.read_h5ad('/home/ec2-user/curation/arduini/ratmap_scp.h5ad')"
   ]
  },
  {
   "cell_type": "code",
   "execution_count": 14,
   "id": "c63c2577-e3e1-4b67-bbc8-de4d2d88772a",
   "metadata": {},
   "outputs": [],
   "source": [
    "ad_ratmap=ad_ratmap[ad_ratmap.obs['tissue']=='LV']"
   ]
  },
  {
   "cell_type": "code",
   "execution_count": 15,
   "id": "4bc2e443-0c4c-474e-9c20-550a9856c141",
   "metadata": {},
   "outputs": [
    {
     "name": "stderr",
     "output_type": "stream",
     "text": [
      "/tmp/ipykernel_26345/3172692170.py:1: ImplicitModificationWarning: Trying to modify attribute `.obs` of view, initializing view as actual.\n",
      "  ad_ratmap.obs['bcs'] = ad_ratmap.obs.index.str.split(':').str[-1].str.split('-').str[0]\n"
     ]
    }
   ],
   "source": [
    "ad_ratmap.obs['bcs'] = ad_ratmap.obs.index.str.split(':').str[-1].str.split('-').str[0]"
   ]
  },
  {
   "cell_type": "code",
   "execution_count": 16,
   "id": "70bd0d04-480d-4eb0-8699-6c1afce0f40b",
   "metadata": {},
   "outputs": [],
   "source": [
    "ad_ratmap.obs.iloc[0]"
   ]
  },
  {
   "cell_type": "code",
   "execution_count": 17,
   "id": "d45a46ad-67f8-4b65-a277-22c1fe05556c",
   "metadata": {},
   "outputs": [
    {
     "data": {
      "text/plain": [
       "Index(['0: Fibroblasts 1', '10: Vascular Smooth Muscle Cells 1',\n",
       "       '11: Endothelial Cells 3', '12: Brown Adipocytes',\n",
       "       '13: Lymphatic Endothelial Cells', '14: Mesothelial Cells',\n",
       "       '15: White Adipocytes', '16: Monocytes', '17: Neuronal', '18: B Cells',\n",
       "       '19: Vascular Smooth Muscle Cells 2', '1: Endothelial Cells 1',\n",
       "       '21: Top2a+ Endothelial Cells ', '22: Antigen Presenting Cells',\n",
       "       '23: Club Cells', '24: Ganglionic plexi neurons',\n",
       "       '25: Fmod+ Fibroblasts', '2: Fibroblasts 2',\n",
       "       '3: Ventricular Cardiomyocytes', '4: Fibroblasts 3',\n",
       "       '5: Endothelial Cells 2', '6: Macrophages', '7: Pericytes',\n",
       "       '8: T Cells', '9: Atrial Cardiomyocytes'],\n",
       "      dtype='object')"
      ]
     },
     "execution_count": 17,
     "metadata": {},
     "output_type": "execute_result"
    }
   ],
   "source": [
    "ad_ratmap.obs['leiden1p2_labels'].cat.categories.sort_values()"
   ]
  },
  {
   "cell_type": "code",
   "execution_count": 18,
   "id": "08f3d1e0-97bf-4f5e-b4b1-c3fe2835cdf8",
   "metadata": {},
   "outputs": [
    {
     "name": "stdout",
     "output_type": "stream",
     "text": [
      "[0 0 0 0 0 0 0 0 0 0 0 0 0 0 0 0 0 0 0]\n"
     ]
    }
   ],
   "source": [
    "gene = 'Xist'\n",
    "y=[]\n",
    "for i,sample in enumerate(samples):\n",
    "    cf = ad_ratmap.obs['biosample_id'].str.startswith(sample) & (ad_ratmap.obs['leiden1p2_labels']=='17: Neuronal')\n",
    "    kb_num = ads[i][ads[i].obs.index.isin(ad_ratmap[cf].obs['bcs']),gene].X.sum()\n",
    "    y.append(kb_num)\n",
    "print(np.array(y,dtype=int))"
   ]
  },
  {
   "cell_type": "code",
   "execution_count": 19,
   "id": "1a62c180-2970-455a-9a10-0a9b9e7a832d",
   "metadata": {},
   "outputs": [
    {
     "data": {
      "text/plain": [
       "[1.0,\n",
       " 0.0,\n",
       " 0.0,\n",
       " 0.0,\n",
       " 4.0,\n",
       " 0.0,\n",
       " 0.0,\n",
       " 0.0,\n",
       " 1.0,\n",
       " 2.0,\n",
       " 1.0,\n",
       " 0.0,\n",
       " 1.0,\n",
       " 0.0,\n",
       " 1.0,\n",
       " 1.0,\n",
       " 1.0,\n",
       " 0.0,\n",
       " 0.0]"
      ]
     },
     "execution_count": 19,
     "metadata": {},
     "output_type": "execute_result"
    }
   ],
   "source": [
    "[x[:,'Xist'].X.sum() for x in ads]"
   ]
  },
  {
   "cell_type": "code",
   "execution_count": 20,
   "id": "ea732c54-046c-4cb5-b121-212b23154e4b",
   "metadata": {},
   "outputs": [
    {
     "name": "stdout",
     "output_type": "stream",
     "text": [
      "[0 0 0 0 1 0 0 0 0 0 0 0 0 0 0 0 0 0 0]\n"
     ]
    }
   ],
   "source": [
    "gene = 'LOC134484082'\n",
    "y=[]\n",
    "for i,sample in enumerate(samples):\n",
    "    cf = ad_ratmap.obs['biosample_id'].str.startswith(sample) & (ad_ratmap.obs['leiden1p2_labels']=='17: Neuronal')\n",
    "    kb_num = ads[i][ads[i].obs.index.isin(ad_ratmap[cf].obs['bcs']),gene].X.sum()\n",
    "    y.append(kb_num)\n",
    "print(np.array(y,dtype=int))"
   ]
  },
  {
   "cell_type": "code",
   "execution_count": 61,
   "id": "066edd09-cc22-4bf9-985c-279b232d2f74",
   "metadata": {},
   "outputs": [
    {
     "data": {
      "text/plain": [
       "[93,\n",
       " 97,\n",
       " 135,\n",
       " 125,\n",
       " 204,\n",
       " 54,\n",
       " 84,\n",
       " 84,\n",
       " 53,\n",
       " 71,\n",
       " 130,\n",
       " 59,\n",
       " 92,\n",
       " 143,\n",
       " 108,\n",
       " 55,\n",
       " 76,\n",
       " 66,\n",
       " 67]"
      ]
     },
     "execution_count": 61,
     "metadata": {},
     "output_type": "execute_result"
    }
   ],
   "source": [
    "[int(x[:,'LOC134484082'].X.sum()) for x in ads]"
   ]
  },
  {
   "cell_type": "code",
   "execution_count": 63,
   "id": "463618a8-8729-4418-84fb-58032e111ae2",
   "metadata": {},
   "outputs": [
    {
     "name": "stdout",
     "output_type": "stream",
     "text": [
      "[32 28 27 18 39 15 16 13  9 16 34 15 24 44 34 18 11 13 19]\n",
      "9.0 44.0\n"
     ]
    }
   ],
   "source": [
    "y=[]\n",
    "for i,sample in enumerate(samples):\n",
    "    num=ad_ratmap.raw[ad_ratmap.obs['biosample_id'].str.startswith(sample),'LOC680227'].X.sum()\n",
    "    y.append(num)\n",
    "print(np.array(y,dtype=int))\n",
    "print(min(y),max(y))"
   ]
  },
  {
   "cell_type": "code",
   "execution_count": 24,
   "id": "c4e0cd40-ad45-4eba-b51f-9aff9758f51c",
   "metadata": {},
   "outputs": [
    {
     "name": "stdout",
     "output_type": "stream",
     "text": [
      "0.0 4.0\n"
     ]
    }
   ],
   "source": [
    "print(min([x[:,'Xist'].X.sum() for x in ads]),max([x[:,'Xist'].X.sum() for x in ads]))"
   ]
  },
  {
   "cell_type": "code",
   "execution_count": 22,
   "id": "4453e20e-b8a5-43d8-80ae-69797887e837",
   "metadata": {},
   "outputs": [
    {
     "name": "stdout",
     "output_type": "stream",
     "text": [
      "53.0 204.0\n"
     ]
    }
   ],
   "source": [
    "print(min([x[:,'LOC134484082'].X.sum() for x in ads]),max([x[:,'LOC134484082'].X.sum() for x in ads]))"
   ]
  },
  {
   "cell_type": "code",
   "execution_count": 37,
   "id": "499cf0cb-74ae-4cc1-9aab-2176cafc4bcb",
   "metadata": {},
   "outputs": [
    {
     "data": {
      "text/plain": [
       "False"
      ]
     },
     "execution_count": 37,
     "metadata": {},
     "output_type": "execute_result"
    }
   ],
   "source": [
    "'LOC100911498' in ad_ratmap.var_names"
   ]
  },
  {
   "cell_type": "code",
   "execution_count": 42,
   "id": "aba083c5-073b-4962-8df8-611ae4430a2d",
   "metadata": {},
   "outputs": [
    {
     "data": {
      "text/plain": [
       "True"
      ]
     },
     "execution_count": 42,
     "metadata": {},
     "output_type": "execute_result"
    }
   ],
   "source": [
    "'LOC680227' in ad_ratmap.var_names"
   ]
  },
  {
   "cell_type": "code",
   "execution_count": 41,
   "id": "8f57eca1-3124-4e24-b601-6ab669966b1f",
   "metadata": {},
   "outputs": [
    {
     "data": {
      "text/plain": [
       "True"
      ]
     },
     "execution_count": 41,
     "metadata": {},
     "output_type": "execute_result"
    }
   ],
   "source": [
    " \"LOC103690048\" in ad_ratmap.var_names"
   ]
  },
  {
   "cell_type": "markdown",
   "id": "e22cbb62-57cf-4e5b-b8f2-7cee93bcf44b",
   "metadata": {},
   "source": [
    "Compare barcodes from the released data and the kallisto|bustools outputs. The latter are a strict superset of the former, since both alignments used the 10x whitelist and kb was run without filtering."
   ]
  },
  {
   "cell_type": "code",
   "execution_count": 23,
   "id": "9701c09d-c226-46a9-8110-e516b39057ad",
   "metadata": {},
   "outputs": [
    {
     "name": "stdout",
     "output_type": "stream",
     "text": [
      "Sample A_LV14_2A.\n",
      "\tPercentage of ratmap BCs in kb: 100.0.\n",
      "\tPercentage of kb BCs in ratmap: 1.8397.\n",
      "Sample A_LV13_2C.\n",
      "\tPercentage of ratmap BCs in kb: 100.0.\n",
      "\tPercentage of kb BCs in ratmap: 2.4714.\n",
      "Sample A_LV14_1B.\n",
      "\tPercentage of ratmap BCs in kb: 100.0.\n",
      "\tPercentage of kb BCs in ratmap: 1.9926.\n",
      "Sample A_LV13_3B.\n",
      "\tPercentage of ratmap BCs in kb: 100.0.\n",
      "\tPercentage of kb BCs in ratmap: 2.0901.\n",
      "Sample A_LV13_1B.\n",
      "\tPercentage of ratmap BCs in kb: 100.0.\n",
      "\tPercentage of kb BCs in ratmap: 2.4736.\n",
      "Sample A_LV13_2A.\n",
      "\tPercentage of ratmap BCs in kb: 100.0.\n",
      "\tPercentage of kb BCs in ratmap: 1.6381.\n",
      "Sample A_LV6_2B.\n",
      "\tPercentage of ratmap BCs in kb: 100.0.\n",
      "\tPercentage of kb BCs in ratmap: 2.668.\n",
      "Sample A_LV7_2B.\n",
      "\tPercentage of ratmap BCs in kb: 100.0.\n",
      "\tPercentage of kb BCs in ratmap: 3.0416.\n",
      "Sample A_LV5_2B.\n",
      "\tPercentage of ratmap BCs in kb: 100.0.\n",
      "\tPercentage of kb BCs in ratmap: 2.5931.\n",
      "Sample A_LV3_2B.\n",
      "\tPercentage of ratmap BCs in kb: 100.0.\n",
      "\tPercentage of kb BCs in ratmap: 2.1775.\n",
      "Sample A_LV11_2C.\n",
      "\tPercentage of ratmap BCs in kb: 100.0.\n",
      "\tPercentage of kb BCs in ratmap: 2.316.\n",
      "Sample A_LV4_2B.\n",
      "\tPercentage of ratmap BCs in kb: 100.0.\n",
      "\tPercentage of kb BCs in ratmap: 2.2597.\n",
      "Sample A_LV11_3B.\n",
      "\tPercentage of ratmap BCs in kb: 100.0.\n",
      "\tPercentage of kb BCs in ratmap: 2.3361.\n",
      "Sample A_LV11_2A.\n",
      "\tPercentage of ratmap BCs in kb: 100.0.\n",
      "\tPercentage of kb BCs in ratmap: 2.4503.\n",
      "Sample A_LV11_1B.\n",
      "\tPercentage of ratmap BCs in kb: 100.0.\n",
      "\tPercentage of kb BCs in ratmap: 1.5946.\n",
      "Sample A_LV14_3B.\n",
      "\tPercentage of ratmap BCs in kb: 100.0.\n",
      "\tPercentage of kb BCs in ratmap: 1.6559.\n",
      "Sample A_LV1_2B.\n",
      "\tPercentage of ratmap BCs in kb: 100.0.\n",
      "\tPercentage of kb BCs in ratmap: 1.9749.\n",
      "Sample A_LV14_2C.\n",
      "\tPercentage of ratmap BCs in kb: 100.0.\n",
      "\tPercentage of kb BCs in ratmap: 2.5371.\n",
      "Sample A_LV2_2B.\n",
      "\tPercentage of ratmap BCs in kb: 100.0.\n",
      "\tPercentage of kb BCs in ratmap: 1.9275.\n"
     ]
    }
   ],
   "source": [
    "for i,sample in enumerate(samples):\n",
    "    bcs_kb = ads[i].obs.index\n",
    "    bcs_ratmap = ad_ratmap[ad_ratmap.obs['biosample_id'].str.startswith(sample)].obs['bcs']\n",
    "    overlap1 = np.round(100*bcs_ratmap.isin(bcs_kb).mean(),4)\n",
    "    overlap2 = np.round(100*bcs_kb.isin(bcs_ratmap).mean(),4)\n",
    "    print(f'Sample {sample}.\\n\\tPercentage of ratmap BCs in kb: {overlap1}.\\n\\tPercentage of kb BCs in ratmap: {overlap2}.')\n"
   ]
  },
  {
   "cell_type": "code",
   "execution_count": null,
   "id": "a61b2cd9-053d-4824-9a7e-b20f646c597c",
   "metadata": {},
   "outputs": [],
   "source": []
  },
  {
   "cell_type": "code",
   "execution_count": null,
   "id": "57ff40d5-a381-4b20-9fa3-ee8962137fa3",
   "metadata": {},
   "outputs": [],
   "source": []
  }
 ],
 "metadata": {
  "kernelspec": {
   "display_name": "Python 3 (ipykernel)",
   "language": "python",
   "name": "python3"
  },
  "language_info": {
   "codemirror_mode": {
    "name": "ipython",
    "version": 3
   },
   "file_extension": ".py",
   "mimetype": "text/x-python",
   "name": "python",
   "nbconvert_exporter": "python",
   "pygments_lexer": "ipython3",
   "version": "3.11.0"
  }
 },
 "nbformat": 4,
 "nbformat_minor": 5
}
