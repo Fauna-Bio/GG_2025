{
 "cells": [
  {
   "cell_type": "markdown",
   "id": "d1f92c07-f470-48bb-80cd-c393f7206222",
   "metadata": {},
   "source": [
    "# 2. Dataset XIST-positive and -negative split"
   ]
  },
  {
   "cell_type": "markdown",
   "id": "d3fa92ef-6e65-42b7-8aec-1eb75e7b71f1",
   "metadata": {},
   "source": [
    "Load in datasets. Extract cells annotated as neurons or glia. Split by presence or absence of XIST in each cell. Construct pseudobulks."
   ]
  },
  {
   "cell_type": "code",
   "execution_count": 1,
   "id": "310af64e-5637-4969-9dd1-4ad7d6f58c2f",
   "metadata": {},
   "outputs": [],
   "source": [
    "\n",
    "import matplotlib.pyplot as plt\n",
    "import scanpy as sc\n",
    "import numpy as np\n",
    "import time\n"
   ]
  },
  {
   "cell_type": "code",
   "execution_count": 2,
   "id": "175b7688-856d-451d-b49e-682c83fc5865",
   "metadata": {},
   "outputs": [],
   "source": [
    "import decoupler as dc\n",
    "import pandas as pd\n",
    "import sys\n",
    "import anndata\n",
    "import pickle\n"
   ]
  },
  {
   "cell_type": "code",
   "execution_count": 3,
   "id": "cef7f054-34e9-4549-941e-330795dba6e9",
   "metadata": {},
   "outputs": [],
   "source": [
    "ads = {}"
   ]
  },
  {
   "cell_type": "code",
   "execution_count": 4,
   "id": "ec4ba8d0-3229-4abb-9c8e-edda38a17389",
   "metadata": {},
   "outputs": [],
   "source": [
    "rt = '/home/ec2-user/curation/'\n",
    "filenames = {'amrute':'ad.h5ad','brener':'ad.h5ad','chaffin':'human_dcm_hcm_scportal_03.17.2022.h5ad','eraslan':'ad.h5ad','hill':'ad.h5ad',\n",
    "            'litvinukova':'ad.h5ad','kanemaru':'ad.h5ad','kuppe':'ad.h5ad','reichart':'ad.h5ad','selewa':'ad.h5ad',\n",
    "             'knight_schrijver':'ad.h5ad',\n",
    "            'sim':'ad.h5ad','simonson':'ICM_scportal_05.24.2022.h5ad','tucker':'healthy_human_4chamber_map_unnormalized_V4.h5ad',\n",
    "            'linna_kuosmanen':['carebank.h5ad','periheart.h5ad']}\n",
    "\n",
    "neuron_cts = ['Glia','glia','neuron','Neuron','neural','Neural','Schwann']\n"
   ]
  },
  {
   "cell_type": "markdown",
   "id": "cf66033f-c387-4e5d-aafe-d83e1ea574a4",
   "metadata": {},
   "source": [
    "## Amrute"
   ]
  },
  {
   "cell_type": "code",
   "execution_count": 5,
   "id": "22b7c0aa-2b58-46f0-a431-aa86f40fd914",
   "metadata": {},
   "outputs": [],
   "source": [
    "dataset = 'amrute'\n",
    "ad = sc.read_h5ad(rt+dataset+'/'+filenames[dataset])"
   ]
  },
  {
   "cell_type": "code",
   "execution_count": 7,
   "id": "bde6bf82-1b75-4deb-b0b3-e4b702191480",
   "metadata": {},
   "outputs": [],
   "source": [
    "assert all(ad.raw.X.indices==ad.X.indices)\n",
    "assert ad.raw.X.nnz==ad.X.nnz"
   ]
  },
  {
   "cell_type": "code",
   "execution_count": 9,
   "id": "de93523a-707d-4b5f-bb58-c5d497915c6d",
   "metadata": {},
   "outputs": [],
   "source": [
    "ad.obs.rename(columns={'orig.ident':'donor_id','cell.type':'cell_type'},inplace=True)"
   ]
  },
  {
   "cell_type": "code",
   "execution_count": 10,
   "id": "02e5a7b6-8286-47cf-8862-4594fdd6d36f",
   "metadata": {},
   "outputs": [],
   "source": [
    "ad = ad[ad.obs['condition']!='Donor'] #donors are from Koenig"
   ]
  },
  {
   "cell_type": "markdown",
   "id": "d3083cd6-76c8-475b-8fb5-077de42ae634",
   "metadata": {},
   "source": [
    "Sexes and ages are not marked in the Seurat object."
   ]
  },
  {
   "cell_type": "code",
   "execution_count": 11,
   "id": "a9c1476c-6d6d-40f5-8a26-24aaf5b176c5",
   "metadata": {},
   "outputs": [
    {
     "name": "stderr",
     "output_type": "stream",
     "text": [
      "/tmp/ipykernel_20014/3479450247.py:1: ImplicitModificationWarning: Trying to modify attribute `.obs` of view, initializing view as actual.\n",
      "  ad.obs['sex']=None\n"
     ]
    }
   ],
   "source": [
    "ad.obs['sex']=None\n",
    "female_donors = ['TWCM-'+x for x in ['13-1','13-104','14-173','296','370','397']]\n",
    "filt = ad.obs['donor_id'].str.contains( \"|\".join(female_donors),regex=True)\n",
    "ad.obs.loc[filt,'sex']='female'\n",
    "ad.obs.loc[~filt,'sex']='male'"
   ]
  },
  {
   "cell_type": "code",
   "execution_count": 12,
   "id": "f9a527ed-0cbb-4e2b-9697-1b3efddde973",
   "metadata": {},
   "outputs": [],
   "source": [
    "age_map = {'190':18,'229':60,'239':44,'296':60,\n",
    "           '359':46,'363':64,'370':67,'371':61,\n",
    "           '373':69,'376':37,'397':47,'410':58,\n",
    "           '463':29,\n",
    "           '388':1000,'378':1001} #placeholders"
   ]
  },
  {
   "cell_type": "code",
   "execution_count": 13,
   "id": "9b48ffe1-c3ad-4497-a4da-5f2254de5576",
   "metadata": {},
   "outputs": [],
   "source": [
    "ad.obs['age'] = ad.obs['donor_id'].str.split('-').str[1].map(age_map)"
   ]
  },
  {
   "cell_type": "code",
   "execution_count": 15,
   "id": "be336ddb-9efb-462e-b9b2-5dc4395ce74c",
   "metadata": {},
   "outputs": [],
   "source": [
    "dids = ad.obs['donor_id'].str.split('-').str[1].unique()\n",
    "metakeys = np.array(list(age_map.keys()))"
   ]
  },
  {
   "cell_type": "code",
   "execution_count": 16,
   "id": "3057ea2f-6976-47ed-8514-29cab599f42c",
   "metadata": {},
   "outputs": [],
   "source": [
    "ad.var.set_index('features',inplace=True)"
   ]
  },
  {
   "cell_type": "code",
   "execution_count": 17,
   "id": "e291ef96-2d8f-4e0f-aedb-e11b5dff50f7",
   "metadata": {},
   "outputs": [
    {
     "name": "stderr",
     "output_type": "stream",
     "text": [
      "/tmp/ipykernel_20014/2395590159.py:3: ImplicitModificationWarning: Trying to modify attribute `.obs` of view, initializing view as actual.\n",
      "  ad.obs['xist'] = None\n"
     ]
    }
   ],
   "source": [
    "filt_neur=ad.obs['cell_type'].str.contains( \"|\".join(neuron_cts),regex=True)\n",
    "ad = ad[filt_neur]\n",
    "ad.obs['xist'] = None\n",
    "cf=ad[:,'XIST'].X.toarray().squeeze()>0\n",
    "ad.obs.loc[cf,'xist']= 'present'\n",
    "ad.obs.loc[~cf,'xist']= 'absent'"
   ]
  },
  {
   "cell_type": "code",
   "execution_count": 18,
   "id": "337828d7-5725-4546-b41d-f329eb636e00",
   "metadata": {},
   "outputs": [],
   "source": [
    "ad = dc.get_pseudobulk(ad,sample_col='donor_id',groups_col='xist',\n",
    "    mode='sum',\n",
    "    min_cells=0,\n",
    "    min_counts=0,use_raw=True)"
   ]
  },
  {
   "cell_type": "code",
   "execution_count": 19,
   "id": "0e22783b-6741-4b1a-b975-4b3a3ba15570",
   "metadata": {},
   "outputs": [],
   "source": [
    "ads[dataset] = ad.copy()"
   ]
  },
  {
   "cell_type": "markdown",
   "id": "8376d66f-44c6-4014-ad2e-8d742028a25f",
   "metadata": {},
   "source": [
    "## Brener"
   ]
  },
  {
   "cell_type": "markdown",
   "id": "aab548e3-7831-43ed-85ff-746ce7e72de5",
   "metadata": {},
   "source": [
    "The annotated data got removed from Broad."
   ]
  },
  {
   "cell_type": "code",
   "execution_count": 21,
   "id": "99304cd5-4e27-458f-bc96-c7b932b74097",
   "metadata": {},
   "outputs": [],
   "source": [
    "dataset = 'brener'\n",
    "ad = sc.read_h5ad(rt+dataset+'/'+filenames[dataset])\n",
    "ad_geo = sc.read_h5ad(rt+dataset+'/ad_geo.h5ad')"
   ]
  },
  {
   "cell_type": "code",
   "execution_count": 22,
   "id": "c99ea3fa-73b6-4a76-97ee-dd8f99ae954c",
   "metadata": {},
   "outputs": [],
   "source": [
    "ad = ad[ad.obs['Virus']=='Covid']"
   ]
  },
  {
   "cell_type": "code",
   "execution_count": 23,
   "id": "273e6d74-bee9-4497-8b1f-3f2276f99752",
   "metadata": {},
   "outputs": [],
   "source": [
    "assert all(ad_geo.var_names == ad.var_names)"
   ]
  },
  {
   "cell_type": "code",
   "execution_count": 24,
   "id": "5ce8609b-cbe6-4dad-a5d0-ce4794e36185",
   "metadata": {},
   "outputs": [],
   "source": [
    "assert all(ad_geo.obs_names == ad.obs_names)"
   ]
  },
  {
   "cell_type": "code",
   "execution_count": 26,
   "id": "d2b32a97-63d0-49fe-a3f8-ad3fb47c861a",
   "metadata": {},
   "outputs": [],
   "source": [
    "assert ad.raw.X.nnz==ad.X.nnz\n",
    "assert ad_geo.X.nnz==ad.X.nnz\n",
    "assert all(ad.raw.X.indices==ad.X.indices)"
   ]
  },
  {
   "cell_type": "code",
   "execution_count": 27,
   "id": "80ed8705-3708-49ff-8bcd-429fc98ec1e0",
   "metadata": {},
   "outputs": [],
   "source": [
    "ad_raw = ad.raw.to_adata()\n",
    "ad_raw.X = ad_geo.X\n",
    "ad.raw=ad_raw"
   ]
  },
  {
   "cell_type": "code",
   "execution_count": 28,
   "id": "1b6a8d10-b22d-44af-898a-7bab37e24fcf",
   "metadata": {},
   "outputs": [],
   "source": [
    "ad.obs.rename(columns={'batches':'donor_id','leiden':'cell_type'},inplace=True)"
   ]
  },
  {
   "cell_type": "code",
   "execution_count": 29,
   "id": "db3a974f-6b13-47dd-87f2-435436f2949e",
   "metadata": {},
   "outputs": [],
   "source": [
    "ad.obs['sex']=None\n",
    "filt = ad.obs['donor_id']=='15_144548-RV' #the one female sample\n",
    "ad.obs.loc[filt,'sex']='female'\n",
    "ad.obs.loc[~filt,'sex']='male'"
   ]
  },
  {
   "cell_type": "code",
   "execution_count": 30,
   "id": "f65f9679-8047-45cb-a883-a640d043d1f2",
   "metadata": {},
   "outputs": [],
   "source": [
    "study_id_map = {'11_144422':'19','15_144548':'66','8_144391':'05',\n",
    "                '13_144471':'45','10_144421':'51','16_144608':'61',\n",
    "                '10_144396':'39'}\n",
    "\n",
    "age_map = {'05':83,'39':71,'61':58,'19':68,'45':65,'51':63,'66':69}\n",
    "ad.obs['age'] = ad.obs['donor_id'].str.split('-').str[0].map(study_id_map).map(age_map)"
   ]
  },
  {
   "cell_type": "code",
   "execution_count": 31,
   "id": "b16fed03-2308-4847-860a-d12f05db91bb",
   "metadata": {},
   "outputs": [
    {
     "name": "stderr",
     "output_type": "stream",
     "text": [
      "/tmp/ipykernel_20014/2395590159.py:3: ImplicitModificationWarning: Trying to modify attribute `.obs` of view, initializing view as actual.\n",
      "  ad.obs['xist'] = None\n"
     ]
    }
   ],
   "source": [
    "filt_neur=ad.obs['cell_type'].str.contains( \"|\".join(neuron_cts),regex=True)\n",
    "ad = ad[filt_neur]\n",
    "ad.obs['xist'] = None\n",
    "cf=ad[:,'XIST'].X.toarray().squeeze()>0\n",
    "ad.obs.loc[cf,'xist']= 'present'\n",
    "ad.obs.loc[~cf,'xist']= 'absent'"
   ]
  },
  {
   "cell_type": "code",
   "execution_count": 32,
   "id": "092877c7-939c-4e20-bcb1-37506719a3ca",
   "metadata": {},
   "outputs": [],
   "source": [
    "ad = dc.get_pseudobulk(ad,sample_col='donor_id',groups_col='xist',\n",
    "    mode='sum',\n",
    "    min_cells=0,\n",
    "    min_counts=0,use_raw=True)\n"
   ]
  },
  {
   "cell_type": "code",
   "execution_count": 33,
   "id": "635a3520-b1f2-4bbe-958d-72632389593c",
   "metadata": {},
   "outputs": [],
   "source": [
    "ads[dataset] = ad.copy()"
   ]
  },
  {
   "cell_type": "markdown",
   "id": "f9ea6137-c774-4c45-bb1b-211a2194b59e",
   "metadata": {},
   "source": [
    "## Eraslan"
   ]
  },
  {
   "cell_type": "code",
   "execution_count": 34,
   "id": "8b811f53-443b-4ca0-ae15-7e6927cde281",
   "metadata": {},
   "outputs": [],
   "source": [
    "dataset = 'eraslan'\n",
    "ad = sc.read_h5ad(rt+dataset+'/'+filenames[dataset])"
   ]
  },
  {
   "cell_type": "code",
   "execution_count": 35,
   "id": "4af03967-3895-4c40-bbb2-49c7af17893e",
   "metadata": {},
   "outputs": [],
   "source": [
    "ad=ad[ad.obs['tissue']=='anterior wall of left ventricle']"
   ]
  },
  {
   "cell_type": "code",
   "execution_count": 81,
   "id": "df685b7d-5941-4480-baef-b8014cab4f1c",
   "metadata": {},
   "outputs": [
    {
     "ename": "AssertionError",
     "evalue": "",
     "output_type": "error",
     "traceback": [
      "\u001b[0;31m---------------------------------------------------------------------------\u001b[0m",
      "\u001b[0;31mAssertionError\u001b[0m                            Traceback (most recent call last)",
      "Cell \u001b[0;32mIn[81], line 1\u001b[0m\n\u001b[0;32m----> 1\u001b[0m \u001b[38;5;28;01massert\u001b[39;00m ad\u001b[38;5;241m.\u001b[39mraw\u001b[38;5;241m.\u001b[39mX\u001b[38;5;241m.\u001b[39mnnz\u001b[38;5;241m==\u001b[39mad\u001b[38;5;241m.\u001b[39mX\u001b[38;5;241m.\u001b[39mnnz\n",
      "\u001b[0;31mAssertionError\u001b[0m: "
     ]
    }
   ],
   "source": [
    "assert ad.raw.X.nnz==ad.X.nnz\n",
    "assert all(ad.raw.X.indices==ad.X.indices)"
   ]
  },
  {
   "cell_type": "code",
   "execution_count": 39,
   "id": "4bc73f8e-5914-4d6a-b583-98de841e17be",
   "metadata": {},
   "outputs": [],
   "source": [
    "ad.var.set_index('feature_name',inplace=True)\n",
    "ad.raw.var.set_index('feature_name',inplace=True)"
   ]
  },
  {
   "cell_type": "code",
   "execution_count": 40,
   "id": "71490303-4039-4d4c-a0a0-09ecb44cdc5b",
   "metadata": {},
   "outputs": [],
   "source": [
    "# ad.var"
   ]
  },
  {
   "cell_type": "code",
   "execution_count": 41,
   "id": "19c1f4ee-cf08-4235-94b9-529bf214ee67",
   "metadata": {},
   "outputs": [
    {
     "name": "stderr",
     "output_type": "stream",
     "text": [
      "/tmp/ipykernel_20014/1363908226.py:3: ImplicitModificationWarning: Trying to modify attribute `.obs` of view, initializing view as actual.\n",
      "  ad.obs['xist'] = None\n"
     ]
    }
   ],
   "source": [
    "filt_neur=ad.obs['cell_type'].str.contains( \"|\".join(neuron_cts),regex=True)\n",
    "ad = ad[filt_neur]\n",
    "ad.obs['xist'] = None\n",
    "cf=ad.raw[:,'XIST'].X.toarray().squeeze()>0 #note that raw has to be used here because the corrected data are imputed\n",
    "ad.obs.loc[cf,'xist']= 'present'\n",
    "ad.obs.loc[~cf,'xist']= 'absent'"
   ]
  },
  {
   "cell_type": "code",
   "execution_count": 42,
   "id": "a16b9169-710d-4bc2-b43b-812998dc21e3",
   "metadata": {},
   "outputs": [],
   "source": [
    "ad = dc.get_pseudobulk(ad,sample_col='donor_id',groups_col='xist',\n",
    "    mode='sum',\n",
    "    min_cells=0,\n",
    "    min_counts=0,use_raw=True)"
   ]
  },
  {
   "cell_type": "code",
   "execution_count": 44,
   "id": "b7088e48-62e7-4fff-82d6-179cf0113820",
   "metadata": {},
   "outputs": [],
   "source": [
    "age_map = {'GTEX-1ICG6':'70-79','GTEX-13N11':'50-59','GTEX-15RIE':'60-69'}\n",
    "ad.obs['Age_bin'] = ad.obs['donor_id'].map(age_map)"
   ]
  },
  {
   "cell_type": "code",
   "execution_count": 46,
   "id": "7e2e1e49-6bc9-4c48-b647-c5a3c938a85c",
   "metadata": {},
   "outputs": [],
   "source": [
    "ads[dataset] = ad.copy()"
   ]
  },
  {
   "cell_type": "markdown",
   "id": "a17b6d3f-ccb9-4e39-97a8-d26d2ed97ee0",
   "metadata": {},
   "source": [
    "## Hill"
   ]
  },
  {
   "cell_type": "code",
   "execution_count": 47,
   "id": "d4272050-ccd5-43cf-8baa-338c3c289e19",
   "metadata": {},
   "outputs": [],
   "source": [
    "dataset = 'hill'\n",
    "ad = sc.read_h5ad(rt+dataset+'/'+filenames[dataset])"
   ]
  },
  {
   "cell_type": "code",
   "execution_count": 48,
   "id": "58e03e7b-9618-4e1e-8a20-b8ab3b92b82d",
   "metadata": {},
   "outputs": [],
   "source": [
    "ad.obs.rename(columns={'MainCellType':'cell_type'},inplace=True)"
   ]
  },
  {
   "attachments": {},
   "cell_type": "markdown",
   "id": "4eda62eb-150d-47f4-8a15-0df222408186",
   "metadata": {},
   "source": [
    "Evidently 13_198 is duplicated (LV and RV), and UK1/2 somehow map to 3B62D and FC3CB."
   ]
  },
  {
   "cell_type": "code",
   "execution_count": 49,
   "id": "eabdb190-7c84-48d1-b3fd-8bf403e6fc3b",
   "metadata": {},
   "outputs": [],
   "source": [
    "# assert ad.raw.X.nnz==ad.X.nnz #no raw"
   ]
  },
  {
   "cell_type": "code",
   "execution_count": 50,
   "id": "dfb1a11f-cbbe-4d7e-a89a-e1c089e8ff77",
   "metadata": {},
   "outputs": [
    {
     "name": "stderr",
     "output_type": "stream",
     "text": [
      "/tmp/ipykernel_20014/1370803233.py:4: ImplicitModificationWarning: Trying to modify attribute `.obs` of view, initializing view as actual.\n",
      "  ad.obs['xist'] = None\n"
     ]
    }
   ],
   "source": [
    "# ad.var.set_index('feature_name',inplace=True)\n",
    "filt_neur=ad.obs['cell_type'].str.contains( \"|\".join(neuron_cts),regex=True)\n",
    "ad = ad[filt_neur]\n",
    "ad.obs['xist'] = None\n",
    "cf=ad[:,'XIST'].X.toarray().squeeze()>0\n",
    "ad.obs.loc[cf,'xist']= 'present'\n",
    "ad.obs.loc[~cf,'xist']= 'absent'"
   ]
  },
  {
   "cell_type": "code",
   "execution_count": 51,
   "id": "32dc58bc-f227-4d46-a2d0-2cea9718781b",
   "metadata": {},
   "outputs": [],
   "source": [
    "ad = dc.get_pseudobulk(ad,sample_col='donor_id',groups_col='xist',\n",
    "    mode='sum',\n",
    "    min_cells=0,\n",
    "    min_counts=0,use_raw=False)"
   ]
  },
  {
   "cell_type": "code",
   "execution_count": 53,
   "id": "c85e9ddf-b82a-4354-b030-b1637366f5eb",
   "metadata": {},
   "outputs": [],
   "source": [
    "ad.obs['age'] = ad.obs['age'].str.split('y').str[0].astype(float)"
   ]
  },
  {
   "cell_type": "code",
   "execution_count": 54,
   "id": "c916edf7-8fa5-498d-9d2b-7c75aafd3214",
   "metadata": {},
   "outputs": [],
   "source": [
    "ads[dataset] = ad.copy()"
   ]
  },
  {
   "cell_type": "markdown",
   "id": "8ead4660-e4aa-4e4a-8e1b-642263f049af",
   "metadata": {},
   "source": [
    "## Kanemaru"
   ]
  },
  {
   "cell_type": "code",
   "execution_count": 55,
   "id": "60a8c92c-9b1e-4547-a08b-6952f28a66b2",
   "metadata": {},
   "outputs": [],
   "source": [
    "dataset = 'kanemaru'\n",
    "ad = sc.read_h5ad(rt+dataset+'/'+filenames[dataset])"
   ]
  },
  {
   "cell_type": "code",
   "execution_count": 56,
   "id": "28910cb7-31f4-4d79-bf49-7a189c208c6d",
   "metadata": {},
   "outputs": [],
   "source": [
    "ad=ad[ad.obs['is_primary_data']]"
   ]
  },
  {
   "cell_type": "markdown",
   "id": "e778eef6-2672-4753-8cc8-cd44cc664271",
   "metadata": {},
   "source": [
    "Some donors got resequenced, and D11 was erroneously added into primary data. Per Fig. 1a, there should be 211,060 newly-generated RNA data points."
   ]
  },
  {
   "cell_type": "code",
   "execution_count": 57,
   "id": "2766ada1-c1b8-4b92-b8ec-27f0488c15a3",
   "metadata": {},
   "outputs": [],
   "source": [
    "ad = ad[ad.obs['donor_id']!='D11']"
   ]
  },
  {
   "cell_type": "code",
   "execution_count": 58,
   "id": "2f452375-07cb-4e7a-8c02-f4056b1f079f",
   "metadata": {},
   "outputs": [],
   "source": [
    "assert ad.raw.X.nnz==ad.X.nnz\n",
    "assert all(ad.raw.X.indices==ad.X.indices)"
   ]
  },
  {
   "cell_type": "code",
   "execution_count": 59,
   "id": "be3a0301-1c99-41ea-a17f-4845667e910e",
   "metadata": {},
   "outputs": [],
   "source": [
    "# ad.obs['Age_bin'] = ad.obs['age']"
   ]
  },
  {
   "cell_type": "code",
   "execution_count": 60,
   "id": "26921a1e-ed5c-42a6-8ec8-e1f1519ebead",
   "metadata": {},
   "outputs": [],
   "source": [
    "ad.obs.rename(columns={'age':'age_decade'},inplace=True)"
   ]
  },
  {
   "cell_type": "markdown",
   "id": "83db4a3d-ab72-4160-becd-78f303d36448",
   "metadata": {},
   "source": [
    "AH2 is reported as 45-50 in Supp. Table but 40-45 in AnnData.  Numbers match otherwise."
   ]
  },
  {
   "cell_type": "code",
   "execution_count": 61,
   "id": "4b118c87-dde9-4545-8fa7-d5565ac8d891",
   "metadata": {},
   "outputs": [
    {
     "name": "stderr",
     "output_type": "stream",
     "text": [
      "/tmp/ipykernel_20014/395475291.py:6: ImplicitModificationWarning: Trying to modify attribute `.obs` of view, initializing view as actual.\n",
      "  ad.obs['Age_bin'] = ad.obs['donor_id'].map(age_map)\n"
     ]
    }
   ],
   "source": [
    "age_map = {'A61':'70-75','AH1':'45-50','AH2':'45-50',\n",
    "           'AV10':'20-25','AV13':'70-75','AV14':'45-50',\n",
    "           'AV3':'60-65','D3':'55-60','D7':'60-65',\n",
    "           'D8':'45-50'}\n",
    "           \n",
    "ad.obs['Age_bin'] = ad.obs['donor_id'].map(age_map)"
   ]
  },
  {
   "cell_type": "code",
   "execution_count": 62,
   "id": "58403839-9c52-473c-8432-92a9b9bf79dd",
   "metadata": {},
   "outputs": [],
   "source": [
    "ad.var.set_index('feature_name',inplace=True)\n"
   ]
  },
  {
   "cell_type": "code",
   "execution_count": 63,
   "id": "c232871e-f66b-47e6-a455-084ebaa01f9e",
   "metadata": {},
   "outputs": [],
   "source": [
    "ad.raw.var.set_index('feature_name',inplace=True)\n"
   ]
  },
  {
   "cell_type": "code",
   "execution_count": 64,
   "id": "a99c6c6f-db11-4554-bb8c-4821863448fc",
   "metadata": {},
   "outputs": [
    {
     "name": "stderr",
     "output_type": "stream",
     "text": [
      "/tmp/ipykernel_20014/2395590159.py:3: ImplicitModificationWarning: Trying to modify attribute `.obs` of view, initializing view as actual.\n",
      "  ad.obs['xist'] = None\n"
     ]
    }
   ],
   "source": [
    "filt_neur=ad.obs['cell_type'].str.contains( \"|\".join(neuron_cts),regex=True)\n",
    "ad = ad[filt_neur]\n",
    "ad.obs['xist'] = None\n",
    "cf=ad[:,'XIST'].X.toarray().squeeze()>0\n",
    "ad.obs.loc[cf,'xist']= 'present'\n",
    "ad.obs.loc[~cf,'xist']= 'absent'"
   ]
  },
  {
   "cell_type": "code",
   "execution_count": 65,
   "id": "448895a6-1a70-430c-a3c6-f1c3d4864359",
   "metadata": {},
   "outputs": [],
   "source": [
    "ad = dc.get_pseudobulk(ad,sample_col='donor_id',groups_col='xist',\n",
    "    mode='sum',\n",
    "    min_cells=0,\n",
    "    min_counts=0,use_raw=True)"
   ]
  },
  {
   "cell_type": "code",
   "execution_count": 66,
   "id": "6d767564-ae08-4e18-83ee-438b2af1259c",
   "metadata": {},
   "outputs": [
    {
     "data": {
      "text/html": [
       "<div>\n",
       "<style scoped>\n",
       "    .dataframe tbody tr th:only-of-type {\n",
       "        vertical-align: middle;\n",
       "    }\n",
       "\n",
       "    .dataframe tbody tr th {\n",
       "        vertical-align: top;\n",
       "    }\n",
       "\n",
       "    .dataframe thead th {\n",
       "        text-align: right;\n",
       "    }\n",
       "</style>\n",
       "<table border=\"1\" class=\"dataframe\">\n",
       "  <thead>\n",
       "    <tr style=\"text-align: right;\">\n",
       "      <th></th>\n",
       "      <th>donor_id</th>\n",
       "      <th>Age_bin</th>\n",
       "    </tr>\n",
       "  </thead>\n",
       "  <tbody>\n",
       "    <tr>\n",
       "      <th>A61_absent</th>\n",
       "      <td>A61</td>\n",
       "      <td>70-75</td>\n",
       "    </tr>\n",
       "    <tr>\n",
       "      <th>AH1_absent</th>\n",
       "      <td>AH1</td>\n",
       "      <td>45-50</td>\n",
       "    </tr>\n",
       "    <tr>\n",
       "      <th>AH2_absent</th>\n",
       "      <td>AH2</td>\n",
       "      <td>45-50</td>\n",
       "    </tr>\n",
       "    <tr>\n",
       "      <th>AV10_absent</th>\n",
       "      <td>AV10</td>\n",
       "      <td>20-25</td>\n",
       "    </tr>\n",
       "    <tr>\n",
       "      <th>AV13_absent</th>\n",
       "      <td>AV13</td>\n",
       "      <td>70-75</td>\n",
       "    </tr>\n",
       "    <tr>\n",
       "      <th>AV14_absent</th>\n",
       "      <td>AV14</td>\n",
       "      <td>45-50</td>\n",
       "    </tr>\n",
       "    <tr>\n",
       "      <th>AV3_absent</th>\n",
       "      <td>AV3</td>\n",
       "      <td>60-65</td>\n",
       "    </tr>\n",
       "    <tr>\n",
       "      <th>D3_absent</th>\n",
       "      <td>D3</td>\n",
       "      <td>55-60</td>\n",
       "    </tr>\n",
       "    <tr>\n",
       "      <th>D7_absent</th>\n",
       "      <td>D7</td>\n",
       "      <td>60-65</td>\n",
       "    </tr>\n",
       "    <tr>\n",
       "      <th>D8_absent</th>\n",
       "      <td>D8</td>\n",
       "      <td>45-50</td>\n",
       "    </tr>\n",
       "  </tbody>\n",
       "</table>\n",
       "</div>"
      ],
      "text/plain": [
       "            donor_id Age_bin\n",
       "A61_absent       A61   70-75\n",
       "AH1_absent       AH1   45-50\n",
       "AH2_absent       AH2   45-50\n",
       "AV10_absent     AV10   20-25\n",
       "AV13_absent     AV13   70-75\n",
       "AV14_absent     AV14   45-50\n",
       "AV3_absent       AV3   60-65\n",
       "D3_absent         D3   55-60\n",
       "D7_absent         D7   60-65\n",
       "D8_absent         D8   45-50"
      ]
     },
     "execution_count": 66,
     "metadata": {},
     "output_type": "execute_result"
    }
   ],
   "source": [
    "ad.obs[['donor_id','Age_bin']].drop_duplicates()"
   ]
  },
  {
   "cell_type": "code",
   "execution_count": 67,
   "id": "9f50943f-ed7e-4d90-869a-b398a2179a35",
   "metadata": {},
   "outputs": [],
   "source": [
    "ads[dataset] = ad.copy()"
   ]
  },
  {
   "cell_type": "markdown",
   "id": "cfc138e6-6a17-4d46-8a59-77b7fe911c50",
   "metadata": {},
   "source": [
    "## Knight-Schrijver"
   ]
  },
  {
   "cell_type": "code",
   "execution_count": 68,
   "id": "b867153a-52bc-4504-89d1-77ebcae5635e",
   "metadata": {},
   "outputs": [],
   "source": [
    "dataset = 'knight_schrijver'\n",
    "ad = sc.read_h5ad(rt+dataset+'/'+filenames[dataset])"
   ]
  },
  {
   "cell_type": "code",
   "execution_count": 69,
   "id": "73c3eb7d-2b60-4ef0-956c-5b532ae22f3b",
   "metadata": {},
   "outputs": [],
   "source": [
    "ad=ad[ad.obs['is_primary_data']]"
   ]
  },
  {
   "cell_type": "code",
   "execution_count": 70,
   "id": "8166543b-ad7f-43c5-bb3c-60b646d49ae5",
   "metadata": {},
   "outputs": [],
   "source": [
    "assert ad.raw.X.nnz==ad.X.nnz\n",
    "assert all(ad.raw.X.indices==ad.X.indices)"
   ]
  },
  {
   "cell_type": "code",
   "execution_count": 71,
   "id": "cc101a1a-f804-4509-a0cc-dcb2f370f1cf",
   "metadata": {},
   "outputs": [
    {
     "name": "stderr",
     "output_type": "stream",
     "text": [
      "/tmp/ipykernel_20014/4208264336.py:1: ImplicitModificationWarning: Trying to modify attribute `.obs` of view, initializing view as actual.\n",
      "  ad.obs['age'] = 0 #all fetal\n"
     ]
    }
   ],
   "source": [
    "ad.obs['age'] = 0 #all fetal"
   ]
  },
  {
   "cell_type": "code",
   "execution_count": 72,
   "id": "779c5e51-bf0f-44e2-9f56-d9e40405b880",
   "metadata": {},
   "outputs": [],
   "source": [
    "ad.var.set_index('feature_name',inplace=True)\n",
    "ad.raw.var.set_index('feature_name',inplace=True)"
   ]
  },
  {
   "cell_type": "code",
   "execution_count": 73,
   "id": "846c2a1a-6cec-443d-b2bb-f6d48a97999b",
   "metadata": {},
   "outputs": [
    {
     "name": "stderr",
     "output_type": "stream",
     "text": [
      "/tmp/ipykernel_20014/2395590159.py:3: ImplicitModificationWarning: Trying to modify attribute `.obs` of view, initializing view as actual.\n",
      "  ad.obs['xist'] = None\n"
     ]
    }
   ],
   "source": [
    "filt_neur=ad.obs['cell_type'].str.contains( \"|\".join(neuron_cts),regex=True)\n",
    "ad = ad[filt_neur]\n",
    "ad.obs['xist'] = None\n",
    "cf=ad[:,'XIST'].X.toarray().squeeze()>0\n",
    "ad.obs.loc[cf,'xist']= 'present'\n",
    "ad.obs.loc[~cf,'xist']= 'absent'"
   ]
  },
  {
   "cell_type": "code",
   "execution_count": 74,
   "id": "8eda374b-95b3-43d4-b904-48593a6f3432",
   "metadata": {},
   "outputs": [],
   "source": [
    "ad = dc.get_pseudobulk(ad,sample_col='donor_id',groups_col='xist',\n",
    "    mode='sum',\n",
    "    min_cells=0,\n",
    "    min_counts=0,use_raw=True)"
   ]
  },
  {
   "cell_type": "code",
   "execution_count": 75,
   "id": "84b6cb35-55eb-4c7c-9c2a-5c58e0660595",
   "metadata": {},
   "outputs": [],
   "source": [
    "ads[dataset] = ad.copy()"
   ]
  },
  {
   "cell_type": "markdown",
   "id": "2413f274-b74a-40fb-b5bd-f663980c3a7d",
   "metadata": {},
   "source": [
    "## Kuppe"
   ]
  },
  {
   "cell_type": "code",
   "execution_count": 76,
   "id": "a25f50c1-cb6f-4501-8633-b32a4848aafc",
   "metadata": {},
   "outputs": [],
   "source": [
    "dataset = 'kuppe'\n",
    "ad = sc.read_h5ad(rt+dataset+'/'+filenames[dataset])"
   ]
  },
  {
   "cell_type": "code",
   "execution_count": 77,
   "id": "5dc58801-8e46-4a0e-9319-a63305d3cf45",
   "metadata": {},
   "outputs": [],
   "source": [
    "assert ad.raw.X.nnz==ad.X.nnz\n",
    "assert all(ad.raw.X.indices==ad.X.indices)"
   ]
  },
  {
   "cell_type": "code",
   "execution_count": 78,
   "id": "c6c51d4f-f4c9-4a83-9e46-93539c628fb7",
   "metadata": {},
   "outputs": [],
   "source": [
    "ad.obs['age'] = ad.obs['development_stage'].str.split('-').str[0].astype(float)"
   ]
  },
  {
   "cell_type": "code",
   "execution_count": 79,
   "id": "c4a936d8-1031-4e8b-aed9-4db81d7e1a15",
   "metadata": {},
   "outputs": [],
   "source": [
    "ad.var.set_index('feature_name',inplace=True)"
   ]
  },
  {
   "cell_type": "code",
   "execution_count": 80,
   "id": "ec78473f-8e91-4ed5-bb36-39f2c5759a23",
   "metadata": {},
   "outputs": [
    {
     "name": "stderr",
     "output_type": "stream",
     "text": [
      "/tmp/ipykernel_20014/2395590159.py:3: ImplicitModificationWarning: Trying to modify attribute `.obs` of view, initializing view as actual.\n",
      "  ad.obs['xist'] = None\n"
     ]
    }
   ],
   "source": [
    "filt_neur=ad.obs['cell_type'].str.contains( \"|\".join(neuron_cts),regex=True)\n",
    "ad = ad[filt_neur]\n",
    "ad.obs['xist'] = None\n",
    "cf=ad[:,'XIST'].X.toarray().squeeze()>0\n",
    "ad.obs.loc[cf,'xist']= 'present'\n",
    "ad.obs.loc[~cf,'xist']= 'absent'"
   ]
  },
  {
   "cell_type": "code",
   "execution_count": 81,
   "id": "3bfcede8-1890-46de-8651-b2d39a07c1e9",
   "metadata": {},
   "outputs": [],
   "source": [
    "ad = dc.get_pseudobulk(ad,sample_col='donor_id',groups_col='xist',\n",
    "    mode='sum',\n",
    "    min_cells=0,\n",
    "    min_counts=0,use_raw=True)"
   ]
  },
  {
   "cell_type": "code",
   "execution_count": 82,
   "id": "111bb74b-1757-4f4f-86bd-2a14449ee873",
   "metadata": {},
   "outputs": [],
   "source": [
    "ads[dataset] = ad.copy()"
   ]
  },
  {
   "cell_type": "markdown",
   "id": "2a34a632-0f70-4639-a01c-9dade6576cb6",
   "metadata": {},
   "source": [
    "## Linna-Kuosmanen"
   ]
  },
  {
   "cell_type": "code",
   "execution_count": 83,
   "id": "6383d4e8-9235-4cf6-8037-0214093cb489",
   "metadata": {},
   "outputs": [],
   "source": [
    "dataset = 'linna_kuosmanen'\n",
    "ad1 = sc.read_h5ad(rt+dataset+'/'+filenames[dataset][0])\n",
    "ad2 = sc.read_h5ad(rt+dataset+'/'+filenames[dataset][1])"
   ]
  },
  {
   "cell_type": "code",
   "execution_count": 84,
   "id": "552f267e-4e73-4dec-b8ca-c1ed65fab346",
   "metadata": {},
   "outputs": [],
   "source": [
    "assert ad1.obs['is_primary_data'].mean()==1\n",
    "assert ad2.obs['is_primary_data'].mean()==1"
   ]
  },
  {
   "cell_type": "code",
   "execution_count": 85,
   "id": "d4e989f1-7f38-416f-b824-6acc921b5b2c",
   "metadata": {},
   "outputs": [],
   "source": [
    "ad1.var.set_index('feature_name',inplace=True)\n",
    "ad2.var.set_index('feature_name',inplace=True)"
   ]
  },
  {
   "cell_type": "code",
   "execution_count": 86,
   "id": "9843b2f5-4d1e-4685-b81c-2af1630054a2",
   "metadata": {},
   "outputs": [
    {
     "name": "stderr",
     "output_type": "stream",
     "text": [
      "/home/ec2-user/miniconda/lib/python3.9/site-packages/anndata/_core/anndata.py:1897: UserWarning: Observation names are not unique. To make them unique, call `.obs_names_make_unique`.\n",
      "  utils.warn_names_duplicates(\"obs\")\n",
      "/home/ec2-user/miniconda/lib/python3.9/site-packages/anndata/_core/anndata.py:1897: UserWarning: Observation names are not unique. To make them unique, call `.obs_names_make_unique`.\n",
      "  utils.warn_names_duplicates(\"obs\")\n"
     ]
    }
   ],
   "source": [
    "ad = anndata.concat((ad1,ad2),axis=0)"
   ]
  },
  {
   "cell_type": "code",
   "execution_count": 87,
   "id": "08d39c95-ae8f-45ee-92d9-a1f3f8cc2634",
   "metadata": {},
   "outputs": [],
   "source": [
    "ad.obs_names_make_unique()"
   ]
  },
  {
   "cell_type": "code",
   "execution_count": 88,
   "id": "0f5ca669-f1df-49b9-afcc-0ed87960d627",
   "metadata": {},
   "outputs": [],
   "source": [
    "assert all(ad.raw.X.indices==ad.X.indices)\n",
    "assert ad.raw.X.nnz==ad.X.nnz"
   ]
  },
  {
   "cell_type": "code",
   "execution_count": 89,
   "id": "fa45e8d6-be60-494a-9083-87bbf29e5232",
   "metadata": {},
   "outputs": [],
   "source": [
    "age_map = {'pediatric stage':'0-9','postnatal stage':'10-19','third decade stage':'20-29',\n",
    "           'fourth decade stage':'30-39','fifth decade stage':'40-49','sixth decade stage':'50-59',\n",
    "           'seventh decade stage':'60-69','eighth decade stage':'70-79','ninth decade stage':'80-89'}"
   ]
  },
  {
   "cell_type": "code",
   "execution_count": 90,
   "id": "2d0442cc-ade6-482b-9aef-77c492e024e0",
   "metadata": {},
   "outputs": [
    {
     "data": {
      "text/plain": [
       "development_stage\n",
       "seventh decade stage    246548\n",
       "eighth decade stage     166929\n",
       "sixth decade stage      106508\n",
       "fifth decade stage       46551\n",
       "ninth decade stage       46526\n",
       "Name: count, dtype: int64"
      ]
     },
     "execution_count": 90,
     "metadata": {},
     "output_type": "execute_result"
    }
   ],
   "source": [
    "ad.obs['development_stage'].value_counts(dropna=False)"
   ]
  },
  {
   "cell_type": "code",
   "execution_count": 91,
   "id": "96fb4268-0cb8-4a67-9e18-109a1bb80f40",
   "metadata": {},
   "outputs": [],
   "source": [
    "ad.obs['Age_bin']  = ad.obs['development_stage'].map(age_map)"
   ]
  },
  {
   "cell_type": "code",
   "execution_count": 92,
   "id": "844a2a13-a1b5-41ce-a77b-1f8b04a20aee",
   "metadata": {},
   "outputs": [
    {
     "name": "stderr",
     "output_type": "stream",
     "text": [
      "/tmp/ipykernel_20014/2395590159.py:3: ImplicitModificationWarning: Trying to modify attribute `.obs` of view, initializing view as actual.\n",
      "  ad.obs['xist'] = None\n"
     ]
    }
   ],
   "source": [
    "filt_neur=ad.obs['cell_type'].str.contains( \"|\".join(neuron_cts),regex=True)\n",
    "ad = ad[filt_neur]\n",
    "ad.obs['xist'] = None\n",
    "cf=ad[:,'XIST'].X.toarray().squeeze()>0\n",
    "ad.obs.loc[cf,'xist']= 'present'\n",
    "ad.obs.loc[~cf,'xist']= 'absent'"
   ]
  },
  {
   "cell_type": "code",
   "execution_count": 93,
   "id": "bf65b252-185d-4a75-acca-72583c9b8ef2",
   "metadata": {},
   "outputs": [],
   "source": [
    "ad = dc.get_pseudobulk(ad,sample_col='donor_id',groups_col='xist',\n",
    "    mode='sum',\n",
    "    min_cells=0,\n",
    "    min_counts=0,use_raw=True)"
   ]
  },
  {
   "cell_type": "code",
   "execution_count": 94,
   "id": "e35207f1-37cc-4aca-9ab0-ea0042cc2758",
   "metadata": {},
   "outputs": [],
   "source": [
    "ads[dataset] = ad.copy()"
   ]
  },
  {
   "cell_type": "markdown",
   "id": "c4e33157-262e-410d-9fba-e78f933b2ccb",
   "metadata": {},
   "source": [
    "## Litvinukova"
   ]
  },
  {
   "cell_type": "code",
   "execution_count": 95,
   "id": "2f87c292-7c51-43c4-9f5e-3b58dd154d2e",
   "metadata": {},
   "outputs": [],
   "source": [
    "dataset = 'litvinukova'\n",
    "ad = sc.read_h5ad(rt+dataset+'/'+filenames[dataset])"
   ]
  },
  {
   "cell_type": "code",
   "execution_count": 96,
   "id": "30f49403-c42e-4f9c-9311-a301270fc9ca",
   "metadata": {},
   "outputs": [],
   "source": [
    "assert all(ad.raw.X.indices==ad.X.indices)\n",
    "assert ad.raw.X.nnz==ad.X.nnz "
   ]
  },
  {
   "cell_type": "markdown",
   "id": "b00f45bf-01d7-432c-b644-8e6be9279c00",
   "metadata": {},
   "source": [
    "Bins in the AnnData are coarser than in Supplementary Table 1."
   ]
  },
  {
   "cell_type": "code",
   "execution_count": 97,
   "id": "09c0beed-0501-44a3-b011-6665d7da2eae",
   "metadata": {},
   "outputs": [],
   "source": [
    "age_map = {'D1':'50-55','D2':'60-65','D3':'55-60',\n",
    "           'D4':'70-75','D5':'65-70','D6':'70-75',\n",
    "           'D7':'60-65','D11':'60-65','H2':'50-55',\n",
    "           'H3':'50-55','H4':'55-60','H5':'50-55',\n",
    "           'H6':'40-45','H7':'45-50'}\n",
    "           \n",
    "ad.obs['Age_bin'] = ad.obs['donor_id'].map(age_map)"
   ]
  },
  {
   "cell_type": "code",
   "execution_count": 98,
   "id": "9ba16531-97df-4c97-912e-495a309f5e0f",
   "metadata": {},
   "outputs": [],
   "source": [
    "ad.var.set_index('feature_name',inplace=True)"
   ]
  },
  {
   "cell_type": "code",
   "execution_count": 99,
   "id": "001d23b4-294f-47ec-8052-13b824e3bfdf",
   "metadata": {},
   "outputs": [
    {
     "name": "stderr",
     "output_type": "stream",
     "text": [
      "/tmp/ipykernel_20014/2395590159.py:3: ImplicitModificationWarning: Trying to modify attribute `.obs` of view, initializing view as actual.\n",
      "  ad.obs['xist'] = None\n"
     ]
    }
   ],
   "source": [
    "filt_neur=ad.obs['cell_type'].str.contains( \"|\".join(neuron_cts),regex=True)\n",
    "ad = ad[filt_neur]\n",
    "ad.obs['xist'] = None\n",
    "cf=ad[:,'XIST'].X.toarray().squeeze()>0\n",
    "ad.obs.loc[cf,'xist']= 'present'\n",
    "ad.obs.loc[~cf,'xist']= 'absent'"
   ]
  },
  {
   "cell_type": "code",
   "execution_count": 100,
   "id": "b0029853-263e-4a57-8f72-4f8d09b20fa3",
   "metadata": {},
   "outputs": [],
   "source": [
    "ad = dc.get_pseudobulk(ad,sample_col='donor_id',groups_col='xist',\n",
    "    mode='sum',\n",
    "    min_cells=0,\n",
    "    min_counts=0,use_raw=True)"
   ]
  },
  {
   "cell_type": "code",
   "execution_count": 101,
   "id": "7dbf6d33-109d-4dc4-9e81-9654e48a0922",
   "metadata": {},
   "outputs": [],
   "source": [
    "ads[dataset] = ad.copy()"
   ]
  },
  {
   "cell_type": "markdown",
   "id": "d50d4276-4a9f-4b0d-b0f4-128db00c7733",
   "metadata": {},
   "source": [
    "## Reichart"
   ]
  },
  {
   "cell_type": "code",
   "execution_count": 102,
   "id": "d98b66c4-b724-4353-a833-b002c8e052d1",
   "metadata": {},
   "outputs": [],
   "source": [
    "dataset = 'reichart'\n",
    "ad = sc.read_h5ad(rt+dataset+'/'+filenames[dataset])"
   ]
  },
  {
   "cell_type": "code",
   "execution_count": 103,
   "id": "341cd9d4-b3ee-475b-8852-4b4603148a2c",
   "metadata": {},
   "outputs": [],
   "source": [
    "ad=ad[ad.obs['is_primary_data']]"
   ]
  },
  {
   "cell_type": "code",
   "execution_count": 104,
   "id": "97541aff-4719-4747-ba3b-958917e62cae",
   "metadata": {},
   "outputs": [],
   "source": [
    "assert ad.raw.X.nnz==ad.X.nnz\n",
    "assert all(ad.raw.X.indices==ad.X.indices)"
   ]
  },
  {
   "cell_type": "code",
   "execution_count": 105,
   "id": "4160a722-b229-4eee-a727-1e7f90c76053",
   "metadata": {},
   "outputs": [],
   "source": [
    "age_map = {'pediatric stage':'0-9','postnatal stage':'10-19','third decade stage':'20-29',\n",
    "           'fourth decade stage':'30-39','fifth decade stage':'40-49','sixth decade stage':'50-59',\n",
    "           'seventh decade stage':'60-69','eighth decade stage':'70-79'}"
   ]
  },
  {
   "cell_type": "code",
   "execution_count": 106,
   "id": "6f2a6d48-e472-422a-ad17-028faf34fa23",
   "metadata": {},
   "outputs": [
    {
     "name": "stderr",
     "output_type": "stream",
     "text": [
      "/tmp/ipykernel_20014/1655173530.py:1: ImplicitModificationWarning: Trying to modify attribute `.obs` of view, initializing view as actual.\n",
      "  ad.obs['Age_bin']  = ad.obs['development_stage'].map(age_map)\n"
     ]
    }
   ],
   "source": [
    "ad.obs['Age_bin']  = ad.obs['development_stage'].map(age_map)"
   ]
  },
  {
   "cell_type": "code",
   "execution_count": 107,
   "id": "2c29e7db-8dfb-4378-9974-71a130f54988",
   "metadata": {},
   "outputs": [],
   "source": [
    "ad.var.set_index('feature_name',inplace=True)"
   ]
  },
  {
   "cell_type": "code",
   "execution_count": 108,
   "id": "91786ab8-4a92-469e-a51e-cf23d0f19d39",
   "metadata": {},
   "outputs": [
    {
     "name": "stderr",
     "output_type": "stream",
     "text": [
      "/tmp/ipykernel_20014/2395590159.py:3: ImplicitModificationWarning: Trying to modify attribute `.obs` of view, initializing view as actual.\n",
      "  ad.obs['xist'] = None\n"
     ]
    }
   ],
   "source": [
    "filt_neur=ad.obs['cell_type'].str.contains( \"|\".join(neuron_cts),regex=True)\n",
    "ad = ad[filt_neur]\n",
    "ad.obs['xist'] = None\n",
    "cf=ad[:,'XIST'].X.toarray().squeeze()>0\n",
    "ad.obs.loc[cf,'xist']= 'present'\n",
    "ad.obs.loc[~cf,'xist']= 'absent'"
   ]
  },
  {
   "cell_type": "code",
   "execution_count": 109,
   "id": "25dae674-bddf-41e7-9c2e-e2dc0b5052d5",
   "metadata": {},
   "outputs": [],
   "source": [
    "ad = dc.get_pseudobulk(ad,sample_col='donor_id',groups_col='xist',\n",
    "    mode='sum',\n",
    "    min_cells=0,\n",
    "    min_counts=0,use_raw=True)"
   ]
  },
  {
   "cell_type": "code",
   "execution_count": 110,
   "id": "0fe47301-9269-4272-8eea-b0fea288fd8d",
   "metadata": {},
   "outputs": [],
   "source": [
    "ads[dataset] = ad.copy()"
   ]
  },
  {
   "cell_type": "markdown",
   "id": "45314b15-228a-46cd-9338-78272305109f",
   "metadata": {},
   "source": [
    "## Selewa"
   ]
  },
  {
   "cell_type": "code",
   "execution_count": 111,
   "id": "03d52d7b-cf1e-40b4-9037-3dedf067ec79",
   "metadata": {},
   "outputs": [],
   "source": [
    "dataset = 'selewa'\n",
    "ad = sc.read_h5ad(rt+dataset+'/'+filenames[dataset])"
   ]
  },
  {
   "cell_type": "code",
   "execution_count": 112,
   "id": "f5edcd06-4b0c-4312-8399-bafa6b611c32",
   "metadata": {},
   "outputs": [],
   "source": [
    "ad=ad[ad.obs['is_primary_data']]"
   ]
  },
  {
   "cell_type": "code",
   "execution_count": 113,
   "id": "3cbd8943-6e6b-463f-88c7-c2bb94faf964",
   "metadata": {},
   "outputs": [
    {
     "ename": "AssertionError",
     "evalue": "",
     "output_type": "error",
     "traceback": [
      "\u001b[0;31m---------------------------------------------------------------------------\u001b[0m",
      "\u001b[0;31mAssertionError\u001b[0m                            Traceback (most recent call last)",
      "Cell \u001b[0;32mIn[113], line 1\u001b[0m\n\u001b[0;32m----> 1\u001b[0m \u001b[38;5;28;01massert\u001b[39;00m ad\u001b[38;5;241m.\u001b[39mraw\u001b[38;5;241m.\u001b[39mX\u001b[38;5;241m.\u001b[39mnnz\u001b[38;5;241m==\u001b[39mad\u001b[38;5;241m.\u001b[39mX\u001b[38;5;241m.\u001b[39mnnz\n\u001b[1;32m      2\u001b[0m \u001b[38;5;28;01massert\u001b[39;00m \u001b[38;5;28mall\u001b[39m(ad\u001b[38;5;241m.\u001b[39mraw\u001b[38;5;241m.\u001b[39mX\u001b[38;5;241m.\u001b[39mindices\u001b[38;5;241m==\u001b[39mad\u001b[38;5;241m.\u001b[39mX\u001b[38;5;241m.\u001b[39mindices)\n",
      "\u001b[0;31mAssertionError\u001b[0m: "
     ]
    }
   ],
   "source": [
    "assert ad.raw.X.nnz==ad.X.nnz\n",
    "assert all(ad.raw.X.indices==ad.X.indices)"
   ]
  },
  {
   "cell_type": "code",
   "execution_count": 114,
   "id": "68e11856-20b2-4dd4-9548-a3500c84dfc8",
   "metadata": {},
   "outputs": [
    {
     "name": "stderr",
     "output_type": "stream",
     "text": [
      "/tmp/ipykernel_20014/1463941940.py:1: ImplicitModificationWarning: Trying to modify attribute `.obs` of view, initializing view as actual.\n",
      "  ad.obs['age'] = ad.obs['development_stage'].str.split('-').str[0].astype(float)\n"
     ]
    }
   ],
   "source": [
    "ad.obs['age'] = ad.obs['development_stage'].str.split('-').str[0].astype(float)"
   ]
  },
  {
   "cell_type": "code",
   "execution_count": 115,
   "id": "85d67d2b-bddd-4952-bfbb-2e082109d785",
   "metadata": {},
   "outputs": [],
   "source": [
    "ad.var.set_index('feature_name',inplace=True)\n",
    "ad.raw.var.set_index('feature_name',inplace=True)"
   ]
  },
  {
   "cell_type": "code",
   "execution_count": 116,
   "id": "9e98e5f6-5239-4588-9b75-7e8cb1bc3ed8",
   "metadata": {},
   "outputs": [
    {
     "name": "stderr",
     "output_type": "stream",
     "text": [
      "/tmp/ipykernel_20014/938230975.py:3: ImplicitModificationWarning: Trying to modify attribute `.obs` of view, initializing view as actual.\n",
      "  ad.obs['xist'] = None\n"
     ]
    }
   ],
   "source": [
    "filt_neur=ad.obs['cell_type'].str.contains( \"|\".join(neuron_cts),regex=True)\n",
    "ad = ad[filt_neur]\n",
    "ad.obs['xist'] = None\n",
    "cf=ad.raw[:,'XIST'].X.toarray().squeeze()>0\n",
    "ad.obs.loc[cf,'xist']= 'present'\n",
    "ad.obs.loc[~cf,'xist']= 'absent'"
   ]
  },
  {
   "cell_type": "code",
   "execution_count": 117,
   "id": "740e39a3-3570-48e6-9b7e-33071bef73b5",
   "metadata": {},
   "outputs": [],
   "source": [
    "ad = dc.get_pseudobulk(ad,sample_col='donor_id',groups_col='xist',\n",
    "    mode='sum',\n",
    "    min_cells=0,\n",
    "    min_counts=0,use_raw=True)"
   ]
  },
  {
   "cell_type": "code",
   "execution_count": 118,
   "id": "a69186f3-dbe5-4735-b09c-2f4d68bd69c8",
   "metadata": {},
   "outputs": [],
   "source": [
    "ads[dataset] = ad.copy()"
   ]
  },
  {
   "cell_type": "markdown",
   "id": "ac471f5b-ba7d-46e1-a244-c618e7fd05e0",
   "metadata": {},
   "source": [
    "## Sim"
   ]
  },
  {
   "cell_type": "code",
   "execution_count": 119,
   "id": "d27bafaa-b6d6-44d2-8522-4b86c01064c7",
   "metadata": {},
   "outputs": [],
   "source": [
    "dataset = 'sim'\n",
    "ad = sc.read_h5ad(rt+dataset+'/'+filenames[dataset])"
   ]
  },
  {
   "cell_type": "code",
   "execution_count": 120,
   "id": "921ad57c-6135-4202-a76d-f019ee55b4f2",
   "metadata": {},
   "outputs": [],
   "source": [
    "ad=ad[ad.obs['is_primary_data']]"
   ]
  },
  {
   "cell_type": "code",
   "execution_count": 121,
   "id": "0735685a-676d-4cb5-8773-64cf7966e317",
   "metadata": {},
   "outputs": [
    {
     "ename": "AssertionError",
     "evalue": "",
     "output_type": "error",
     "traceback": [
      "\u001b[0;31m---------------------------------------------------------------------------\u001b[0m",
      "\u001b[0;31mAssertionError\u001b[0m                            Traceback (most recent call last)",
      "Cell \u001b[0;32mIn[121], line 1\u001b[0m\n\u001b[0;32m----> 1\u001b[0m \u001b[38;5;28;01massert\u001b[39;00m ad\u001b[38;5;241m.\u001b[39mraw\u001b[38;5;241m.\u001b[39mX\u001b[38;5;241m.\u001b[39mnnz\u001b[38;5;241m==\u001b[39mad\u001b[38;5;241m.\u001b[39mX\u001b[38;5;241m.\u001b[39mnnz\n\u001b[1;32m      2\u001b[0m \u001b[38;5;28;01massert\u001b[39;00m \u001b[38;5;28mall\u001b[39m(ad\u001b[38;5;241m.\u001b[39mraw\u001b[38;5;241m.\u001b[39mX\u001b[38;5;241m.\u001b[39mindices\u001b[38;5;241m==\u001b[39mad\u001b[38;5;241m.\u001b[39mX\u001b[38;5;241m.\u001b[39mindices)\n",
      "\u001b[0;31mAssertionError\u001b[0m: "
     ]
    }
   ],
   "source": [
    "assert ad.raw.X.nnz==ad.X.nnz\n",
    "assert all(ad.raw.X.indices==ad.X.indices)"
   ]
  },
  {
   "cell_type": "code",
   "execution_count": 122,
   "id": "e47b575e-6532-4f4c-b6b8-a50eadb45ae0",
   "metadata": {},
   "outputs": [
    {
     "name": "stderr",
     "output_type": "stream",
     "text": [
      "/tmp/ipykernel_20014/3547689480.py:2: ImplicitModificationWarning: Trying to modify attribute `.obs` of view, initializing view as actual.\n",
      "  ad.obs['age'] = None\n"
     ]
    }
   ],
   "source": [
    "filt = ~ad.obs['sample_id'].str.startswith('fetal')\n",
    "ad.obs['age'] = None\n",
    "ad.obs.loc[filt,'age'] = ad.obs.loc[filt,'development_stage'].str.split('-').str[0].astype(float)\n",
    "ad.obs.loc[~filt,'age'] = 0"
   ]
  },
  {
   "cell_type": "code",
   "execution_count": 123,
   "id": "64797bee-3f0b-4c31-aea4-3a93e9e2a504",
   "metadata": {},
   "outputs": [],
   "source": [
    "ad.var.set_index('feature_name',inplace=True)\n",
    "ad.raw.var.set_index('feature_name',inplace=True)"
   ]
  },
  {
   "cell_type": "code",
   "execution_count": 124,
   "id": "e4c7e8d2-3afc-4f21-ad80-92cb6ab28fa3",
   "metadata": {},
   "outputs": [
    {
     "name": "stderr",
     "output_type": "stream",
     "text": [
      "/tmp/ipykernel_20014/938230975.py:3: ImplicitModificationWarning: Trying to modify attribute `.obs` of view, initializing view as actual.\n",
      "  ad.obs['xist'] = None\n"
     ]
    }
   ],
   "source": [
    "filt_neur=ad.obs['cell_type'].str.contains( \"|\".join(neuron_cts),regex=True)\n",
    "ad = ad[filt_neur]\n",
    "ad.obs['xist'] = None\n",
    "cf=ad.raw[:,'XIST'].X.toarray().squeeze()>0 #imputed\n",
    "ad.obs.loc[cf,'xist']= 'present'\n",
    "ad.obs.loc[~cf,'xist']= 'absent'"
   ]
  },
  {
   "cell_type": "code",
   "execution_count": 125,
   "id": "d777a951-1221-4d8c-9812-db42cdb7c677",
   "metadata": {},
   "outputs": [],
   "source": [
    "ad = dc.get_pseudobulk(ad,sample_col='donor_id',groups_col='xist',\n",
    "    mode='sum',\n",
    "    min_cells=0,\n",
    "    min_counts=0,use_raw=True)"
   ]
  },
  {
   "cell_type": "code",
   "execution_count": 126,
   "id": "73a8110d-72b4-425a-b77a-dec454f1ca95",
   "metadata": {},
   "outputs": [],
   "source": [
    "ads[dataset] = ad.copy()"
   ]
  },
  {
   "cell_type": "markdown",
   "id": "3be0b23b-2d90-4c5e-b981-acf99dd64077",
   "metadata": {},
   "source": [
    "## Simonson"
   ]
  },
  {
   "cell_type": "code",
   "execution_count": 127,
   "id": "9a9edb13-de67-4e74-9454-684f999f9a68",
   "metadata": {},
   "outputs": [],
   "source": [
    "dataset = 'simonson'\n",
    "ad = sc.read_h5ad(rt+dataset+'/'+filenames[dataset])"
   ]
  },
  {
   "cell_type": "code",
   "execution_count": 128,
   "id": "a9433c6b-6b1e-47d0-9fdb-b1e185c881ff",
   "metadata": {},
   "outputs": [],
   "source": [
    "ad.obs.rename(columns={'cell_type_leiden0.5':'cell_type'},inplace=True)"
   ]
  },
  {
   "cell_type": "code",
   "execution_count": 129,
   "id": "3453d641-c197-409a-bae5-5ca4996406fe",
   "metadata": {},
   "outputs": [],
   "source": [
    "# assert ad.raw.X.nnz==ad.X.nnz #no raw"
   ]
  },
  {
   "cell_type": "code",
   "execution_count": 130,
   "id": "cf2ba5e6-d5be-49ed-8b48-f0e45e2498dd",
   "metadata": {},
   "outputs": [
    {
     "name": "stderr",
     "output_type": "stream",
     "text": [
      "/tmp/ipykernel_20014/2395590159.py:3: ImplicitModificationWarning: Trying to modify attribute `.obs` of view, initializing view as actual.\n",
      "  ad.obs['xist'] = None\n"
     ]
    }
   ],
   "source": [
    "filt_neur=ad.obs['cell_type'].str.contains( \"|\".join(neuron_cts),regex=True)\n",
    "ad = ad[filt_neur]\n",
    "ad.obs['xist'] = None\n",
    "cf=ad[:,'XIST'].X.toarray().squeeze()>0\n",
    "ad.obs.loc[cf,'xist']= 'present'\n",
    "ad.obs.loc[~cf,'xist']= 'absent'"
   ]
  },
  {
   "cell_type": "code",
   "execution_count": 131,
   "id": "8d07ce49-c433-4ff5-963f-931f0af55930",
   "metadata": {},
   "outputs": [],
   "source": [
    "ad = dc.get_pseudobulk(ad,sample_col='donor_id',groups_col='xist',\n",
    "    mode='sum',\n",
    "    min_cells=0,\n",
    "    min_counts=0,use_raw=False)"
   ]
  },
  {
   "cell_type": "code",
   "execution_count": 132,
   "id": "6e75d2d0-d3d7-4dd6-b7b4-e6295772f67b",
   "metadata": {},
   "outputs": [],
   "source": [
    "ads[dataset] = ad.copy()"
   ]
  },
  {
   "cell_type": "markdown",
   "id": "c4951976-e328-47b0-b71a-51a153543e7d",
   "metadata": {},
   "source": [
    "## Tucker"
   ]
  },
  {
   "cell_type": "code",
   "execution_count": 133,
   "id": "334511d9-5905-448c-9c22-994ba2d2b5a2",
   "metadata": {},
   "outputs": [],
   "source": [
    "dataset = 'tucker'\n",
    "ad = sc.read_h5ad(rt+dataset+'/'+filenames[dataset])"
   ]
  },
  {
   "cell_type": "code",
   "execution_count": 134,
   "id": "dcbbf551-56cc-4992-b9d8-e6762b8a7cb6",
   "metadata": {},
   "outputs": [],
   "source": [
    "ad.obs.rename(columns={'Cluster':'cell_type','biological.individual':'donor_id'},inplace=True)"
   ]
  },
  {
   "cell_type": "code",
   "execution_count": 135,
   "id": "1915a204-b491-4306-b494-e8de472dc3bd",
   "metadata": {},
   "outputs": [],
   "source": [
    "# assert ad.raw.X.nnz==ad.X.nnz # no raw"
   ]
  },
  {
   "cell_type": "code",
   "execution_count": 136,
   "id": "21cf3929-03f8-46d1-adcb-bb6fdef6646d",
   "metadata": {},
   "outputs": [
    {
     "name": "stdout",
     "output_type": "stream",
     "text": [
      "1600\n",
      "1666\n",
      "1681\n",
      "1702\n",
      "1708\n",
      "1723\n",
      "1221\n"
     ]
    }
   ],
   "source": [
    "for x in ad.obs['donor_id'].unique(): print(x)"
   ]
  },
  {
   "cell_type": "markdown",
   "id": "c0301449-2ea5-4741-97b1-c85bbc56e48c",
   "metadata": {},
   "source": [
    "Sexes and ages need to be read off Table 1 manually."
   ]
  },
  {
   "cell_type": "code",
   "execution_count": 137,
   "id": "d10fa029-2f5d-4041-aac1-c88258108ccb",
   "metadata": {},
   "outputs": [],
   "source": [
    "ad.obs['sex']=None\n",
    "female_donors = ['1221','1600','1708','1723']\n",
    "filt = ad.obs['donor_id'].str.contains( \"|\".join(female_donors),regex=True)\n",
    "ad.obs.loc[filt,'sex']='female'\n",
    "ad.obs.loc[~filt,'sex']='male'"
   ]
  },
  {
   "cell_type": "code",
   "execution_count": 138,
   "id": "4cd0125b-866d-49d6-ae53-79f416147844",
   "metadata": {},
   "outputs": [],
   "source": [
    "age_map = {'1221':52,'1600':51,'1666':54,'1681':39,'1702':59,'1708':60,'1723':47}\n",
    "ad.obs['age'] = ad.obs['donor_id'].map(age_map)"
   ]
  },
  {
   "cell_type": "code",
   "execution_count": 139,
   "id": "5ea3c347-1ef7-4ace-bd4f-9314d6d130e4",
   "metadata": {},
   "outputs": [
    {
     "name": "stderr",
     "output_type": "stream",
     "text": [
      "/tmp/ipykernel_20014/2395590159.py:3: ImplicitModificationWarning: Trying to modify attribute `.obs` of view, initializing view as actual.\n",
      "  ad.obs['xist'] = None\n"
     ]
    }
   ],
   "source": [
    "filt_neur=ad.obs['cell_type'].str.contains( \"|\".join(neuron_cts),regex=True)\n",
    "ad = ad[filt_neur]\n",
    "ad.obs['xist'] = None\n",
    "cf=ad[:,'XIST'].X.toarray().squeeze()>0\n",
    "ad.obs.loc[cf,'xist']= 'present'\n",
    "ad.obs.loc[~cf,'xist']= 'absent'"
   ]
  },
  {
   "cell_type": "code",
   "execution_count": 140,
   "id": "b75791ac-bcde-475e-96d9-b9d06298a81e",
   "metadata": {},
   "outputs": [],
   "source": [
    "ad = dc.get_pseudobulk(ad,sample_col='donor_id',groups_col='xist',\n",
    "    mode='sum',\n",
    "    min_cells=0,\n",
    "    min_counts=0,use_raw=False)"
   ]
  },
  {
   "cell_type": "code",
   "execution_count": 141,
   "id": "eae7db3c-afa6-4d0f-bb8c-f6d3fed5431e",
   "metadata": {},
   "outputs": [],
   "source": [
    "ads[dataset] = ad.copy()"
   ]
  },
  {
   "cell_type": "markdown",
   "id": "a9881e93-d99e-4136-81db-0c28bd4c8737",
   "metadata": {},
   "source": [
    "# Export"
   ]
  },
  {
   "cell_type": "code",
   "execution_count": 142,
   "id": "94ad6fbd-2aee-4fc7-aca1-859a3eddb17c",
   "metadata": {},
   "outputs": [
    {
     "name": "stdout",
     "output_type": "stream",
     "text": [
      "amrute\n",
      "brener\n",
      "eraslan\n",
      "hill\n",
      "kanemaru\n",
      "knight_schrijver\n",
      "kuppe\n",
      "linna_kuosmanen\n",
      "litvinukova\n",
      "reichart\n",
      "selewa\n",
      "sim\n",
      "simonson\n",
      "tucker\n",
      "amrute\n",
      "xist\n",
      "absent     25\n",
      "present    25\n",
      "Name: count, dtype: int64\n",
      "brener\n",
      "xist\n",
      "absent     7\n",
      "present    7\n",
      "Name: count, dtype: int64\n",
      "eraslan\n",
      "xist\n",
      "absent     3\n",
      "present    3\n",
      "Name: count, dtype: int64\n",
      "hill\n",
      "xist\n",
      "present    13\n",
      "absent      9\n",
      "Name: count, dtype: int64\n",
      "kanemaru\n",
      "xist\n",
      "absent     10\n",
      "present     9\n",
      "Name: count, dtype: int64\n",
      "knight_schrijver\n",
      "xist\n",
      "absent     6\n",
      "present    4\n",
      "Name: count, dtype: int64\n",
      "kuppe\n",
      "xist\n",
      "absent     20\n",
      "present    16\n",
      "Name: count, dtype: int64\n",
      "linna_kuosmanen\n",
      "xist\n",
      "absent     97\n",
      "present    90\n",
      "Name: count, dtype: int64\n",
      "litvinukova\n",
      "xist\n",
      "absent     14\n",
      "present    14\n",
      "Name: count, dtype: int64\n",
      "reichart\n",
      "xist\n",
      "absent     67\n",
      "present    67\n",
      "Name: count, dtype: int64\n",
      "selewa\n",
      "xist\n",
      "absent     3\n",
      "present    3\n",
      "Name: count, dtype: int64\n",
      "sim\n",
      "xist\n",
      "absent     8\n",
      "present    8\n",
      "Name: count, dtype: int64\n",
      "simonson\n",
      "xist\n",
      "present    15\n",
      "absent     14\n",
      "Name: count, dtype: int64\n",
      "tucker\n",
      "xist\n",
      "absent     7\n",
      "present    6\n",
      "Name: count, dtype: int64\n"
     ]
    }
   ],
   "source": [
    "for x in ads.keys():\n",
    "    print(x)\n",
    "    assert ((ads[x].X%1)==0).all()\n",
    "for x in ads.keys():\n",
    "    print(x)\n",
    "    print(ads[x].obs['xist'].value_counts())"
   ]
  },
  {
   "cell_type": "code",
   "execution_count": 143,
   "id": "7ce902c9-65f3-4656-88ab-8c9aa1ab0276",
   "metadata": {},
   "outputs": [],
   "source": [
    "with open('/home/ec2-user/curation/heart_datasets/gg_250327_heart_data_split_by_xist.p', 'wb') as fp:\n",
    "    pickle.dump(ads, fp)\n"
   ]
  },
  {
   "cell_type": "code",
   "execution_count": 145,
   "id": "c1cb9c21-e146-4d3c-9168-87b4fda93a72",
   "metadata": {},
   "outputs": [
    {
     "name": "stdout",
     "output_type": "stream",
     "text": [
      "f2b7d1752509686c721e2bca40b7a658  /home/ec2-user/curation/heart_datasets/gg_250327_heart_data_split_by_xist.p\n"
     ]
    }
   ],
   "source": [
    "!md5sum /home/ec2-user/curation/heart_datasets/gg_250327_heart_data_split_by_xist.p"
   ]
  },
  {
   "cell_type": "code",
   "execution_count": null,
   "id": "b4210667-9631-4b8d-b87b-afe868d031f6",
   "metadata": {},
   "outputs": [],
   "source": []
  }
 ],
 "metadata": {
  "kernelspec": {
   "display_name": "Python 3 (ipykernel)",
   "language": "python",
   "name": "python3"
  },
  "language_info": {
   "codemirror_mode": {
    "name": "ipython",
    "version": 3
   },
   "file_extension": ".py",
   "mimetype": "text/x-python",
   "name": "python",
   "nbconvert_exporter": "python",
   "pygments_lexer": "ipython3",
   "version": "3.9.7"
  }
 },
 "nbformat": 4,
 "nbformat_minor": 5
}
