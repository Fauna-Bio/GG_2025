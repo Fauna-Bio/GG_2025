{
 "cells": [
  {
   "cell_type": "markdown",
   "id": "888d6899-0e3c-4c19-800c-a942280756db",
   "metadata": {},
   "source": [
    "# 1. Dataset cell type pseudobulk assembly"
   ]
  },
  {
   "cell_type": "markdown",
   "id": "cad4729c-baad-4155-962e-244f28d25ad0",
   "metadata": {},
   "source": [
    "Load in datasets. Check availability of raw data. Construct pseudobulks."
   ]
  },
  {
   "cell_type": "code",
   "execution_count": 1,
   "id": "310af64e-5637-4969-9dd1-4ad7d6f58c2f",
   "metadata": {},
   "outputs": [],
   "source": [
    "import matplotlib.pyplot as plt\n",
    "import scanpy as sc\n",
    "import numpy as np\n",
    "import time"
   ]
  },
  {
   "cell_type": "code",
   "execution_count": 2,
   "id": "175b7688-856d-451d-b49e-682c83fc5865",
   "metadata": {},
   "outputs": [],
   "source": [
    "import decoupler as dc\n",
    "import pandas as pd\n",
    "import sys\n",
    "import anndata\n",
    "import pickle"
   ]
  },
  {
   "cell_type": "code",
   "execution_count": 3,
   "id": "1a66b7ee-6fe5-4bde-a12d-ccbdf4571147",
   "metadata": {},
   "outputs": [],
   "source": [
    "ads = {}"
   ]
  },
  {
   "cell_type": "code",
   "execution_count": 4,
   "id": "ec4ba8d0-3229-4abb-9c8e-edda38a17389",
   "metadata": {},
   "outputs": [],
   "source": [
    "rt = '/home/ec2-user/curation/'\n",
    "filenames = {'amrute':'ad.h5ad','brener':'ad.h5ad','chaffin':'human_dcm_hcm_scportal_03.17.2022.h5ad','eraslan':'ad.h5ad','hill':'ad.h5ad',\n",
    "            'litvinukova':'ad.h5ad','kanemaru':'ad.h5ad','kuppe':'ad.h5ad','reichart':'ad.h5ad','selewa':'ad.h5ad',\n",
    "             'knight_schrijver':'ad.h5ad',\n",
    "            'sim':'ad.h5ad','simonson':'ICM_scportal_05.24.2022.h5ad','tucker':'healthy_human_4chamber_map_unnormalized_V4.h5ad',\n",
    "            'linna_kuosmanen':['carebank.h5ad','periheart.h5ad']}\n",
    "\n",
    "neuron_cts = ['Glia','glia','neuron','Neuron','neural','Neural','Schwann']"
   ]
  },
  {
   "cell_type": "markdown",
   "id": "cf66033f-c387-4e5d-aafe-d83e1ea574a4",
   "metadata": {},
   "source": [
    "## Amrute"
   ]
  },
  {
   "cell_type": "code",
   "execution_count": 5,
   "id": "22b7c0aa-2b58-46f0-a431-aa86f40fd914",
   "metadata": {},
   "outputs": [],
   "source": [
    "dataset = 'amrute'\n",
    "ad = sc.read_h5ad(rt+dataset+'/'+filenames[dataset])"
   ]
  },
  {
   "cell_type": "code",
   "execution_count": 6,
   "id": "731e9bd0-da56-4773-848b-62f0dd353d93",
   "metadata": {},
   "outputs": [
    {
     "name": "stdout",
     "output_type": "stream",
     "text": [
      "8.7418131753239\n",
      "5099.0\n"
     ]
    }
   ],
   "source": [
    "print(ad.X.max())\n",
    "print(ad.raw.X.max())"
   ]
  },
  {
   "cell_type": "code",
   "execution_count": 7,
   "id": "db264fc5-eaf0-46a2-bfdc-ec4c226bbb33",
   "metadata": {},
   "outputs": [
    {
     "data": {
      "text/plain": [
       "orig.ident                TWCM-190-R-post\n",
       "nCount_RNA                         9235.0\n",
       "nFeature_RNA                         3069\n",
       "percent.mt                        0.06497\n",
       "scrublet_score                   0.142857\n",
       "scrublet_cluster_score           0.158129\n",
       "bh_pval                          0.028352\n",
       "nCount_SCT                         2364.0\n",
       "nFeature_SCT                         1286\n",
       "SCT_snn_res.0.3                        13\n",
       "seurat_clusters                        24\n",
       "cell.type                       Adipocyte\n",
       "condition                           Rpost\n",
       "RNA_snn_res.0.2                         0\n",
       "RNA_snn_res.0.3                         0\n",
       "RNA_snn_res.0.4                         2\n",
       "RNA_snn_res.0.5                        NA\n",
       "RNA_snn_res.0.6                        NA\n",
       "Fibro_z                               NaN\n",
       "Pericyte_z                            NaN\n",
       "SMC_z                                 NaN\n",
       "SCT_snn_res.0.1                         6\n",
       "SCT_snn_res.0.2                        10\n",
       "SCT_snn_res.0.4                        14\n",
       "SCT_snn_res.0.5                        17\n",
       "Name: TWCM-190-R-post_AACCATGGTTACTGAC, dtype: object"
      ]
     },
     "execution_count": 7,
     "metadata": {},
     "output_type": "execute_result"
    }
   ],
   "source": [
    "ad.obs.iloc[0]"
   ]
  },
  {
   "cell_type": "code",
   "execution_count": 8,
   "id": "de93523a-707d-4b5f-bb58-c5d497915c6d",
   "metadata": {},
   "outputs": [],
   "source": [
    "ad.obs.rename(columns={'orig.ident':'donor_id','cell.type':'cell_type'},inplace=True)"
   ]
  },
  {
   "cell_type": "code",
   "execution_count": 9,
   "id": "a8c508ce-bb01-4c35-9582-8129b5e13d40",
   "metadata": {},
   "outputs": [
    {
     "data": {
      "text/plain": [
       "array(['TWCM-190-R-post', 'TWCM-229-R-post', 'TWCM-229-R-pre',\n",
       "       'TWCM-239-R-post', 'TWCM-296-R-post', 'TWCM-296-R-pre',\n",
       "       'TWCM-359-NR-post', 'TWCM-359-NR-pre', 'TWCM-363-NR-post',\n",
       "       'TWCM-363-NR-pre', 'TWCM-373-NR-post', 'TWCM-373-NR-pre',\n",
       "       'TWCM-388-NR-pre', 'TWCM-397-NR-post', 'TWCM-397-NR-pre',\n",
       "       'TWCM-410-NR-post', 'TWCM-410-NR-pre', 'TWCM-463-R-post',\n",
       "       'TWCM-463-R-pre', 'TWCM-11-103', 'TWCM-11-41', 'TWCM-11-74',\n",
       "       'TWCM-11-78', 'TWCM-11-82', 'TWCM-13-152', 'TWCM-13-168',\n",
       "       'TWCM-13-192', 'TWCM-13-80', 'TWCM-14-173', 'TWCM-190-R-pre',\n",
       "       'TWCM-239-R-pre', 'TWCM-376-NR-post', 'TWCM-376-NR-pre',\n",
       "       'TWCM-378-NR-post', 'TWCM-378-NR-pre', 'TWCM-388-NR-post',\n",
       "       'H_ZC-11-292', 'TWCM-11-192', 'TWCM-13-104', 'TWCM-13-1'],\n",
       "      dtype=object)"
      ]
     },
     "execution_count": 9,
     "metadata": {},
     "output_type": "execute_result"
    }
   ],
   "source": [
    "ad.obs['donor_id'].unique()"
   ]
  },
  {
   "cell_type": "code",
   "execution_count": 10,
   "id": "02e5a7b6-8286-47cf-8862-4594fdd6d36f",
   "metadata": {},
   "outputs": [],
   "source": [
    "ad = ad[ad.obs['condition']!='Donor'] #donors are from Koenig"
   ]
  },
  {
   "cell_type": "markdown",
   "id": "d3083cd6-76c8-475b-8fb5-077de42ae634",
   "metadata": {},
   "source": [
    "Sexes and ages are not marked in the Seurat object."
   ]
  },
  {
   "cell_type": "code",
   "execution_count": 11,
   "id": "a9c1476c-6d6d-40f5-8a26-24aaf5b176c5",
   "metadata": {},
   "outputs": [
    {
     "name": "stderr",
     "output_type": "stream",
     "text": [
      "/tmp/ipykernel_23135/3479450247.py:1: ImplicitModificationWarning: Trying to modify attribute `.obs` of view, initializing view as actual.\n",
      "  ad.obs['sex']=None\n"
     ]
    }
   ],
   "source": [
    "ad.obs['sex']=None\n",
    "female_donors = ['TWCM-'+x for x in ['13-1','13-104','14-173','296','370','397']]\n",
    "filt = ad.obs['donor_id'].str.contains( \"|\".join(female_donors),regex=True)\n",
    "ad.obs.loc[filt,'sex']='female'\n",
    "ad.obs.loc[~filt,'sex']='male'"
   ]
  },
  {
   "cell_type": "code",
   "execution_count": 12,
   "id": "f9a527ed-0cbb-4e2b-9697-1b3efddde973",
   "metadata": {},
   "outputs": [],
   "source": [
    "age_map = {'190':18,'229':60,'239':44,'296':60,\n",
    "           '359':46,'363':64,'370':67,'371':61,\n",
    "           '373':69,'376':37,'397':47,'410':58,\n",
    "           '463':29,\n",
    "           '388':1000,'378':1001} #placeholders"
   ]
  },
  {
   "cell_type": "code",
   "execution_count": 13,
   "id": "9b48ffe1-c3ad-4497-a4da-5f2254de5576",
   "metadata": {},
   "outputs": [],
   "source": [
    "ad.obs['age'] = ad.obs['donor_id'].str.split('-').str[1].map(age_map)"
   ]
  },
  {
   "cell_type": "code",
   "execution_count": 14,
   "id": "cf3f8ae8-3918-4a6d-af06-6878aebf750e",
   "metadata": {},
   "outputs": [
    {
     "data": {
      "text/plain": [
       "age\n",
       "60      16557\n",
       "58      14547\n",
       "29      12651\n",
       "37      11392\n",
       "1000     8533\n",
       "18       8397\n",
       "46       6371\n",
       "47       6334\n",
       "44       5486\n",
       "1001     5292\n",
       "69       3753\n",
       "64       3550\n",
       "Name: count, dtype: int64"
      ]
     },
     "execution_count": 14,
     "metadata": {},
     "output_type": "execute_result"
    }
   ],
   "source": [
    "ad.obs['age'].value_counts(dropna=False)"
   ]
  },
  {
   "cell_type": "markdown",
   "id": "244a3025-f5ad-4d8e-99e3-3f6ae69f9131",
   "metadata": {},
   "source": [
    "TWCM-388 and TWCM-378 do not show up in metadata. Are these TWCM-370 and TWCM-371???\n",
    "\n",
    "388: nonresponder, male.\n",
    "\n",
    "378: nonresponder, male.\n",
    "\n",
    "370 is female and 371 is male.\n",
    "\n",
    "The identities are unknown at a cursory examination."
   ]
  },
  {
   "cell_type": "code",
   "execution_count": 15,
   "id": "be336ddb-9efb-462e-b9b2-5dc4395ce74c",
   "metadata": {},
   "outputs": [
    {
     "name": "stdout",
     "output_type": "stream",
     "text": [
      "[]\n",
      "['370' '371']\n"
     ]
    }
   ],
   "source": [
    "dids = ad.obs['donor_id'].str.split('-').str[1].unique()\n",
    "metakeys = np.array(list(age_map.keys()))\n",
    "print(dids[~np.isin(dids,metakeys)])\n",
    "print(metakeys[~np.isin(metakeys,dids)])"
   ]
  },
  {
   "cell_type": "code",
   "execution_count": 16,
   "id": "b02c6dd0-df73-43a0-b28c-bf831e52efa0",
   "metadata": {},
   "outputs": [
    {
     "data": {
      "text/html": [
       "<div>\n",
       "<style scoped>\n",
       "    .dataframe tbody tr th:only-of-type {\n",
       "        vertical-align: middle;\n",
       "    }\n",
       "\n",
       "    .dataframe tbody tr th {\n",
       "        vertical-align: top;\n",
       "    }\n",
       "\n",
       "    .dataframe thead th {\n",
       "        text-align: right;\n",
       "    }\n",
       "</style>\n",
       "<table border=\"1\" class=\"dataframe\">\n",
       "  <thead>\n",
       "    <tr style=\"text-align: right;\">\n",
       "      <th></th>\n",
       "      <th>donor_id</th>\n",
       "      <th>nCount_RNA</th>\n",
       "      <th>nFeature_RNA</th>\n",
       "      <th>percent.mt</th>\n",
       "      <th>scrublet_score</th>\n",
       "      <th>scrublet_cluster_score</th>\n",
       "      <th>bh_pval</th>\n",
       "      <th>nCount_SCT</th>\n",
       "      <th>nFeature_SCT</th>\n",
       "      <th>SCT_snn_res.0.3</th>\n",
       "      <th>...</th>\n",
       "      <th>RNA_snn_res.0.6</th>\n",
       "      <th>Fibro_z</th>\n",
       "      <th>Pericyte_z</th>\n",
       "      <th>SMC_z</th>\n",
       "      <th>SCT_snn_res.0.1</th>\n",
       "      <th>SCT_snn_res.0.2</th>\n",
       "      <th>SCT_snn_res.0.4</th>\n",
       "      <th>SCT_snn_res.0.5</th>\n",
       "      <th>sex</th>\n",
       "      <th>age</th>\n",
       "    </tr>\n",
       "  </thead>\n",
       "  <tbody>\n",
       "    <tr>\n",
       "      <th>TWCM-190-R-post_AACCATGGTTACTGAC</th>\n",
       "      <td>TWCM-190-R-post</td>\n",
       "      <td>9235.0</td>\n",
       "      <td>3069</td>\n",
       "      <td>0.064970</td>\n",
       "      <td>0.142857</td>\n",
       "      <td>0.158129</td>\n",
       "      <td>0.028352</td>\n",
       "      <td>2364.0</td>\n",
       "      <td>1286</td>\n",
       "      <td>13</td>\n",
       "      <td>...</td>\n",
       "      <td>NA</td>\n",
       "      <td>NaN</td>\n",
       "      <td>NaN</td>\n",
       "      <td>NaN</td>\n",
       "      <td>6</td>\n",
       "      <td>10</td>\n",
       "      <td>14</td>\n",
       "      <td>17</td>\n",
       "      <td>male</td>\n",
       "      <td>18</td>\n",
       "    </tr>\n",
       "    <tr>\n",
       "      <th>TWCM-190-R-post_AACGTTGTCTGAAAGA</th>\n",
       "      <td>TWCM-190-R-post</td>\n",
       "      <td>4863.0</td>\n",
       "      <td>2183</td>\n",
       "      <td>0.041127</td>\n",
       "      <td>0.185930</td>\n",
       "      <td>0.158129</td>\n",
       "      <td>0.028352</td>\n",
       "      <td>2849.0</td>\n",
       "      <td>1864</td>\n",
       "      <td>13</td>\n",
       "      <td>...</td>\n",
       "      <td>NA</td>\n",
       "      <td>NaN</td>\n",
       "      <td>NaN</td>\n",
       "      <td>NaN</td>\n",
       "      <td>6</td>\n",
       "      <td>10</td>\n",
       "      <td>14</td>\n",
       "      <td>17</td>\n",
       "      <td>male</td>\n",
       "      <td>18</td>\n",
       "    </tr>\n",
       "    <tr>\n",
       "      <th>TWCM-190-R-post_CCATGTCTCAGAGCTT</th>\n",
       "      <td>TWCM-190-R-post</td>\n",
       "      <td>5478.0</td>\n",
       "      <td>2482</td>\n",
       "      <td>0.036510</td>\n",
       "      <td>0.166667</td>\n",
       "      <td>0.158129</td>\n",
       "      <td>0.028352</td>\n",
       "      <td>2742.0</td>\n",
       "      <td>1828</td>\n",
       "      <td>13</td>\n",
       "      <td>...</td>\n",
       "      <td>NA</td>\n",
       "      <td>NaN</td>\n",
       "      <td>NaN</td>\n",
       "      <td>NaN</td>\n",
       "      <td>6</td>\n",
       "      <td>10</td>\n",
       "      <td>14</td>\n",
       "      <td>17</td>\n",
       "      <td>male</td>\n",
       "      <td>18</td>\n",
       "    </tr>\n",
       "    <tr>\n",
       "      <th>TWCM-190-R-post_CGAGCACTCAGTGTTG</th>\n",
       "      <td>TWCM-190-R-post</td>\n",
       "      <td>2532.0</td>\n",
       "      <td>1390</td>\n",
       "      <td>0.236967</td>\n",
       "      <td>0.175904</td>\n",
       "      <td>0.158129</td>\n",
       "      <td>0.028352</td>\n",
       "      <td>2366.0</td>\n",
       "      <td>1390</td>\n",
       "      <td>13</td>\n",
       "      <td>...</td>\n",
       "      <td>NA</td>\n",
       "      <td>NaN</td>\n",
       "      <td>NaN</td>\n",
       "      <td>NaN</td>\n",
       "      <td>6</td>\n",
       "      <td>10</td>\n",
       "      <td>14</td>\n",
       "      <td>17</td>\n",
       "      <td>male</td>\n",
       "      <td>18</td>\n",
       "    </tr>\n",
       "    <tr>\n",
       "      <th>TWCM-190-R-post_GCTCTGTGTGTTTGGT</th>\n",
       "      <td>TWCM-190-R-post</td>\n",
       "      <td>8252.0</td>\n",
       "      <td>2673</td>\n",
       "      <td>0.000000</td>\n",
       "      <td>0.185930</td>\n",
       "      <td>0.158129</td>\n",
       "      <td>0.028352</td>\n",
       "      <td>2420.0</td>\n",
       "      <td>1221</td>\n",
       "      <td>13</td>\n",
       "      <td>...</td>\n",
       "      <td>NA</td>\n",
       "      <td>NaN</td>\n",
       "      <td>NaN</td>\n",
       "      <td>NaN</td>\n",
       "      <td>6</td>\n",
       "      <td>10</td>\n",
       "      <td>14</td>\n",
       "      <td>17</td>\n",
       "      <td>male</td>\n",
       "      <td>18</td>\n",
       "    </tr>\n",
       "    <tr>\n",
       "      <th>...</th>\n",
       "      <td>...</td>\n",
       "      <td>...</td>\n",
       "      <td>...</td>\n",
       "      <td>...</td>\n",
       "      <td>...</td>\n",
       "      <td>...</td>\n",
       "      <td>...</td>\n",
       "      <td>...</td>\n",
       "      <td>...</td>\n",
       "      <td>...</td>\n",
       "      <td>...</td>\n",
       "      <td>...</td>\n",
       "      <td>...</td>\n",
       "      <td>...</td>\n",
       "      <td>...</td>\n",
       "      <td>...</td>\n",
       "      <td>...</td>\n",
       "      <td>...</td>\n",
       "      <td>...</td>\n",
       "      <td>...</td>\n",
       "      <td>...</td>\n",
       "    </tr>\n",
       "    <tr>\n",
       "      <th>TWCM-463-R-pre_TTGCCGTAGGACCACA</th>\n",
       "      <td>TWCM-463-R-pre</td>\n",
       "      <td>1440.0</td>\n",
       "      <td>1056</td>\n",
       "      <td>0.625000</td>\n",
       "      <td>0.011727</td>\n",
       "      <td>0.018757</td>\n",
       "      <td>0.971327</td>\n",
       "      <td>1614.0</td>\n",
       "      <td>1056</td>\n",
       "      <td>19</td>\n",
       "      <td>...</td>\n",
       "      <td>NA</td>\n",
       "      <td>NaN</td>\n",
       "      <td>NaN</td>\n",
       "      <td>NaN</td>\n",
       "      <td>11</td>\n",
       "      <td>17</td>\n",
       "      <td>23</td>\n",
       "      <td>24</td>\n",
       "      <td>male</td>\n",
       "      <td>29</td>\n",
       "    </tr>\n",
       "    <tr>\n",
       "      <th>TWCM-463-R-pre_TTGCCGTCAATAGAGT</th>\n",
       "      <td>TWCM-463-R-pre</td>\n",
       "      <td>1608.0</td>\n",
       "      <td>1162</td>\n",
       "      <td>1.119403</td>\n",
       "      <td>0.030303</td>\n",
       "      <td>0.017241</td>\n",
       "      <td>0.971327</td>\n",
       "      <td>1681.0</td>\n",
       "      <td>1162</td>\n",
       "      <td>19</td>\n",
       "      <td>...</td>\n",
       "      <td>NA</td>\n",
       "      <td>NaN</td>\n",
       "      <td>NaN</td>\n",
       "      <td>NaN</td>\n",
       "      <td>11</td>\n",
       "      <td>17</td>\n",
       "      <td>23</td>\n",
       "      <td>24</td>\n",
       "      <td>male</td>\n",
       "      <td>29</td>\n",
       "    </tr>\n",
       "    <tr>\n",
       "      <th>TWCM-463-R-pre_TTGTAGGGTAGCGATG</th>\n",
       "      <td>TWCM-463-R-pre</td>\n",
       "      <td>1224.0</td>\n",
       "      <td>892</td>\n",
       "      <td>0.816993</td>\n",
       "      <td>0.092784</td>\n",
       "      <td>0.013029</td>\n",
       "      <td>0.973777</td>\n",
       "      <td>1552.0</td>\n",
       "      <td>893</td>\n",
       "      <td>19</td>\n",
       "      <td>...</td>\n",
       "      <td>NA</td>\n",
       "      <td>NaN</td>\n",
       "      <td>NaN</td>\n",
       "      <td>NaN</td>\n",
       "      <td>11</td>\n",
       "      <td>17</td>\n",
       "      <td>23</td>\n",
       "      <td>24</td>\n",
       "      <td>male</td>\n",
       "      <td>29</td>\n",
       "    </tr>\n",
       "    <tr>\n",
       "      <th>TWCM-463-R-pre_TTTGGTTCAGCCTTTC</th>\n",
       "      <td>TWCM-463-R-pre</td>\n",
       "      <td>1256.0</td>\n",
       "      <td>891</td>\n",
       "      <td>0.238854</td>\n",
       "      <td>0.007519</td>\n",
       "      <td>0.013029</td>\n",
       "      <td>0.973777</td>\n",
       "      <td>1556.0</td>\n",
       "      <td>892</td>\n",
       "      <td>19</td>\n",
       "      <td>...</td>\n",
       "      <td>NA</td>\n",
       "      <td>NaN</td>\n",
       "      <td>NaN</td>\n",
       "      <td>NaN</td>\n",
       "      <td>11</td>\n",
       "      <td>17</td>\n",
       "      <td>23</td>\n",
       "      <td>24</td>\n",
       "      <td>male</td>\n",
       "      <td>29</td>\n",
       "    </tr>\n",
       "    <tr>\n",
       "      <th>TWCM-463-R-pre_TTTGTCACAGCCAGAA</th>\n",
       "      <td>TWCM-463-R-pre</td>\n",
       "      <td>1403.0</td>\n",
       "      <td>1029</td>\n",
       "      <td>0.926586</td>\n",
       "      <td>0.030303</td>\n",
       "      <td>0.013029</td>\n",
       "      <td>0.973777</td>\n",
       "      <td>1599.0</td>\n",
       "      <td>1029</td>\n",
       "      <td>19</td>\n",
       "      <td>...</td>\n",
       "      <td>NA</td>\n",
       "      <td>NaN</td>\n",
       "      <td>NaN</td>\n",
       "      <td>NaN</td>\n",
       "      <td>11</td>\n",
       "      <td>17</td>\n",
       "      <td>23</td>\n",
       "      <td>24</td>\n",
       "      <td>male</td>\n",
       "      <td>29</td>\n",
       "    </tr>\n",
       "  </tbody>\n",
       "</table>\n",
       "<p>102863 rows × 27 columns</p>\n",
       "</div>"
      ],
      "text/plain": [
       "                                         donor_id  nCount_RNA  nFeature_RNA  \\\n",
       "TWCM-190-R-post_AACCATGGTTACTGAC  TWCM-190-R-post      9235.0          3069   \n",
       "TWCM-190-R-post_AACGTTGTCTGAAAGA  TWCM-190-R-post      4863.0          2183   \n",
       "TWCM-190-R-post_CCATGTCTCAGAGCTT  TWCM-190-R-post      5478.0          2482   \n",
       "TWCM-190-R-post_CGAGCACTCAGTGTTG  TWCM-190-R-post      2532.0          1390   \n",
       "TWCM-190-R-post_GCTCTGTGTGTTTGGT  TWCM-190-R-post      8252.0          2673   \n",
       "...                                           ...         ...           ...   \n",
       "TWCM-463-R-pre_TTGCCGTAGGACCACA    TWCM-463-R-pre      1440.0          1056   \n",
       "TWCM-463-R-pre_TTGCCGTCAATAGAGT    TWCM-463-R-pre      1608.0          1162   \n",
       "TWCM-463-R-pre_TTGTAGGGTAGCGATG    TWCM-463-R-pre      1224.0           892   \n",
       "TWCM-463-R-pre_TTTGGTTCAGCCTTTC    TWCM-463-R-pre      1256.0           891   \n",
       "TWCM-463-R-pre_TTTGTCACAGCCAGAA    TWCM-463-R-pre      1403.0          1029   \n",
       "\n",
       "                                  percent.mt  scrublet_score  \\\n",
       "TWCM-190-R-post_AACCATGGTTACTGAC    0.064970        0.142857   \n",
       "TWCM-190-R-post_AACGTTGTCTGAAAGA    0.041127        0.185930   \n",
       "TWCM-190-R-post_CCATGTCTCAGAGCTT    0.036510        0.166667   \n",
       "TWCM-190-R-post_CGAGCACTCAGTGTTG    0.236967        0.175904   \n",
       "TWCM-190-R-post_GCTCTGTGTGTTTGGT    0.000000        0.185930   \n",
       "...                                      ...             ...   \n",
       "TWCM-463-R-pre_TTGCCGTAGGACCACA     0.625000        0.011727   \n",
       "TWCM-463-R-pre_TTGCCGTCAATAGAGT     1.119403        0.030303   \n",
       "TWCM-463-R-pre_TTGTAGGGTAGCGATG     0.816993        0.092784   \n",
       "TWCM-463-R-pre_TTTGGTTCAGCCTTTC     0.238854        0.007519   \n",
       "TWCM-463-R-pre_TTTGTCACAGCCAGAA     0.926586        0.030303   \n",
       "\n",
       "                                  scrublet_cluster_score   bh_pval  \\\n",
       "TWCM-190-R-post_AACCATGGTTACTGAC                0.158129  0.028352   \n",
       "TWCM-190-R-post_AACGTTGTCTGAAAGA                0.158129  0.028352   \n",
       "TWCM-190-R-post_CCATGTCTCAGAGCTT                0.158129  0.028352   \n",
       "TWCM-190-R-post_CGAGCACTCAGTGTTG                0.158129  0.028352   \n",
       "TWCM-190-R-post_GCTCTGTGTGTTTGGT                0.158129  0.028352   \n",
       "...                                                  ...       ...   \n",
       "TWCM-463-R-pre_TTGCCGTAGGACCACA                 0.018757  0.971327   \n",
       "TWCM-463-R-pre_TTGCCGTCAATAGAGT                 0.017241  0.971327   \n",
       "TWCM-463-R-pre_TTGTAGGGTAGCGATG                 0.013029  0.973777   \n",
       "TWCM-463-R-pre_TTTGGTTCAGCCTTTC                 0.013029  0.973777   \n",
       "TWCM-463-R-pre_TTTGTCACAGCCAGAA                 0.013029  0.973777   \n",
       "\n",
       "                                  nCount_SCT  nFeature_SCT  SCT_snn_res.0.3  \\\n",
       "TWCM-190-R-post_AACCATGGTTACTGAC      2364.0          1286               13   \n",
       "TWCM-190-R-post_AACGTTGTCTGAAAGA      2849.0          1864               13   \n",
       "TWCM-190-R-post_CCATGTCTCAGAGCTT      2742.0          1828               13   \n",
       "TWCM-190-R-post_CGAGCACTCAGTGTTG      2366.0          1390               13   \n",
       "TWCM-190-R-post_GCTCTGTGTGTTTGGT      2420.0          1221               13   \n",
       "...                                      ...           ...              ...   \n",
       "TWCM-463-R-pre_TTGCCGTAGGACCACA       1614.0          1056               19   \n",
       "TWCM-463-R-pre_TTGCCGTCAATAGAGT       1681.0          1162               19   \n",
       "TWCM-463-R-pre_TTGTAGGGTAGCGATG       1552.0           893               19   \n",
       "TWCM-463-R-pre_TTTGGTTCAGCCTTTC       1556.0           892               19   \n",
       "TWCM-463-R-pre_TTTGTCACAGCCAGAA       1599.0          1029               19   \n",
       "\n",
       "                                  ...  RNA_snn_res.0.6 Fibro_z Pericyte_z  \\\n",
       "TWCM-190-R-post_AACCATGGTTACTGAC  ...               NA     NaN        NaN   \n",
       "TWCM-190-R-post_AACGTTGTCTGAAAGA  ...               NA     NaN        NaN   \n",
       "TWCM-190-R-post_CCATGTCTCAGAGCTT  ...               NA     NaN        NaN   \n",
       "TWCM-190-R-post_CGAGCACTCAGTGTTG  ...               NA     NaN        NaN   \n",
       "TWCM-190-R-post_GCTCTGTGTGTTTGGT  ...               NA     NaN        NaN   \n",
       "...                               ...              ...     ...        ...   \n",
       "TWCM-463-R-pre_TTGCCGTAGGACCACA   ...               NA     NaN        NaN   \n",
       "TWCM-463-R-pre_TTGCCGTCAATAGAGT   ...               NA     NaN        NaN   \n",
       "TWCM-463-R-pre_TTGTAGGGTAGCGATG   ...               NA     NaN        NaN   \n",
       "TWCM-463-R-pre_TTTGGTTCAGCCTTTC   ...               NA     NaN        NaN   \n",
       "TWCM-463-R-pre_TTTGTCACAGCCAGAA   ...               NA     NaN        NaN   \n",
       "\n",
       "                                 SMC_z SCT_snn_res.0.1 SCT_snn_res.0.2  \\\n",
       "TWCM-190-R-post_AACCATGGTTACTGAC   NaN               6              10   \n",
       "TWCM-190-R-post_AACGTTGTCTGAAAGA   NaN               6              10   \n",
       "TWCM-190-R-post_CCATGTCTCAGAGCTT   NaN               6              10   \n",
       "TWCM-190-R-post_CGAGCACTCAGTGTTG   NaN               6              10   \n",
       "TWCM-190-R-post_GCTCTGTGTGTTTGGT   NaN               6              10   \n",
       "...                                ...             ...             ...   \n",
       "TWCM-463-R-pre_TTGCCGTAGGACCACA    NaN              11              17   \n",
       "TWCM-463-R-pre_TTGCCGTCAATAGAGT    NaN              11              17   \n",
       "TWCM-463-R-pre_TTGTAGGGTAGCGATG    NaN              11              17   \n",
       "TWCM-463-R-pre_TTTGGTTCAGCCTTTC    NaN              11              17   \n",
       "TWCM-463-R-pre_TTTGTCACAGCCAGAA    NaN              11              17   \n",
       "\n",
       "                                 SCT_snn_res.0.4 SCT_snn_res.0.5   sex  age  \n",
       "TWCM-190-R-post_AACCATGGTTACTGAC              14              17  male   18  \n",
       "TWCM-190-R-post_AACGTTGTCTGAAAGA              14              17  male   18  \n",
       "TWCM-190-R-post_CCATGTCTCAGAGCTT              14              17  male   18  \n",
       "TWCM-190-R-post_CGAGCACTCAGTGTTG              14              17  male   18  \n",
       "TWCM-190-R-post_GCTCTGTGTGTTTGGT              14              17  male   18  \n",
       "...                                          ...             ...   ...  ...  \n",
       "TWCM-463-R-pre_TTGCCGTAGGACCACA               23              24  male   29  \n",
       "TWCM-463-R-pre_TTGCCGTCAATAGAGT               23              24  male   29  \n",
       "TWCM-463-R-pre_TTGTAGGGTAGCGATG               23              24  male   29  \n",
       "TWCM-463-R-pre_TTTGGTTCAGCCTTTC               23              24  male   29  \n",
       "TWCM-463-R-pre_TTTGTCACAGCCAGAA               23              24  male   29  \n",
       "\n",
       "[102863 rows x 27 columns]"
      ]
     },
     "execution_count": 16,
     "metadata": {},
     "output_type": "execute_result"
    }
   ],
   "source": [
    "ad.obs"
   ]
  },
  {
   "cell_type": "code",
   "execution_count": 17,
   "id": "337828d7-5725-4546-b41d-f329eb636e00",
   "metadata": {},
   "outputs": [],
   "source": [
    "ad = dc.get_pseudobulk(ad,sample_col='donor_id',groups_col='cell_type',\n",
    "    mode='sum',\n",
    "    min_cells=0,\n",
    "    min_counts=0,use_raw=True)\n"
   ]
  },
  {
   "cell_type": "code",
   "execution_count": 18,
   "id": "4f365ef3-3205-41ea-810c-044e09c1c91f",
   "metadata": {},
   "outputs": [],
   "source": [
    "ad.var.set_index('features',inplace=True)"
   ]
  },
  {
   "cell_type": "code",
   "execution_count": 19,
   "id": "0e22783b-6741-4b1a-b975-4b3a3ba15570",
   "metadata": {},
   "outputs": [],
   "source": [
    "ads[dataset] = ad.copy()"
   ]
  },
  {
   "cell_type": "markdown",
   "id": "8376d66f-44c6-4014-ad2e-8d742028a25f",
   "metadata": {},
   "source": [
    "## Brener"
   ]
  },
  {
   "cell_type": "markdown",
   "id": "aab548e3-7831-43ed-85ff-746ce7e72de5",
   "metadata": {},
   "source": [
    "The annotated data were removed from Broad. Also, the Broad data did not have counts."
   ]
  },
  {
   "cell_type": "code",
   "execution_count": 20,
   "id": "99304cd5-4e27-458f-bc96-c7b932b74097",
   "metadata": {},
   "outputs": [],
   "source": [
    "dataset = 'brener'\n",
    "ad = sc.read_h5ad(rt+dataset+'/'+filenames[dataset])\n",
    "ad_geo = sc.read_h5ad(rt+dataset+'/ad_geo.h5ad')"
   ]
  },
  {
   "cell_type": "code",
   "execution_count": 21,
   "id": "89f774fd-2574-4eb4-8402-2115052794ef",
   "metadata": {},
   "outputs": [
    {
     "data": {
      "text/plain": [
       "doublet_scores                  0.152416\n",
       "barcode               AACCTGATCCAATGCA-1\n",
       "exon_ratio                      0.758098\n",
       "batches                      8_144391-RV\n",
       "Virus                           Covid_MT\n",
       "n_genes                             4843\n",
       "n_genes_by_counts                   4843\n",
       "total_counts                     22781.0\n",
       "total_counts_mt                    384.0\n",
       "pct_counts_mt                   1.685615\n",
       "fail_exonratio                     False\n",
       "predicted_doublets                 False\n",
       "Name: AACCTGATCCAATGCA-1-0-0-0-0-0-0-0-0-0-0-0-0, dtype: object"
      ]
     },
     "execution_count": 21,
     "metadata": {},
     "output_type": "execute_result"
    }
   ],
   "source": [
    "ad_geo.obs.iloc[0]"
   ]
  },
  {
   "cell_type": "code",
   "execution_count": 22,
   "id": "c99ea3fa-73b6-4a76-97ee-dd8f99ae954c",
   "metadata": {},
   "outputs": [],
   "source": [
    "ad = ad[ad.obs['Virus']=='Covid']"
   ]
  },
  {
   "cell_type": "markdown",
   "id": "61a00200-4555-4970-b489-9188f353ff9a",
   "metadata": {},
   "source": [
    "Make sure all the dimensions match."
   ]
  },
  {
   "cell_type": "code",
   "execution_count": 23,
   "id": "273e6d74-bee9-4497-8b1f-3f2276f99752",
   "metadata": {},
   "outputs": [],
   "source": [
    "assert all(ad_geo.var_names == ad.var_names)"
   ]
  },
  {
   "cell_type": "code",
   "execution_count": 24,
   "id": "5ce8609b-cbe6-4dad-a5d0-ce4794e36185",
   "metadata": {},
   "outputs": [],
   "source": [
    "assert all(ad_geo.obs_names == ad.obs_names)"
   ]
  },
  {
   "cell_type": "code",
   "execution_count": 25,
   "id": "315bcf67-5496-467f-8c38-c0004eeded5e",
   "metadata": {},
   "outputs": [
    {
     "name": "stdout",
     "output_type": "stream",
     "text": [
      "10553.0\n",
      "8.149373\n",
      "8.149373\n"
     ]
    }
   ],
   "source": [
    "print(ad_geo.X.max())\n",
    "# print(ad_geo.raw.X.max())\n",
    "\n",
    "print(ad.X.max())\n",
    "print(ad.raw.X.max())"
   ]
  },
  {
   "cell_type": "code",
   "execution_count": 26,
   "id": "80ed8705-3708-49ff-8bcd-429fc98ec1e0",
   "metadata": {},
   "outputs": [],
   "source": [
    "ad_raw = ad.raw.to_adata()\n",
    "ad_raw.X = ad_geo.X\n",
    "ad.raw=ad_raw"
   ]
  },
  {
   "cell_type": "code",
   "execution_count": 27,
   "id": "166c95fc-5ad6-4d4c-b889-8af4b6a2816d",
   "metadata": {},
   "outputs": [
    {
     "name": "stdout",
     "output_type": "stream",
     "text": [
      "10553.0\n",
      "8.149373\n",
      "10553.0\n"
     ]
    }
   ],
   "source": [
    "print(ad_geo.X.max())\n",
    "\n",
    "print(ad.X.max())\n",
    "print(ad.raw.X.max())"
   ]
  },
  {
   "cell_type": "code",
   "execution_count": 28,
   "id": "1b6a8d10-b22d-44af-898a-7bab37e24fcf",
   "metadata": {},
   "outputs": [],
   "source": [
    "ad.obs.rename(columns={'batches':'donor_id','leiden':'cell_type'},inplace=True)"
   ]
  },
  {
   "cell_type": "code",
   "execution_count": 29,
   "id": "db3a974f-6b13-47dd-87f2-435436f2949e",
   "metadata": {},
   "outputs": [],
   "source": [
    "ad.obs['sex']=None\n",
    "filt = ad.obs['donor_id']=='15_144548-RV' #the one female sample\n",
    "ad.obs.loc[filt,'sex']='female'\n",
    "ad.obs.loc[~filt,'sex']='male'"
   ]
  },
  {
   "cell_type": "code",
   "execution_count": 30,
   "id": "13b1239b-6816-4e97-a144-fd4bd79a0f8c",
   "metadata": {},
   "outputs": [
    {
     "data": {
      "text/plain": [
       "doublet_scores                  0.152416\n",
       "predicted_doublets                 False\n",
       "barcode               AACCTGATCCAATGCA-1\n",
       "exon_ratio                      0.758098\n",
       "donor_id                     8_144391-RV\n",
       "Virus                              Covid\n",
       "n_genes                             4843\n",
       "n_genes_by_counts                   4843\n",
       "total_counts                     22781.0\n",
       "total_counts_mt                    384.0\n",
       "pct_counts_mt                   1.685615\n",
       "cell_type                     Macrophage\n",
       "Condition                   Microthrombi\n",
       "sex                                 male\n",
       "Name: AACCTGATCCAATGCA-1-0-0-0-0-0-0-0-0-0-0-0-0, dtype: object"
      ]
     },
     "execution_count": 30,
     "metadata": {},
     "output_type": "execute_result"
    }
   ],
   "source": [
    "ad.obs.iloc[0]"
   ]
  },
  {
   "cell_type": "markdown",
   "id": "0a2fddd3-d243-409b-8d76-c50e9b1d25d4",
   "metadata": {},
   "source": [
    "The publication does not actually disclose how the GEO/AnnData entries map to \"Study ID\" identifiers. So we use table ST6, final column."
   ]
  },
  {
   "cell_type": "code",
   "execution_count": 31,
   "id": "aff4f3b6-d776-4468-b848-fa869eb3968a",
   "metadata": {},
   "outputs": [
    {
     "data": {
      "text/plain": [
       "donor_id\n",
       "11_144422-RV    9947\n",
       "15_144548-RV    7840\n",
       "8_144391-RV     7208\n",
       "13_144471-RV    6851\n",
       "10_144421-RV    5787\n",
       "16_144608-RV    4014\n",
       "10_144396-RV    1846\n",
       "Name: count, dtype: int64"
      ]
     },
     "execution_count": 31,
     "metadata": {},
     "output_type": "execute_result"
    }
   ],
   "source": [
    "ad.obs['donor_id'].value_counts()"
   ]
  },
  {
   "cell_type": "code",
   "execution_count": 32,
   "id": "2ad60250-afbd-4aa6-8231-a2ce42115a4d",
   "metadata": {},
   "outputs": [
    {
     "data": {
      "text/plain": [
       "AACCTGATCCAATGCA-1-0-0-0-0-0-0-0-0-0-0-0-0     [8_144391, RV]\n",
       "GGGATCCCAACACGTT-1-0-0-0-0-0-0-0-0-0-0-0-0     [8_144391, RV]\n",
       "ACGTAACCATTACGGT-1-0-0-0-0-0-0-0-0-0-0-0-0     [8_144391, RV]\n",
       "TCCCACACACGAGGAT-1-0-0-0-0-0-0-0-0-0-0-0-0     [8_144391, RV]\n",
       "CTCACTGTCGAGATAA-1-0-0-0-0-0-0-0-0-0-0-0-0     [8_144391, RV]\n",
       "                                                   ...       \n",
       "AAGGAATAGCGTGTCC-1-1-0-0-0-0-0-0              [16_144608, RV]\n",
       "CAGCAGCTCTGCGTCT-1-1-0-0-0-0-0-0              [16_144608, RV]\n",
       "AGGAGGTCATATGCGT-1-1-0-0-0-0-0-0              [16_144608, RV]\n",
       "TAGGGTTGTGTGTGTT-1-1-0-0-0-0-0-0              [16_144608, RV]\n",
       "CCGTAGGGTACAAGCG-1-1-0-0-0-0-0-0              [16_144608, RV]\n",
       "Name: donor_id, Length: 43493, dtype: object"
      ]
     },
     "execution_count": 32,
     "metadata": {},
     "output_type": "execute_result"
    }
   ],
   "source": [
    "ad.obs['donor_id'].str.split('-')"
   ]
  },
  {
   "cell_type": "code",
   "execution_count": 33,
   "id": "f65f9679-8047-45cb-a883-a640d043d1f2",
   "metadata": {},
   "outputs": [],
   "source": [
    "study_id_map = {'11_144422':'19','15_144548':'66','8_144391':'05',\n",
    "                '13_144471':'45','10_144421':'51','16_144608':'61',\n",
    "                '10_144396':'39'}\n",
    "\n",
    "age_map = {'05':83,'39':71,'61':58,'19':68,'45':65,'51':63,'66':69}\n",
    "ad.obs['age'] = ad.obs['donor_id'].str.split('-').str[0].map(study_id_map).map(age_map)"
   ]
  },
  {
   "cell_type": "code",
   "execution_count": 34,
   "id": "092877c7-939c-4e20-bcb1-37506719a3ca",
   "metadata": {},
   "outputs": [],
   "source": [
    "ad = dc.get_pseudobulk(ad,sample_col='donor_id',groups_col='cell_type',\n",
    "    mode='sum',\n",
    "    min_cells=0,\n",
    "    min_counts=0,use_raw=True)\n"
   ]
  },
  {
   "cell_type": "code",
   "execution_count": 35,
   "id": "635a3520-b1f2-4bbe-958d-72632389593c",
   "metadata": {},
   "outputs": [],
   "source": [
    "ads[dataset] = ad.copy()"
   ]
  },
  {
   "cell_type": "markdown",
   "id": "f9ea6137-c774-4c45-bb1b-211a2194b59e",
   "metadata": {},
   "source": [
    "## Eraslan"
   ]
  },
  {
   "cell_type": "code",
   "execution_count": 36,
   "id": "8b811f53-443b-4ca0-ae15-7e6927cde281",
   "metadata": {},
   "outputs": [],
   "source": [
    "dataset = 'eraslan'\n",
    "ad = sc.read_h5ad(rt+dataset+'/'+filenames[dataset])"
   ]
  },
  {
   "cell_type": "code",
   "execution_count": 37,
   "id": "4af03967-3895-4c40-bbb2-49c7af17893e",
   "metadata": {},
   "outputs": [],
   "source": [
    "ad=ad[ad.obs['tissue']=='anterior wall of left ventricle']"
   ]
  },
  {
   "cell_type": "code",
   "execution_count": 38,
   "id": "df685b7d-5941-4480-baef-b8014cab4f1c",
   "metadata": {},
   "outputs": [
    {
     "name": "stdout",
     "output_type": "stream",
     "text": [
      "8.578069\n",
      "9240.0\n"
     ]
    }
   ],
   "source": [
    "print(ad.X.max())\n",
    "print(ad.raw.X.max())"
   ]
  },
  {
   "cell_type": "code",
   "execution_count": 39,
   "id": "a16b9169-710d-4bc2-b43b-812998dc21e3",
   "metadata": {},
   "outputs": [],
   "source": [
    "ad = dc.get_pseudobulk(ad,sample_col='donor_id',groups_col='cell_type',\n",
    "    mode='sum',\n",
    "    min_cells=0,\n",
    "    min_counts=0,use_raw=True)"
   ]
  },
  {
   "cell_type": "code",
   "execution_count": 40,
   "id": "85349581-21b5-4193-91bf-77448b06e9c5",
   "metadata": {},
   "outputs": [
    {
     "data": {
      "text/plain": [
       "Age_bin\n",
       "61-70    32\n",
       "41-50    16\n",
       "Name: count, dtype: int64"
      ]
     },
     "execution_count": 40,
     "metadata": {},
     "output_type": "execute_result"
    }
   ],
   "source": [
    "ad.obs['Age_bin'].value_counts()"
   ]
  },
  {
   "attachments": {},
   "cell_type": "markdown",
   "id": "f9c5fb69-2f12-45af-be87-33b1e94b7bfc",
   "metadata": {},
   "source": [
    "This is incorrect. Per Table S1, GTEX-1ICG6 is 70-79."
   ]
  },
  {
   "cell_type": "code",
   "execution_count": 41,
   "id": "b7088e48-62e7-4fff-82d6-179cf0113820",
   "metadata": {},
   "outputs": [],
   "source": [
    "age_map = {'GTEX-1ICG6':'70-79','GTEX-13N11':'50-59','GTEX-15RIE':'60-69'}\n",
    "ad.obs['Age_bin'] = ad.obs['donor_id'].map(age_map)"
   ]
  },
  {
   "cell_type": "code",
   "execution_count": 42,
   "id": "1bb28446-6a3b-41b6-a18f-3cd7d4ee86bf",
   "metadata": {},
   "outputs": [
    {
     "data": {
      "text/plain": [
       "Age_bin\n",
       "50-59    16\n",
       "60-69    16\n",
       "70-79    16\n",
       "Name: count, dtype: int64"
      ]
     },
     "execution_count": 42,
     "metadata": {},
     "output_type": "execute_result"
    }
   ],
   "source": [
    "ad.obs['Age_bin'].value_counts()"
   ]
  },
  {
   "cell_type": "code",
   "execution_count": 43,
   "id": "9a2b7a7c-6726-4243-bcde-dc954a336d8e",
   "metadata": {},
   "outputs": [],
   "source": [
    "ad.var.set_index('feature_name',inplace=True)"
   ]
  },
  {
   "cell_type": "code",
   "execution_count": 44,
   "id": "7e2e1e49-6bc9-4c48-b647-c5a3c938a85c",
   "metadata": {},
   "outputs": [],
   "source": [
    "ads[dataset] = ad.copy()"
   ]
  },
  {
   "cell_type": "markdown",
   "id": "a17b6d3f-ccb9-4e39-97a8-d26d2ed97ee0",
   "metadata": {},
   "source": [
    "## Hill"
   ]
  },
  {
   "cell_type": "markdown",
   "id": "61b425ea-54b0-4be1-94e1-6143118c3ed3",
   "metadata": {},
   "source": [
    "This dataset was previously assembled manually from flat tables."
   ]
  },
  {
   "cell_type": "code",
   "execution_count": 45,
   "id": "d4272050-ccd5-43cf-8baa-338c3c289e19",
   "metadata": {},
   "outputs": [],
   "source": [
    "dataset = 'hill'\n",
    "ad = sc.read_h5ad(rt+dataset+'/'+filenames[dataset])"
   ]
  },
  {
   "cell_type": "code",
   "execution_count": 46,
   "id": "58e03e7b-9618-4e1e-8a20-b8ab3b92b82d",
   "metadata": {},
   "outputs": [],
   "source": [
    "ad.obs.rename(columns={'MainCellType':'cell_type'},inplace=True)"
   ]
  },
  {
   "cell_type": "code",
   "execution_count": 47,
   "id": "2aedeffa-7256-4d72-98f9-aa3191c19164",
   "metadata": {},
   "outputs": [
    {
     "name": "stdout",
     "output_type": "stream",
     "text": [
      "20720.0\n"
     ]
    }
   ],
   "source": [
    "print(ad.X.max())"
   ]
  },
  {
   "cell_type": "code",
   "execution_count": 48,
   "id": "ef81d8f8-6c5b-488a-bba0-bd3526cd14a1",
   "metadata": {},
   "outputs": [
    {
     "data": {
      "text/plain": [
       "14"
      ]
     },
     "execution_count": 48,
     "metadata": {},
     "output_type": "execute_result"
    }
   ],
   "source": [
    "len(ad.obs['donor_id'].unique())"
   ]
  },
  {
   "attachments": {},
   "cell_type": "markdown",
   "id": "4eda62eb-150d-47f4-8a15-0df222408186",
   "metadata": {},
   "source": [
    "Evidently 13_198 is duplicated (LV and RV), and UK1/2 somehow map to 3B62D and FC3CB."
   ]
  },
  {
   "cell_type": "code",
   "execution_count": 49,
   "id": "e3f3d5b8-b970-40d7-bc81-48f4a7e8151c",
   "metadata": {},
   "outputs": [
    {
     "name": "stdout",
     "output_type": "stream",
     "text": [
      "13_198_LV\n",
      "13_198_RV\n",
      "13_235\n",
      "P8\n",
      "P26\n",
      "P28\n",
      "P33\n",
      "P36\n",
      "P40\n",
      "P64\n",
      "P75\n",
      "P86\n",
      "UK1\n",
      "UK2\n"
     ]
    }
   ],
   "source": [
    "for x in ad.obs['donor_id'].unique().sort_values(): print(x)"
   ]
  },
  {
   "cell_type": "code",
   "execution_count": 50,
   "id": "85b0fdc3-45df-46f7-88ac-574dd63e43bb",
   "metadata": {},
   "outputs": [
    {
     "data": {
      "text/plain": [
       "age\n",
       "11y           36866\n",
       "11y_3m_12d    21850\n",
       "4y_4m_20d     16321\n",
       "16y_2m_25d    15070\n",
       "3y_3m_17d     14055\n",
       "17y_3m_13d    12906\n",
       "3y_9m_3d      12236\n",
       "0y_7m_3d       7213\n",
       "0y_2m_3d       6995\n",
       "0y_8m_9d       6195\n",
       "9y_7m_6d       5158\n",
       "0y_3m_3d       2428\n",
       "Name: count, dtype: int64"
      ]
     },
     "execution_count": 50,
     "metadata": {},
     "output_type": "execute_result"
    }
   ],
   "source": [
    "ad.obs['age'].value_counts()"
   ]
  },
  {
   "cell_type": "code",
   "execution_count": 51,
   "id": "32dc58bc-f227-4d46-a2d0-2cea9718781b",
   "metadata": {},
   "outputs": [],
   "source": [
    "ad = dc.get_pseudobulk(ad,sample_col='donor_id',groups_col='cell_type',\n",
    "    mode='sum',\n",
    "    min_cells=0,\n",
    "    min_counts=0,use_raw=False)"
   ]
  },
  {
   "cell_type": "code",
   "execution_count": 52,
   "id": "f72867fd-32e3-4784-97e3-56720f8c5107",
   "metadata": {},
   "outputs": [
    {
     "data": {
      "text/html": [
       "<div>\n",
       "<style scoped>\n",
       "    .dataframe tbody tr th:only-of-type {\n",
       "        vertical-align: middle;\n",
       "    }\n",
       "\n",
       "    .dataframe tbody tr th {\n",
       "        vertical-align: top;\n",
       "    }\n",
       "\n",
       "    .dataframe thead th {\n",
       "        text-align: right;\n",
       "    }\n",
       "</style>\n",
       "<table border=\"1\" class=\"dataframe\">\n",
       "  <thead>\n",
       "    <tr style=\"text-align: right;\">\n",
       "      <th></th>\n",
       "      <th>donor_id</th>\n",
       "      <th>age</th>\n",
       "    </tr>\n",
       "  </thead>\n",
       "  <tbody>\n",
       "    <tr>\n",
       "      <th>13_198_RV_Adipo</th>\n",
       "      <td>13_198_RV</td>\n",
       "      <td>11y</td>\n",
       "    </tr>\n",
       "    <tr>\n",
       "      <th>13_235_Adipo</th>\n",
       "      <td>13_235</td>\n",
       "      <td>11y</td>\n",
       "    </tr>\n",
       "    <tr>\n",
       "      <th>P40_Adipo</th>\n",
       "      <td>P40</td>\n",
       "      <td>4y_4m_20d</td>\n",
       "    </tr>\n",
       "    <tr>\n",
       "      <th>P64_Adipo</th>\n",
       "      <td>P64</td>\n",
       "      <td>3y_3m_17d</td>\n",
       "    </tr>\n",
       "    <tr>\n",
       "      <th>P75_Adipo</th>\n",
       "      <td>P75</td>\n",
       "      <td>16y_2m_25d</td>\n",
       "    </tr>\n",
       "    <tr>\n",
       "      <th>P86_Adipo</th>\n",
       "      <td>P86</td>\n",
       "      <td>11y_3m_12d</td>\n",
       "    </tr>\n",
       "    <tr>\n",
       "      <th>UK1_Adipo</th>\n",
       "      <td>UK1</td>\n",
       "      <td>9y_7m_6d</td>\n",
       "    </tr>\n",
       "    <tr>\n",
       "      <th>UK2_Adipo</th>\n",
       "      <td>UK2</td>\n",
       "      <td>3y_9m_3d</td>\n",
       "    </tr>\n",
       "    <tr>\n",
       "      <th>13_198_LV_CF</th>\n",
       "      <td>13_198_LV</td>\n",
       "      <td>11y</td>\n",
       "    </tr>\n",
       "    <tr>\n",
       "      <th>P26_CF</th>\n",
       "      <td>P26</td>\n",
       "      <td>0y_3m_3d</td>\n",
       "    </tr>\n",
       "    <tr>\n",
       "      <th>P28_CF</th>\n",
       "      <td>P28</td>\n",
       "      <td>0y_8m_9d</td>\n",
       "    </tr>\n",
       "    <tr>\n",
       "      <th>P33_CF</th>\n",
       "      <td>P33</td>\n",
       "      <td>0y_7m_3d</td>\n",
       "    </tr>\n",
       "    <tr>\n",
       "      <th>P36_CF</th>\n",
       "      <td>P36</td>\n",
       "      <td>17y_3m_13d</td>\n",
       "    </tr>\n",
       "    <tr>\n",
       "      <th>P8_CF</th>\n",
       "      <td>P8</td>\n",
       "      <td>0y_2m_3d</td>\n",
       "    </tr>\n",
       "  </tbody>\n",
       "</table>\n",
       "</div>"
      ],
      "text/plain": [
       "                  donor_id         age\n",
       "13_198_RV_Adipo  13_198_RV         11y\n",
       "13_235_Adipo        13_235         11y\n",
       "P40_Adipo              P40   4y_4m_20d\n",
       "P64_Adipo              P64   3y_3m_17d\n",
       "P75_Adipo              P75  16y_2m_25d\n",
       "P86_Adipo              P86  11y_3m_12d\n",
       "UK1_Adipo              UK1    9y_7m_6d\n",
       "UK2_Adipo              UK2    3y_9m_3d\n",
       "13_198_LV_CF     13_198_LV         11y\n",
       "P26_CF                 P26    0y_3m_3d\n",
       "P28_CF                 P28    0y_8m_9d\n",
       "P33_CF                 P33    0y_7m_3d\n",
       "P36_CF                 P36  17y_3m_13d\n",
       "P8_CF                   P8    0y_2m_3d"
      ]
     },
     "execution_count": 52,
     "metadata": {},
     "output_type": "execute_result"
    }
   ],
   "source": [
    "ad.obs[['donor_id','age']].drop_duplicates()"
   ]
  },
  {
   "attachments": {},
   "cell_type": "markdown",
   "id": "c99f0783-fb07-4e35-aca5-aa2485cc091f",
   "metadata": {},
   "source": [
    "Clearly FC3CB is UK1 and 3B62D is UK2."
   ]
  },
  {
   "cell_type": "code",
   "execution_count": 53,
   "id": "c85e9ddf-b82a-4354-b030-b1637366f5eb",
   "metadata": {},
   "outputs": [],
   "source": [
    "ad.obs['age'] = ad.obs['age'].str.split('y').str[0].astype(float)"
   ]
  },
  {
   "cell_type": "code",
   "execution_count": 54,
   "id": "c916edf7-8fa5-498d-9d2b-7c75aafd3214",
   "metadata": {},
   "outputs": [],
   "source": [
    "ads[dataset] = ad.copy()"
   ]
  },
  {
   "cell_type": "markdown",
   "id": "8ead4660-e4aa-4e4a-8e1b-642263f049af",
   "metadata": {},
   "source": [
    "## Kanemaru"
   ]
  },
  {
   "cell_type": "code",
   "execution_count": 55,
   "id": "60a8c92c-9b1e-4547-a08b-6952f28a66b2",
   "metadata": {},
   "outputs": [],
   "source": [
    "dataset = 'kanemaru'\n",
    "ad = sc.read_h5ad(rt+dataset+'/'+filenames[dataset])"
   ]
  },
  {
   "cell_type": "code",
   "execution_count": 56,
   "id": "1bc521bc-d00c-4acc-aab1-471eec5c9fb9",
   "metadata": {},
   "outputs": [
    {
     "name": "stdout",
     "output_type": "stream",
     "text": [
      "9.030837\n",
      "40290.0\n"
     ]
    }
   ],
   "source": [
    "print(ad.X.max())\n",
    "print(ad.raw.X.max())"
   ]
  },
  {
   "cell_type": "code",
   "execution_count": 57,
   "id": "28910cb7-31f4-4d79-bf49-7a189c208c6d",
   "metadata": {},
   "outputs": [],
   "source": [
    "ad=ad[ad.obs['is_primary_data']]"
   ]
  },
  {
   "cell_type": "markdown",
   "id": "e778eef6-2672-4753-8cc8-cd44cc664271",
   "metadata": {},
   "source": [
    "Some donors got resequenced, and D11 was erroneously added into primary data. Per Fig. 1a, there should be 211,060 newly-generated RNA data points."
   ]
  },
  {
   "cell_type": "code",
   "execution_count": 58,
   "id": "f7af1969-4659-4c54-9587-7bc8585028db",
   "metadata": {},
   "outputs": [
    {
     "name": "stdout",
     "output_type": "stream",
     "text": [
      "(211061, 32583)\n"
     ]
    },
    {
     "data": {
      "text/plain": [
       "donor_id\n",
       "AH1     55785\n",
       "A61     34607\n",
       "D8      33554\n",
       "AH2     27849\n",
       "AV13    18886\n",
       "D7      13925\n",
       "AV14    10624\n",
       "AV3      7388\n",
       "AV10     5757\n",
       "D3       2685\n",
       "D11         1\n",
       "Name: count, dtype: int64"
      ]
     },
     "execution_count": 58,
     "metadata": {},
     "output_type": "execute_result"
    }
   ],
   "source": [
    "print(ad.shape)\n",
    "ad.obs['donor_id'].value_counts()"
   ]
  },
  {
   "cell_type": "code",
   "execution_count": 59,
   "id": "2766ada1-c1b8-4b92-b8ec-27f0488c15a3",
   "metadata": {},
   "outputs": [],
   "source": [
    "ad = ad[ad.obs['donor_id']!='D11']"
   ]
  },
  {
   "cell_type": "code",
   "execution_count": 60,
   "id": "be3a0301-1c99-41ea-a17f-4845667e910e",
   "metadata": {},
   "outputs": [],
   "source": [
    "# ad.obs['Age_bin'] = ad.obs['age']"
   ]
  },
  {
   "cell_type": "code",
   "execution_count": 61,
   "id": "26921a1e-ed5c-42a6-8ec8-e1f1519ebead",
   "metadata": {},
   "outputs": [],
   "source": [
    "ad.obs.rename(columns={'age':'age_decade'},inplace=True)"
   ]
  },
  {
   "cell_type": "markdown",
   "id": "83db4a3d-ab72-4160-becd-78f303d36448",
   "metadata": {},
   "source": [
    "AH2 is reported as 45-50 in Supp. Table but 40-45 in AnnData.  Numbers match otherwise."
   ]
  },
  {
   "cell_type": "code",
   "execution_count": 62,
   "id": "0aaa029a-b48c-4af4-b008-503155432ad6",
   "metadata": {},
   "outputs": [],
   "source": [
    "# ad.obs"
   ]
  },
  {
   "cell_type": "code",
   "execution_count": 63,
   "id": "4b118c87-dde9-4545-8fa7-d5565ac8d891",
   "metadata": {},
   "outputs": [
    {
     "name": "stderr",
     "output_type": "stream",
     "text": [
      "/tmp/ipykernel_23135/395475291.py:6: ImplicitModificationWarning: Trying to modify attribute `.obs` of view, initializing view as actual.\n",
      "  ad.obs['Age_bin'] = ad.obs['donor_id'].map(age_map)\n"
     ]
    }
   ],
   "source": [
    "age_map = {'A61':'70-75','AH1':'45-50','AH2':'45-50',\n",
    "           'AV10':'20-25','AV13':'70-75','AV14':'45-50',\n",
    "           'AV3':'60-65','D3':'55-60','D7':'60-65',\n",
    "           'D8':'45-50'}\n",
    "           \n",
    "ad.obs['Age_bin'] = ad.obs['donor_id'].map(age_map)"
   ]
  },
  {
   "cell_type": "code",
   "execution_count": 64,
   "id": "448895a6-1a70-430c-a3c6-f1c3d4864359",
   "metadata": {},
   "outputs": [],
   "source": [
    "ad = dc.get_pseudobulk(ad,sample_col='donor_id',groups_col='cell_type',\n",
    "    mode='sum',\n",
    "    min_cells=0,\n",
    "    min_counts=0,use_raw=True)"
   ]
  },
  {
   "cell_type": "code",
   "execution_count": 65,
   "id": "6d767564-ae08-4e18-83ee-438b2af1259c",
   "metadata": {},
   "outputs": [
    {
     "data": {
      "text/html": [
       "<div>\n",
       "<style scoped>\n",
       "    .dataframe tbody tr th:only-of-type {\n",
       "        vertical-align: middle;\n",
       "    }\n",
       "\n",
       "    .dataframe tbody tr th {\n",
       "        vertical-align: top;\n",
       "    }\n",
       "\n",
       "    .dataframe thead th {\n",
       "        text-align: right;\n",
       "    }\n",
       "</style>\n",
       "<table border=\"1\" class=\"dataframe\">\n",
       "  <thead>\n",
       "    <tr style=\"text-align: right;\">\n",
       "      <th></th>\n",
       "      <th>donor_id</th>\n",
       "      <th>Age_bin</th>\n",
       "    </tr>\n",
       "  </thead>\n",
       "  <tbody>\n",
       "    <tr>\n",
       "      <th>A61_adipocyte</th>\n",
       "      <td>A61</td>\n",
       "      <td>70-75</td>\n",
       "    </tr>\n",
       "    <tr>\n",
       "      <th>AH1_adipocyte</th>\n",
       "      <td>AH1</td>\n",
       "      <td>45-50</td>\n",
       "    </tr>\n",
       "    <tr>\n",
       "      <th>AH2_adipocyte</th>\n",
       "      <td>AH2</td>\n",
       "      <td>45-50</td>\n",
       "    </tr>\n",
       "    <tr>\n",
       "      <th>AV10_adipocyte</th>\n",
       "      <td>AV10</td>\n",
       "      <td>20-25</td>\n",
       "    </tr>\n",
       "    <tr>\n",
       "      <th>AV13_adipocyte</th>\n",
       "      <td>AV13</td>\n",
       "      <td>70-75</td>\n",
       "    </tr>\n",
       "    <tr>\n",
       "      <th>AV14_adipocyte</th>\n",
       "      <td>AV14</td>\n",
       "      <td>45-50</td>\n",
       "    </tr>\n",
       "    <tr>\n",
       "      <th>AV3_adipocyte</th>\n",
       "      <td>AV3</td>\n",
       "      <td>60-65</td>\n",
       "    </tr>\n",
       "    <tr>\n",
       "      <th>D3_adipocyte</th>\n",
       "      <td>D3</td>\n",
       "      <td>55-60</td>\n",
       "    </tr>\n",
       "    <tr>\n",
       "      <th>D7_adipocyte</th>\n",
       "      <td>D7</td>\n",
       "      <td>60-65</td>\n",
       "    </tr>\n",
       "    <tr>\n",
       "      <th>D8_adipocyte</th>\n",
       "      <td>D8</td>\n",
       "      <td>45-50</td>\n",
       "    </tr>\n",
       "  </tbody>\n",
       "</table>\n",
       "</div>"
      ],
      "text/plain": [
       "               donor_id Age_bin\n",
       "A61_adipocyte       A61   70-75\n",
       "AH1_adipocyte       AH1   45-50\n",
       "AH2_adipocyte       AH2   45-50\n",
       "AV10_adipocyte     AV10   20-25\n",
       "AV13_adipocyte     AV13   70-75\n",
       "AV14_adipocyte     AV14   45-50\n",
       "AV3_adipocyte       AV3   60-65\n",
       "D3_adipocyte         D3   55-60\n",
       "D7_adipocyte         D7   60-65\n",
       "D8_adipocyte         D8   45-50"
      ]
     },
     "execution_count": 65,
     "metadata": {},
     "output_type": "execute_result"
    }
   ],
   "source": [
    "ad.obs[['donor_id','Age_bin']].drop_duplicates()"
   ]
  },
  {
   "cell_type": "code",
   "execution_count": 66,
   "id": "b13f7dc7-4b92-4e10-888e-cb881d20c39a",
   "metadata": {},
   "outputs": [],
   "source": [
    "ad.var.set_index('feature_name',inplace=True)"
   ]
  },
  {
   "cell_type": "code",
   "execution_count": 67,
   "id": "9f50943f-ed7e-4d90-869a-b398a2179a35",
   "metadata": {},
   "outputs": [],
   "source": [
    "ads[dataset] = ad.copy()"
   ]
  },
  {
   "cell_type": "markdown",
   "id": "cfc138e6-6a17-4d46-8a59-77b7fe911c50",
   "metadata": {},
   "source": [
    "## Knight-Schrijver"
   ]
  },
  {
   "cell_type": "code",
   "execution_count": 68,
   "id": "b867153a-52bc-4504-89d1-77ebcae5635e",
   "metadata": {},
   "outputs": [],
   "source": [
    "dataset = 'knight_schrijver'\n",
    "ad = sc.read_h5ad(rt+dataset+'/'+filenames[dataset])"
   ]
  },
  {
   "cell_type": "code",
   "execution_count": 69,
   "id": "8166543b-ad7f-43c5-bb3c-60b646d49ae5",
   "metadata": {},
   "outputs": [
    {
     "name": "stdout",
     "output_type": "stream",
     "text": [
      "8.866902\n",
      "8476.0\n"
     ]
    }
   ],
   "source": [
    "print(ad.X.max())\n",
    "print(ad.raw.X.max())"
   ]
  },
  {
   "cell_type": "code",
   "execution_count": 70,
   "id": "73c3eb7d-2b60-4ef0-956c-5b532ae22f3b",
   "metadata": {},
   "outputs": [],
   "source": [
    "ad=ad[ad.obs['is_primary_data']]"
   ]
  },
  {
   "cell_type": "code",
   "execution_count": 71,
   "id": "cfd4792a-52fc-4e07-aa7e-0dfcebda945a",
   "metadata": {},
   "outputs": [
    {
     "data": {
      "text/plain": [
       "age.days.GA\n",
       "80.0    8332\n",
       "64.0    5950\n",
       "69.0    4429\n",
       "58.0    4083\n",
       "66.0    3391\n",
       "61.0    3239\n",
       "67.0    1465\n",
       "Name: count, dtype: int64"
      ]
     },
     "execution_count": 71,
     "metadata": {},
     "output_type": "execute_result"
    }
   ],
   "source": [
    "ad.obs['age.days.GA'].value_counts()"
   ]
  },
  {
   "cell_type": "code",
   "execution_count": 72,
   "id": "cc101a1a-f804-4509-a0cc-dcb2f370f1cf",
   "metadata": {},
   "outputs": [
    {
     "name": "stderr",
     "output_type": "stream",
     "text": [
      "/tmp/ipykernel_23135/2539002409.py:2: ImplicitModificationWarning: Trying to modify attribute `.obs` of view, initializing view as actual.\n",
      "  ad.obs['age'] = 0 #all fetal\n"
     ]
    }
   ],
   "source": [
    "# ad.obs['age'] = ad.obs['age.days.GA'].astype(float)\n",
    "ad.obs['age'] = 0 #all fetal"
   ]
  },
  {
   "cell_type": "code",
   "execution_count": 73,
   "id": "8eda374b-95b3-43d4-b904-48593a6f3432",
   "metadata": {},
   "outputs": [],
   "source": [
    "ad = dc.get_pseudobulk(ad,sample_col='donor_id',groups_col='cell_type',\n",
    "    mode='sum',\n",
    "    min_cells=0,\n",
    "    min_counts=0,use_raw=True)"
   ]
  },
  {
   "cell_type": "code",
   "execution_count": 74,
   "id": "3f8f3709-c61c-4dd3-bd63-62ef7ce01478",
   "metadata": {},
   "outputs": [],
   "source": [
    "ad.var.set_index('feature_name',inplace=True)"
   ]
  },
  {
   "cell_type": "code",
   "execution_count": 75,
   "id": "84b6cb35-55eb-4c7c-9c2a-5c58e0660595",
   "metadata": {},
   "outputs": [],
   "source": [
    "ads[dataset] = ad.copy()"
   ]
  },
  {
   "cell_type": "markdown",
   "id": "2413f274-b74a-40fb-b5bd-f663980c3a7d",
   "metadata": {},
   "source": [
    "## Kuppe"
   ]
  },
  {
   "cell_type": "code",
   "execution_count": 76,
   "id": "a25f50c1-cb6f-4501-8633-b32a4848aafc",
   "metadata": {},
   "outputs": [],
   "source": [
    "dataset = 'kuppe'\n",
    "ad = sc.read_h5ad(rt+dataset+'/'+filenames[dataset])"
   ]
  },
  {
   "cell_type": "code",
   "execution_count": 77,
   "id": "5dc58801-8e46-4a0e-9319-a63305d3cf45",
   "metadata": {},
   "outputs": [
    {
     "name": "stdout",
     "output_type": "stream",
     "text": [
      "8.693713\n",
      "21324.0\n"
     ]
    }
   ],
   "source": [
    "print(ad.X.max())\n",
    "print(ad.raw.X.max())"
   ]
  },
  {
   "cell_type": "code",
   "execution_count": 78,
   "id": "c6c51d4f-f4c9-4a83-9e46-93539c628fb7",
   "metadata": {},
   "outputs": [],
   "source": [
    "ad.obs['age'] = ad.obs['development_stage'].str.split('-').str[0].astype(float)"
   ]
  },
  {
   "cell_type": "code",
   "execution_count": 79,
   "id": "3bfcede8-1890-46de-8651-b2d39a07c1e9",
   "metadata": {},
   "outputs": [],
   "source": [
    "ad = dc.get_pseudobulk(ad,sample_col='donor_id',groups_col='cell_type',\n",
    "    mode='sum',\n",
    "    min_cells=0,\n",
    "    min_counts=0,use_raw=True)"
   ]
  },
  {
   "cell_type": "code",
   "execution_count": 80,
   "id": "c4a936d8-1031-4e8b-aed9-4db81d7e1a15",
   "metadata": {},
   "outputs": [],
   "source": [
    "ad.var.set_index('feature_name',inplace=True)"
   ]
  },
  {
   "cell_type": "code",
   "execution_count": 81,
   "id": "111bb74b-1757-4f4f-86bd-2a14449ee873",
   "metadata": {},
   "outputs": [],
   "source": [
    "ads[dataset] = ad.copy()"
   ]
  },
  {
   "cell_type": "markdown",
   "id": "2a34a632-0f70-4639-a01c-9dade6576cb6",
   "metadata": {},
   "source": [
    "## Linna-Kuosmanen"
   ]
  },
  {
   "cell_type": "code",
   "execution_count": 82,
   "id": "6383d4e8-9235-4cf6-8037-0214093cb489",
   "metadata": {},
   "outputs": [],
   "source": [
    "dataset = 'linna_kuosmanen'\n",
    "ad1 = sc.read_h5ad(rt+dataset+'/'+filenames[dataset][0])\n",
    "ad2 = sc.read_h5ad(rt+dataset+'/'+filenames[dataset][1])"
   ]
  },
  {
   "cell_type": "code",
   "execution_count": 83,
   "id": "552f267e-4e73-4dec-b8ca-c1ed65fab346",
   "metadata": {},
   "outputs": [],
   "source": [
    "assert ad1.obs['is_primary_data'].mean()==1\n",
    "assert ad2.obs['is_primary_data'].mean()==1"
   ]
  },
  {
   "cell_type": "code",
   "execution_count": 84,
   "id": "d4e989f1-7f38-416f-b824-6acc921b5b2c",
   "metadata": {},
   "outputs": [],
   "source": [
    "ad1.var.set_index('feature_name',inplace=True)\n",
    "ad2.var.set_index('feature_name',inplace=True)"
   ]
  },
  {
   "cell_type": "code",
   "execution_count": 85,
   "id": "9843b2f5-4d1e-4685-b81c-2af1630054a2",
   "metadata": {},
   "outputs": [
    {
     "name": "stderr",
     "output_type": "stream",
     "text": [
      "/home/ec2-user/miniconda/lib/python3.9/site-packages/anndata/_core/anndata.py:1897: UserWarning: Observation names are not unique. To make them unique, call `.obs_names_make_unique`.\n",
      "  utils.warn_names_duplicates(\"obs\")\n",
      "/home/ec2-user/miniconda/lib/python3.9/site-packages/anndata/_core/anndata.py:1897: UserWarning: Observation names are not unique. To make them unique, call `.obs_names_make_unique`.\n",
      "  utils.warn_names_duplicates(\"obs\")\n"
     ]
    }
   ],
   "source": [
    "ad = anndata.concat((ad1,ad2),axis=0)"
   ]
  },
  {
   "cell_type": "code",
   "execution_count": 86,
   "id": "08d39c95-ae8f-45ee-92d9-a1f3f8cc2634",
   "metadata": {},
   "outputs": [],
   "source": [
    "ad.obs_names_make_unique()"
   ]
  },
  {
   "cell_type": "code",
   "execution_count": 87,
   "id": "3d918b21-bdff-4e13-9dce-3ce9d9dc8cc7",
   "metadata": {},
   "outputs": [
    {
     "name": "stdout",
     "output_type": "stream",
     "text": [
      "2588.5754\n",
      "2577.0\n"
     ]
    }
   ],
   "source": [
    "print(ad.X.max())\n",
    "print(ad.raw.X.max())"
   ]
  },
  {
   "cell_type": "code",
   "execution_count": 88,
   "id": "fa45e8d6-be60-494a-9083-87bbf29e5232",
   "metadata": {},
   "outputs": [],
   "source": [
    "age_map = {'pediatric stage':'0-9','postnatal stage':'10-19','third decade stage':'20-29',\n",
    "           'fourth decade stage':'30-39','fifth decade stage':'40-49','sixth decade stage':'50-59',\n",
    "           'seventh decade stage':'60-69','eighth decade stage':'70-79','ninth decade stage':'80-89'}"
   ]
  },
  {
   "cell_type": "code",
   "execution_count": 89,
   "id": "2d0442cc-ade6-482b-9aef-77c492e024e0",
   "metadata": {},
   "outputs": [
    {
     "data": {
      "text/plain": [
       "development_stage\n",
       "seventh decade stage    246548\n",
       "eighth decade stage     166929\n",
       "sixth decade stage      106508\n",
       "fifth decade stage       46551\n",
       "ninth decade stage       46526\n",
       "Name: count, dtype: int64"
      ]
     },
     "execution_count": 89,
     "metadata": {},
     "output_type": "execute_result"
    }
   ],
   "source": [
    "ad.obs['development_stage'].value_counts(dropna=False)"
   ]
  },
  {
   "cell_type": "code",
   "execution_count": 90,
   "id": "96fb4268-0cb8-4a67-9e18-109a1bb80f40",
   "metadata": {},
   "outputs": [],
   "source": [
    "ad.obs['Age_bin']  = ad.obs['development_stage'].map(age_map)"
   ]
  },
  {
   "cell_type": "code",
   "execution_count": 91,
   "id": "bf65b252-185d-4a75-acca-72583c9b8ef2",
   "metadata": {},
   "outputs": [],
   "source": [
    "ad = dc.get_pseudobulk(ad,sample_col='donor_id',groups_col='cell_type',\n",
    "    mode='sum',\n",
    "    min_cells=0,\n",
    "    min_counts=0,use_raw=True)"
   ]
  },
  {
   "cell_type": "code",
   "execution_count": 92,
   "id": "e35207f1-37cc-4aca-9ab0-ea0042cc2758",
   "metadata": {},
   "outputs": [],
   "source": [
    "ads[dataset] = ad.copy()"
   ]
  },
  {
   "cell_type": "markdown",
   "id": "c4e33157-262e-410d-9fba-e78f933b2ccb",
   "metadata": {},
   "source": [
    "## Litvinukova"
   ]
  },
  {
   "cell_type": "code",
   "execution_count": 93,
   "id": "2f87c292-7c51-43c4-9f5e-3b58dd154d2e",
   "metadata": {},
   "outputs": [],
   "source": [
    "dataset = 'litvinukova'\n",
    "ad = sc.read_h5ad(rt+dataset+'/'+filenames[dataset])"
   ]
  },
  {
   "cell_type": "code",
   "execution_count": 94,
   "id": "30f49403-c42e-4f9c-9311-a301270fc9ca",
   "metadata": {},
   "outputs": [
    {
     "name": "stdout",
     "output_type": "stream",
     "text": [
      "7.4499817\n",
      "9386.0\n"
     ]
    }
   ],
   "source": [
    "print(ad.X.max())\n",
    "print(ad.raw.X.max())"
   ]
  },
  {
   "cell_type": "markdown",
   "id": "b00f45bf-01d7-432c-b644-8e6be9279c00",
   "metadata": {},
   "source": [
    "Bins in the AnnData are coarser than in Supplementary Table 1."
   ]
  },
  {
   "cell_type": "code",
   "execution_count": 95,
   "id": "09c0beed-0501-44a3-b011-6665d7da2eae",
   "metadata": {},
   "outputs": [],
   "source": [
    "age_map = {'D1':'50-55','D2':'60-65','D3':'55-60',\n",
    "           'D4':'70-75','D5':'65-70','D6':'70-75',\n",
    "           'D7':'60-65','D11':'60-65','H2':'50-55',\n",
    "           'H3':'50-55','H4':'55-60','H5':'50-55',\n",
    "           'H6':'40-45','H7':'45-50'}\n",
    "           \n",
    "ad.obs['Age_bin'] = ad.obs['donor_id'].map(age_map)"
   ]
  },
  {
   "cell_type": "code",
   "execution_count": 96,
   "id": "b0029853-263e-4a57-8f72-4f8d09b20fa3",
   "metadata": {},
   "outputs": [],
   "source": [
    "ad = dc.get_pseudobulk(ad,sample_col='donor_id',groups_col='cell_type',\n",
    "    mode='sum',\n",
    "    min_cells=0,\n",
    "    min_counts=0,use_raw=True)"
   ]
  },
  {
   "cell_type": "code",
   "execution_count": 97,
   "id": "9ba16531-97df-4c97-912e-495a309f5e0f",
   "metadata": {},
   "outputs": [],
   "source": [
    "ad.var.set_index('feature_name',inplace=True)"
   ]
  },
  {
   "cell_type": "code",
   "execution_count": 98,
   "id": "7dbf6d33-109d-4dc4-9e81-9654e48a0922",
   "metadata": {},
   "outputs": [],
   "source": [
    "ads[dataset] = ad.copy()"
   ]
  },
  {
   "cell_type": "markdown",
   "id": "d50d4276-4a9f-4b0d-b0f4-128db00c7733",
   "metadata": {},
   "source": [
    "## Reichart"
   ]
  },
  {
   "cell_type": "code",
   "execution_count": 99,
   "id": "d98b66c4-b724-4353-a833-b002c8e052d1",
   "metadata": {},
   "outputs": [],
   "source": [
    "dataset = 'reichart'\n",
    "ad = sc.read_h5ad(rt+dataset+'/'+filenames[dataset])"
   ]
  },
  {
   "cell_type": "code",
   "execution_count": 100,
   "id": "97541aff-4719-4747-ba3b-958917e62cae",
   "metadata": {},
   "outputs": [
    {
     "name": "stdout",
     "output_type": "stream",
     "text": [
      "8.956366\n",
      "8499.0\n"
     ]
    }
   ],
   "source": [
    "print(ad.X.max())\n",
    "print(ad.raw.X.max())"
   ]
  },
  {
   "cell_type": "code",
   "execution_count": 101,
   "id": "341cd9d4-b3ee-475b-8852-4b4603148a2c",
   "metadata": {},
   "outputs": [],
   "source": [
    "ad=ad[ad.obs['is_primary_data']]"
   ]
  },
  {
   "cell_type": "code",
   "execution_count": 102,
   "id": "4160a722-b229-4eee-a727-1e7f90c76053",
   "metadata": {},
   "outputs": [],
   "source": [
    "age_map = {'pediatric stage':'0-9','postnatal stage':'10-19','third decade stage':'20-29',\n",
    "           'fourth decade stage':'30-39','fifth decade stage':'40-49','sixth decade stage':'50-59',\n",
    "           'seventh decade stage':'60-69','eighth decade stage':'70-79'}"
   ]
  },
  {
   "cell_type": "code",
   "execution_count": 103,
   "id": "3f19b809-00db-406a-853c-9677c922b776",
   "metadata": {},
   "outputs": [
    {
     "data": {
      "text/plain": [
       "development_stage\n",
       "fifth decade stage      199539\n",
       "seventh decade stage    151949\n",
       "sixth decade stage      118880\n",
       "fourth decade stage      84930\n",
       "postnatal stage          42152\n",
       "third decade stage       41770\n",
       "pediatric stage          18886\n",
       "eighth decade stage       7849\n",
       "Name: count, dtype: int64"
      ]
     },
     "execution_count": 103,
     "metadata": {},
     "output_type": "execute_result"
    }
   ],
   "source": [
    "ad.obs['development_stage'].value_counts()"
   ]
  },
  {
   "cell_type": "code",
   "execution_count": 104,
   "id": "6f2a6d48-e472-422a-ad17-028faf34fa23",
   "metadata": {},
   "outputs": [
    {
     "name": "stderr",
     "output_type": "stream",
     "text": [
      "/tmp/ipykernel_23135/1655173530.py:1: ImplicitModificationWarning: Trying to modify attribute `.obs` of view, initializing view as actual.\n",
      "  ad.obs['Age_bin']  = ad.obs['development_stage'].map(age_map)\n"
     ]
    }
   ],
   "source": [
    "ad.obs['Age_bin']  = ad.obs['development_stage'].map(age_map)"
   ]
  },
  {
   "cell_type": "code",
   "execution_count": 105,
   "id": "25dae674-bddf-41e7-9c2e-e2dc0b5052d5",
   "metadata": {},
   "outputs": [],
   "source": [
    "ad = dc.get_pseudobulk(ad,sample_col='donor_id',groups_col='cell_type',\n",
    "    mode='sum',\n",
    "    min_cells=0,\n",
    "    min_counts=0,use_raw=True)"
   ]
  },
  {
   "cell_type": "code",
   "execution_count": 106,
   "id": "2c29e7db-8dfb-4378-9974-71a130f54988",
   "metadata": {},
   "outputs": [],
   "source": [
    "ad.var.set_index('feature_name',inplace=True)"
   ]
  },
  {
   "cell_type": "code",
   "execution_count": 107,
   "id": "0fe47301-9269-4272-8eea-b0fea288fd8d",
   "metadata": {},
   "outputs": [],
   "source": [
    "ads[dataset] = ad.copy()"
   ]
  },
  {
   "cell_type": "markdown",
   "id": "45314b15-228a-46cd-9338-78272305109f",
   "metadata": {},
   "source": [
    "## Selewa"
   ]
  },
  {
   "cell_type": "code",
   "execution_count": 108,
   "id": "03d52d7b-cf1e-40b4-9037-3dedf067ec79",
   "metadata": {},
   "outputs": [],
   "source": [
    "dataset = 'selewa'\n",
    "ad = sc.read_h5ad(rt+dataset+'/'+filenames[dataset])"
   ]
  },
  {
   "cell_type": "code",
   "execution_count": 109,
   "id": "3cbd8943-6e6b-463f-88c7-c2bb94faf964",
   "metadata": {},
   "outputs": [
    {
     "name": "stdout",
     "output_type": "stream",
     "text": [
      "8.325382\n",
      "3930.0\n"
     ]
    }
   ],
   "source": [
    "print(ad.X.max())\n",
    "print(ad.raw.X.max())"
   ]
  },
  {
   "cell_type": "code",
   "execution_count": 110,
   "id": "f5edcd06-4b0c-4312-8399-bafa6b611c32",
   "metadata": {},
   "outputs": [],
   "source": [
    "ad=ad[ad.obs['is_primary_data']]"
   ]
  },
  {
   "cell_type": "code",
   "execution_count": 111,
   "id": "68e11856-20b2-4dd4-9548-a3500c84dfc8",
   "metadata": {},
   "outputs": [
    {
     "name": "stderr",
     "output_type": "stream",
     "text": [
      "/tmp/ipykernel_23135/1463941940.py:1: ImplicitModificationWarning: Trying to modify attribute `.obs` of view, initializing view as actual.\n",
      "  ad.obs['age'] = ad.obs['development_stage'].str.split('-').str[0].astype(float)\n"
     ]
    }
   ],
   "source": [
    "ad.obs['age'] = ad.obs['development_stage'].str.split('-').str[0].astype(float)"
   ]
  },
  {
   "cell_type": "code",
   "execution_count": 112,
   "id": "740e39a3-3570-48e6-9b7e-33071bef73b5",
   "metadata": {},
   "outputs": [],
   "source": [
    "ad = dc.get_pseudobulk(ad,sample_col='donor_id',groups_col='cell_type',\n",
    "    mode='sum',\n",
    "    min_cells=0,\n",
    "    min_counts=0,use_raw=True)"
   ]
  },
  {
   "cell_type": "code",
   "execution_count": 113,
   "id": "85d67d2b-bddd-4952-bfbb-2e082109d785",
   "metadata": {},
   "outputs": [],
   "source": [
    "ad.var.set_index('feature_name',inplace=True)"
   ]
  },
  {
   "cell_type": "code",
   "execution_count": 114,
   "id": "a69186f3-dbe5-4735-b09c-2f4d68bd69c8",
   "metadata": {},
   "outputs": [],
   "source": [
    "ads[dataset] = ad.copy()"
   ]
  },
  {
   "cell_type": "markdown",
   "id": "ac471f5b-ba7d-46e1-a244-c618e7fd05e0",
   "metadata": {},
   "source": [
    "## Sim"
   ]
  },
  {
   "cell_type": "code",
   "execution_count": 115,
   "id": "d27bafaa-b6d6-44d2-8522-4b86c01064c7",
   "metadata": {},
   "outputs": [],
   "source": [
    "dataset = 'sim'\n",
    "ad = sc.read_h5ad(rt+dataset+'/'+filenames[dataset])"
   ]
  },
  {
   "cell_type": "code",
   "execution_count": 116,
   "id": "4510044b-3fea-47cb-bc81-46c3d79673d8",
   "metadata": {},
   "outputs": [
    {
     "name": "stdout",
     "output_type": "stream",
     "text": [
      "8.49085196676018\n",
      "28948.0\n"
     ]
    }
   ],
   "source": [
    "print(ad.X.max())\n",
    "print(ad.raw.X.max())"
   ]
  },
  {
   "cell_type": "code",
   "execution_count": 117,
   "id": "921ad57c-6135-4202-a76d-f019ee55b4f2",
   "metadata": {},
   "outputs": [],
   "source": [
    "ad=ad[ad.obs['is_primary_data']]"
   ]
  },
  {
   "cell_type": "markdown",
   "id": "b2ee7c49-f8cc-47b1-8cd9-7d9e133bc9bf",
   "metadata": {},
   "source": [
    "Parse fetal data and set ages to zero."
   ]
  },
  {
   "cell_type": "code",
   "execution_count": 118,
   "id": "e47b575e-6532-4f4c-b6b8-a50eadb45ae0",
   "metadata": {},
   "outputs": [
    {
     "name": "stderr",
     "output_type": "stream",
     "text": [
      "/tmp/ipykernel_23135/3547689480.py:2: ImplicitModificationWarning: Trying to modify attribute `.obs` of view, initializing view as actual.\n",
      "  ad.obs['age'] = None\n"
     ]
    }
   ],
   "source": [
    "filt = ~ad.obs['sample_id'].str.startswith('fetal')\n",
    "ad.obs['age'] = None\n",
    "ad.obs.loc[filt,'age'] = ad.obs.loc[filt,'development_stage'].str.split('-').str[0].astype(float)\n",
    "ad.obs.loc[~filt,'age'] = 0"
   ]
  },
  {
   "cell_type": "code",
   "execution_count": 119,
   "id": "d777a951-1221-4d8c-9812-db42cdb7c677",
   "metadata": {},
   "outputs": [],
   "source": [
    "ad = dc.get_pseudobulk(ad,sample_col='donor_id',groups_col='cell_type',\n",
    "    mode='sum',\n",
    "    min_cells=0,\n",
    "    min_counts=0,use_raw=True)"
   ]
  },
  {
   "cell_type": "code",
   "execution_count": 120,
   "id": "64797bee-3f0b-4c31-aea4-3a93e9e2a504",
   "metadata": {},
   "outputs": [],
   "source": [
    "ad.var.set_index('feature_name',inplace=True)"
   ]
  },
  {
   "cell_type": "code",
   "execution_count": 121,
   "id": "73a8110d-72b4-425a-b77a-dec454f1ca95",
   "metadata": {},
   "outputs": [],
   "source": [
    "ads[dataset] = ad.copy()"
   ]
  },
  {
   "cell_type": "markdown",
   "id": "3be0b23b-2d90-4c5e-b981-acf99dd64077",
   "metadata": {},
   "source": [
    "## Simonson"
   ]
  },
  {
   "cell_type": "code",
   "execution_count": 122,
   "id": "9a9edb13-de67-4e74-9454-684f999f9a68",
   "metadata": {},
   "outputs": [],
   "source": [
    "dataset = 'simonson'\n",
    "ad = sc.read_h5ad(rt+dataset+'/'+filenames[dataset])"
   ]
  },
  {
   "cell_type": "code",
   "execution_count": 123,
   "id": "3453d641-c197-409a-bae5-5ca4996406fe",
   "metadata": {},
   "outputs": [
    {
     "name": "stdout",
     "output_type": "stream",
     "text": [
      "2981.0\n"
     ]
    }
   ],
   "source": [
    "print(ad.X.max())"
   ]
  },
  {
   "cell_type": "code",
   "execution_count": 124,
   "id": "a9433c6b-6b1e-47d0-9fdb-b1e185c881ff",
   "metadata": {},
   "outputs": [],
   "source": [
    "ad.obs.rename(columns={'cell_type_leiden0.5':'cell_type'},inplace=True)"
   ]
  },
  {
   "cell_type": "code",
   "execution_count": 125,
   "id": "8d07ce49-c433-4ff5-963f-931f0af55930",
   "metadata": {},
   "outputs": [],
   "source": [
    "ad = dc.get_pseudobulk(ad,sample_col='donor_id',groups_col='cell_type',\n",
    "    mode='sum',\n",
    "    min_cells=0,\n",
    "    min_counts=0,use_raw=False)"
   ]
  },
  {
   "cell_type": "code",
   "execution_count": 126,
   "id": "6e75d2d0-d3d7-4dd6-b7b4-e6295772f67b",
   "metadata": {},
   "outputs": [],
   "source": [
    "ads[dataset] = ad.copy()"
   ]
  },
  {
   "cell_type": "markdown",
   "id": "c4951976-e328-47b0-b71a-51a153543e7d",
   "metadata": {},
   "source": [
    "## Tucker"
   ]
  },
  {
   "cell_type": "code",
   "execution_count": 127,
   "id": "334511d9-5905-448c-9c22-994ba2d2b5a2",
   "metadata": {},
   "outputs": [],
   "source": [
    "dataset = 'tucker'\n",
    "ad = sc.read_h5ad(rt+dataset+'/'+filenames[dataset])"
   ]
  },
  {
   "cell_type": "code",
   "execution_count": 128,
   "id": "1915a204-b491-4306-b494-e8de472dc3bd",
   "metadata": {},
   "outputs": [
    {
     "name": "stdout",
     "output_type": "stream",
     "text": [
      "5365.0\n"
     ]
    }
   ],
   "source": [
    "print(ad.X.max())"
   ]
  },
  {
   "cell_type": "code",
   "execution_count": 129,
   "id": "dcbbf551-56cc-4992-b9d8-e6762b8a7cb6",
   "metadata": {},
   "outputs": [],
   "source": [
    "ad.obs.rename(columns={'Cluster':'cell_type','biological.individual':'donor_id'},inplace=True)"
   ]
  },
  {
   "cell_type": "code",
   "execution_count": 130,
   "id": "21cf3929-03f8-46d1-adcb-bb6fdef6646d",
   "metadata": {},
   "outputs": [
    {
     "name": "stdout",
     "output_type": "stream",
     "text": [
      "1600\n",
      "1666\n",
      "1681\n",
      "1702\n",
      "1708\n",
      "1723\n",
      "1221\n"
     ]
    }
   ],
   "source": [
    "for x in ad.obs['donor_id'].unique(): print(x)"
   ]
  },
  {
   "cell_type": "markdown",
   "id": "c0301449-2ea5-4741-97b1-c85bbc56e48c",
   "metadata": {},
   "source": [
    "Sexes and ages need to be read off Table 1 manually."
   ]
  },
  {
   "cell_type": "code",
   "execution_count": 131,
   "id": "d10fa029-2f5d-4041-aac1-c88258108ccb",
   "metadata": {},
   "outputs": [],
   "source": [
    "ad.obs['sex']=None\n",
    "female_donors = ['1221','1600','1708','1723']\n",
    "filt = ad.obs['donor_id'].str.contains( \"|\".join(female_donors),regex=True)\n",
    "ad.obs.loc[filt,'sex']='female'\n",
    "ad.obs.loc[~filt,'sex']='male'"
   ]
  },
  {
   "cell_type": "code",
   "execution_count": 132,
   "id": "4cd0125b-866d-49d6-ae53-79f416147844",
   "metadata": {},
   "outputs": [],
   "source": [
    "age_map = {'1221':52,'1600':51,'1666':54,'1681':39,'1702':59,'1708':60,'1723':47}\n",
    "ad.obs['age'] = ad.obs['donor_id'].map(age_map)"
   ]
  },
  {
   "cell_type": "code",
   "execution_count": 133,
   "id": "b75791ac-bcde-475e-96d9-b9d06298a81e",
   "metadata": {},
   "outputs": [],
   "source": [
    "ad = dc.get_pseudobulk(ad,sample_col='donor_id',groups_col='cell_type',\n",
    "    mode='sum',\n",
    "    min_cells=0,\n",
    "    min_counts=0,use_raw=False)"
   ]
  },
  {
   "cell_type": "code",
   "execution_count": 134,
   "id": "eae7db3c-afa6-4d0f-bb8c-f6d3fed5431e",
   "metadata": {},
   "outputs": [],
   "source": [
    "ads[dataset] = ad.copy()"
   ]
  },
  {
   "cell_type": "markdown",
   "id": "a9881e93-d99e-4136-81db-0c28bd4c8737",
   "metadata": {},
   "source": [
    "# Export"
   ]
  },
  {
   "cell_type": "markdown",
   "id": "9e733481-8a97-4ddd-bc21-cb80656ef15b",
   "metadata": {},
   "source": [
    "Check that the pseudobulks are correct (integer-valued)."
   ]
  },
  {
   "cell_type": "code",
   "execution_count": 135,
   "id": "14f3ff05-9bb4-4ad9-a41e-89fc5d3791b0",
   "metadata": {},
   "outputs": [
    {
     "name": "stdout",
     "output_type": "stream",
     "text": [
      "amrute\n",
      "brener\n",
      "eraslan\n",
      "hill\n",
      "kanemaru\n",
      "knight_schrijver\n",
      "kuppe\n",
      "linna_kuosmanen\n",
      "litvinukova\n",
      "reichart\n",
      "selewa\n",
      "sim\n",
      "simonson\n",
      "tucker\n"
     ]
    }
   ],
   "source": [
    "for x in ads.keys():\n",
    "    print(x)\n",
    "    assert ((ads[x].X%1)==0).all()"
   ]
  },
  {
   "cell_type": "code",
   "execution_count": 136,
   "id": "7ce902c9-65f3-4656-88ab-8c9aa1ab0276",
   "metadata": {},
   "outputs": [],
   "source": [
    "with open('/home/ec2-user/curation/heart_datasets/gg_250327_heart_celltype_psbulks.p', 'wb') as fp:\n",
    "    pickle.dump(ads, fp)\n"
   ]
  },
  {
   "cell_type": "code",
   "execution_count": 141,
   "id": "8dc87cd8-6559-40c4-a30e-8f45c8909064",
   "metadata": {},
   "outputs": [
    {
     "name": "stdout",
     "output_type": "stream",
     "text": [
      "9354a2445083ab9ae889bb38781337a0  /home/ec2-user/curation/heart_datasets/gg_250327_heart_celltype_psbulks.p\n"
     ]
    }
   ],
   "source": [
    "!md5sum /home/ec2-user/curation/heart_datasets/gg_250327_heart_celltype_psbulks.p"
   ]
  }
 ],
 "metadata": {
  "kernelspec": {
   "display_name": "Python 3 (ipykernel)",
   "language": "python",
   "name": "python3"
  },
  "language_info": {
   "codemirror_mode": {
    "name": "ipython",
    "version": 3
   },
   "file_extension": ".py",
   "mimetype": "text/x-python",
   "name": "python",
   "nbconvert_exporter": "python",
   "pygments_lexer": "ipython3",
   "version": "3.9.7"
  }
 },
 "nbformat": 4,
 "nbformat_minor": 5
}
