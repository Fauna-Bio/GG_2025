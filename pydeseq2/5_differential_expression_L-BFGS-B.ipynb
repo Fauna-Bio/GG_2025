{
 "cells": [
  {
   "cell_type": "code",
   "execution_count": 1,
   "id": "310af64e-5637-4969-9dd1-4ad7d6f58c2f",
   "metadata": {},
   "outputs": [],
   "source": [
    "\n",
    "import matplotlib.pyplot as plt\n",
    "import scanpy as sc\n",
    "import numpy as np\n",
    "import time\n",
    "import scipy\n",
    "import tqdm\n",
    "import pydeseq2\n",
    "from pydeseq2 import utils\n",
    "from pydeseq2 import grid_search\n",
    "from pydeseq2.grid_search import grid_fit_alpha"
   ]
  },
  {
   "cell_type": "code",
   "execution_count": 2,
   "id": "63b95ca4-fd38-4ac3-83cc-d9bc1782cccc",
   "metadata": {},
   "outputs": [],
   "source": [
    "# grid_search"
   ]
  },
  {
   "cell_type": "code",
   "execution_count": null,
   "id": "c2ee8203-42b0-464f-ad0e-2fce7010fe93",
   "metadata": {},
   "outputs": [],
   "source": []
  },
  {
   "cell_type": "code",
   "execution_count": 3,
   "id": "12b388eb-700b-4e5d-8f34-5474d789c704",
   "metadata": {},
   "outputs": [],
   "source": [
    "#https://stackoverflow.com/a/49199019\n",
    "import pkg_resources\n",
    "import types\n",
    "def get_imports():\n",
    "    for name, val in globals().items():\n",
    "        if isinstance(val, types.ModuleType):\n",
    "            # Split ensures you get root package, \n",
    "            # not just imported function\n",
    "            name = val.__name__.split(\".\")[0]\n",
    "\n",
    "        elif isinstance(val, type):\n",
    "            name = val.__module__.split(\".\")[0]\n",
    "            \n",
    "        # Some packages are weird and have different\n",
    "        # imported names vs. system/pip names. Unfortunately,\n",
    "        # there is no systematic way to get pip names from\n",
    "        # a package's imported name. You'll have to add\n",
    "        # exceptions to this list manually!\n",
    "        poorly_named_packages = {\n",
    "            \"PIL\": \"Pillow\",\n",
    "            \"sklearn\": \"scikit-learn\"\n",
    "        }\n",
    "        if name in poorly_named_packages.keys():\n",
    "            name = poorly_named_packages[name]\n",
    "            \n",
    "        yield name\n"
   ]
  },
  {
   "cell_type": "markdown",
   "id": "0fb876e0-8ba8-49a9-81d8-5aa62f7ed9a9",
   "metadata": {},
   "source": [
    "# New version"
   ]
  },
  {
   "cell_type": "code",
   "execution_count": 4,
   "id": "6feddbb4-7a19-43af-9d76-59e9552008e5",
   "metadata": {},
   "outputs": [],
   "source": [
    "dds_new=sc.read_h5ad('/home/ec2-user/notebooks/gg2401_sn_13lgs/xist/dds_052.h5ad')\n",
    "dds_old=sc.read_h5ad('/home/ec2-user/notebooks/gg2401_sn_13lgs/xist/dds_048.h5ad')"
   ]
  },
  {
   "cell_type": "code",
   "execution_count": 5,
   "id": "0eaf98c7-7826-4525-b2c2-aaeab9e7be9e",
   "metadata": {},
   "outputs": [
    {
     "data": {
      "text/plain": [
       "array([[ 1,  2,  1, ...,  1,  0,  0],\n",
       "       [ 4,  0,  4, ...,  4,  2,  0],\n",
       "       [10,  8,  5, ...,  7,  7,  2],\n",
       "       ...,\n",
       "       [23, 12, 28, ..., 25, 13,  2],\n",
       "       [36, 12, 27, ..., 12, 14,  4],\n",
       "       [17,  6, 33, ..., 12,  9,  0]])"
      ]
     },
     "execution_count": 5,
     "metadata": {},
     "output_type": "execute_result"
    }
   ],
   "source": [
    "dds_new.X"
   ]
  },
  {
   "cell_type": "markdown",
   "id": "8c7a52c7-24bb-46b7-ad53-3ad71d6dd14f",
   "metadata": {},
   "source": [
    "new"
   ]
  },
  {
   "cell_type": "code",
   "execution_count": 6,
   "id": "a536c432-18cf-45e6-8d73-17640ca8767b",
   "metadata": {},
   "outputs": [
    {
     "name": "stdout",
     "output_type": "stream",
     "text": [
      "matplotlib==3.10.3\n",
      "numpy==2.2.6\n",
      "pydeseq2==0.5.2\n",
      "scanpy==1.11.1\n",
      "scipy==1.15.3\n",
      "tqdm==4.67.1\n"
     ]
    }
   ],
   "source": [
    "#https://stackoverflow.com/a/49199019\n",
    "imports = list(set(get_imports()))\n",
    "\n",
    "# The only way I found to get the version of the root package\n",
    "# from only the name of the package is to cross-check the names \n",
    "# of installed packages vs. imported packages\n",
    "requirements = []\n",
    "for m in pkg_resources.working_set:\n",
    "    if m.project_name in imports and m.project_name!=\"pip\":\n",
    "        requirements.append((m.project_name, m.version))\n",
    "\n",
    "for r in requirements:\n",
    "    print(\"{}=={}\".format(*r))\n"
   ]
  },
  {
   "cell_type": "markdown",
   "id": "ea2fd39e-ee6f-47fd-9535-5f40f817f522",
   "metadata": {},
   "source": [
    "old"
   ]
  },
  {
   "cell_type": "code",
   "execution_count": 6,
   "id": "296a2f1a-a140-4850-b35a-b4eb0fed5455",
   "metadata": {},
   "outputs": [
    {
     "name": "stdout",
     "output_type": "stream",
     "text": [
      "tqdm==4.67.1\n",
      "scipy==1.11.4\n",
      "scanpy==1.9.6\n",
      "pydeseq2==0.4.8\n",
      "numpy==1.26.2\n",
      "matplotlib==3.8.2\n"
     ]
    }
   ],
   "source": [
    "#https://stackoverflow.com/a/49199019\n",
    "imports = list(set(get_imports()))\n",
    "\n",
    "# The only way I found to get the version of the root package\n",
    "# from only the name of the package is to cross-check the names \n",
    "# of installed packages vs. imported packages\n",
    "requirements = []\n",
    "for m in pkg_resources.working_set:\n",
    "    if m.project_name in imports and m.project_name!=\"pip\":\n",
    "        requirements.append((m.project_name, m.version))\n",
    "\n",
    "for r in requirements:\n",
    "    print(\"{}=={}\".format(*r))\n"
   ]
  },
  {
   "cell_type": "code",
   "execution_count": 7,
   "id": "f7a520ef-ec06-4b25-8a72-5053175f0286",
   "metadata": {},
   "outputs": [],
   "source": [
    "min_disp=1e-8\n",
    "max_disp=dds_old.n_obs\n",
    "prior_disp_var=None\n",
    "cr_reg=True\n",
    "prior_reg=False\n",
    "optimizer=\"L-BFGS-B\"\n",
    "\n",
    "#new\n",
    "non_zero_idx = np.arange(dds_new.n_vars)[dds_new.var[\"non_zero\"]]\n",
    "counts=dds_new.X[:, non_zero_idx] #this is int\n",
    "design_matrix=dds_new.obsm['design_matrix'].values #this is float\n",
    "mu = dds_new.layers['_mu_hat'][:, non_zero_idx]\n",
    "alpha_hat = dds_new.var[\"_MoM_dispersions\"][dds_new.var[\"non_zero\"]]\n",
    "\n"
   ]
  },
  {
   "cell_type": "code",
   "execution_count": 8,
   "id": "7818250d-1ed1-4530-b313-2c58b4d29ec0",
   "metadata": {},
   "outputs": [],
   "source": [
    "\n",
    "x=dds_old.layers['_mu_hat'][:, non_zero_idx][~np.isclose(dds_old.layers['_mu_hat'][:, non_zero_idx],dds_new.layers['_mu_hat'][:, non_zero_idx])]\n",
    "y=dds_new.layers['_mu_hat'][:, non_zero_idx][~np.isclose(dds_old.layers['_mu_hat'][:, non_zero_idx],dds_new.layers['_mu_hat'][:, non_zero_idx])]\n",
    "\n",
    "\n"
   ]
  },
  {
   "cell_type": "code",
   "execution_count": 9,
   "id": "36e6d255-d10f-41a7-9a56-b9b2d5e520d0",
   "metadata": {},
   "outputs": [
    {
     "data": {
      "image/png": "[encoded data removed]",
      "text/plain": [
       "<Figure size 640x480 with 1 Axes>"
      ]
     },
     "metadata": {},
     "output_type": "display_data"
    }
   ],
   "source": [
    "plt.scatter(x,np.abs(y-x)/x,3,'k',alpha=0.3)\n",
    "plt.xscale('log')\n",
    "plt.yscale('log')"
   ]
  },
  {
   "cell_type": "code",
   "execution_count": 10,
   "id": "842a6cff-888a-436b-9eb3-3f90e5b1931c",
   "metadata": {},
   "outputs": [],
   "source": [
    "# assert all(np.arange(dds_new.n_vars)[dds_new.var[\"non_zero\"]]==np.arange(dds_old.n_vars)[dds_old.varm[\"non_zero\"]])\n",
    "# assert (dds_new.X[:, non_zero_idx]==dds_old.X[:, non_zero_idx]).all()\n",
    "# assert (dds_old.layers['_mu_hat'][:, non_zero_idx]==dds_new.layers['_mu_hat'][:, non_zero_idx]).all()"
   ]
  },
  {
   "cell_type": "code",
   "execution_count": 11,
   "id": "02d7d3f8-9f5e-40a2-8da2-808d1abe7016",
   "metadata": {},
   "outputs": [],
   "source": [
    "x=dds_new.var[\"_MoM_dispersions\"][dds_new.var[\"non_zero\"]][~np.isclose(dds_new.var[\"_MoM_dispersions\"][dds_new.var[\"non_zero\"]],dds_old.varm[\"_MoM_dispersions\"][dds_old.varm[\"non_zero\"]])].values\n",
    "y=dds_old.varm[\"_MoM_dispersions\"][dds_new.var[\"non_zero\"]][~np.isclose(dds_new.var[\"_MoM_dispersions\"][dds_new.var[\"non_zero\"]],dds_old.varm[\"_MoM_dispersions\"][dds_old.varm[\"non_zero\"]])]"
   ]
  },
  {
   "cell_type": "code",
   "execution_count": 12,
   "id": "6bbb7809-934a-45ce-acb4-d1de02ae22ff",
   "metadata": {},
   "outputs": [
    {
     "data": {
      "image/png": "[encoded data removed]",
      "text/plain": [
       "<Figure size 640x480 with 1 Axes>"
      ]
     },
     "metadata": {},
     "output_type": "display_data"
    }
   ],
   "source": [
    "plt.scatter(x,np.abs(y-x)/x,3,'k',alpha=0.3)\n",
    "plt.xscale('log')\n",
    "plt.yscale('log')"
   ]
  },
  {
   "cell_type": "code",
   "execution_count": 13,
   "id": "5b07e51c-27ee-4bd0-a354-13c9d82b73da",
   "metadata": {},
   "outputs": [
    {
     "data": {
      "text/plain": [
       "array([[1., 0., 0., 0., 0., 0., 0., 0.],\n",
       "       [1., 0., 0., 0., 1., 0., 0., 0.],\n",
       "       [1., 0., 1., 0., 0., 0., 0., 0.],\n",
       "       [1., 0., 0., 1., 0., 0., 0., 0.],\n",
       "       [1., 0., 0., 0., 0., 1., 0., 0.],\n",
       "       [1., 0., 0., 0., 0., 0., 1., 0.],\n",
       "       [1., 0., 0., 0., 0., 0., 0., 1.],\n",
       "       [1., 1., 0., 0., 0., 0., 0., 0.],\n",
       "       [1., 1., 0., 0., 1., 0., 0., 0.],\n",
       "       [1., 1., 1., 0., 0., 0., 0., 0.],\n",
       "       [1., 1., 0., 1., 0., 0., 0., 0.],\n",
       "       [1., 1., 0., 0., 0., 1., 0., 0.],\n",
       "       [1., 1., 0., 0., 0., 0., 1., 0.],\n",
       "       [1., 1., 0., 0., 0., 0., 0., 1.]])"
      ]
     },
     "execution_count": 13,
     "metadata": {},
     "output_type": "execute_result"
    }
   ],
   "source": [
    "design_matrix"
   ]
  },
  {
   "cell_type": "code",
   "execution_count": 14,
   "id": "3c7dc2a7-77b3-4275-9d10-02fc82c28430",
   "metadata": {},
   "outputs": [],
   "source": [
    "# #old\n",
    "# non_zero_idx = np.arange(dds_old.n_vars)[dds_old.varm[\"non_zero\"]]\n",
    "# counts=dds_old.X[:, non_zero_idx] #this is float\n",
    "# # counts=dds_old.X[:, non_zero_idx].astype('float32') #this is float\n",
    "# # counts=dds_old.X[:, non_zero_idx].astype('float32') #this is float\n",
    "# # counts=dds_old.X[:, non_zero_idx].astype('int') #this is float\n",
    "# # counts=dds_old.X[:, non_zero_idx].astype('float32') #this is float\n",
    "# # counts=dds_old.X[:, non_zero_idx].astype('int') #this is float\n",
    "# # counts=dds_old.X[:, non_zero_idx]#this is float\n",
    "# design_matrix=dds_old.obsm['design_matrix'].values #this is int\n",
    "# # counts=dds_new.X[:, non_zero_idx] #this is int\n",
    "# # design_matrix=dds_new.obsm['design_matrix'].values.astype(int) #this is float\n",
    "\n",
    "\n",
    "# mu = dds_old.layers['_mu_hat'][:, non_zero_idx]\n",
    "# alpha_hat = dds_old.varm[\"_MoM_dispersions\"][dds_old.varm[\"non_zero\"]]\n"
   ]
  },
  {
   "cell_type": "code",
   "execution_count": 15,
   "id": "52f5bf61-6b7f-44bd-ba99-c931ed38c37e",
   "metadata": {},
   "outputs": [],
   "source": [
    "# dds_old.X[:, non_zero_idx].astype(/'float32')[0][0]"
   ]
  },
  {
   "cell_type": "code",
   "execution_count": 16,
   "id": "06939033-be80-46c0-b5c3-5f858ce05481",
   "metadata": {},
   "outputs": [],
   "source": [
    "# dds_old.X[:, non_zero_idx].astype(float)[0][0]"
   ]
  },
  {
   "cell_type": "code",
   "execution_count": 18,
   "id": "64e4eda4-bf16-42db-a1cd-bdab3b586178",
   "metadata": {},
   "outputs": [],
   "source": [
    "# (dds_old.X[:, non_zero_idx].astype('float32')==dds_old.X[:, non_zero_idx].astype(float)).mean()"
   ]
  },
  {
   "cell_type": "code",
   "execution_count": 19,
   "id": "5d4d77a3-40a2-4283-abc3-bcd359a88c1a",
   "metadata": {},
   "outputs": [],
   "source": [
    "# counts[:,0]+2.3"
   ]
  },
  {
   "cell_type": "code",
   "execution_count": 17,
   "id": "7fb1fcdd-0193-483f-85a8-87458394d5ef",
   "metadata": {},
   "outputs": [],
   "source": [
    "from scipy.special import gammaln  # type: ignore\n",
    "from scipy.special import polygamma  # type: ignore\n",
    "\n",
    "def nb_nll(counts,mu,alpha):\n",
    "\n",
    "    n = len(counts)\n",
    "    alpha_neg1 = 1 / alpha\n",
    "    logbinom = gammaln(counts + alpha_neg1) - gammaln(counts + 1) - gammaln(alpha_neg1)\n",
    "    if hasattr(alpha, \"__len__\") and len(alpha) > 1:\n",
    "        return (\n",
    "            alpha_neg1 * np.log(alpha)\n",
    "            - logbinom\n",
    "            + (counts + alpha_neg1) * np.log(mu + alpha_neg1)\n",
    "            - (counts * np.log(mu))\n",
    "        ).sum(0)\n",
    "    else:\n",
    "        return (\n",
    "            n * alpha_neg1 * np.log(alpha)\n",
    "            + (\n",
    "                -logbinom\n",
    "                + (counts + alpha_neg1) * np.log(alpha_neg1 + mu)\n",
    "                - counts * np.log(mu)\n",
    "            ).sum()\n",
    "        )\n",
    "\n",
    "\n",
    "def dnb_nll(counts,mu,alpha):\n",
    "    alpha_neg1 = 1 / alpha\n",
    "    ll_part = (\n",
    "        alpha_neg1**2\n",
    "        * (\n",
    "            polygamma(0, alpha_neg1)\n",
    "            - polygamma(0, counts + alpha_neg1)\n",
    "            + np.log(1 + mu * alpha)\n",
    "            + (counts - mu) / (mu + alpha_neg1)\n",
    "        ).sum()\n",
    "    )\n",
    "\n",
    "    return -ll_part"
   ]
  },
  {
   "cell_type": "code",
   "execution_count": 18,
   "id": "a0203dc4-57b7-4072-a7f3-e583ffd4182c",
   "metadata": {},
   "outputs": [],
   "source": [
    "def fit_alpha_mle(\n",
    "    counts: np.ndarray,\n",
    "    design_matrix: np.ndarray,\n",
    "    mu: np.ndarray,\n",
    "    alpha_hat: float,\n",
    "    min_disp: float,\n",
    "    max_disp: float,\n",
    "    prior_disp_var,\n",
    "    cr_reg: bool = True,\n",
    "    prior_reg: bool = False,\n",
    "    optimizer = \"L-BFGS-B\",\n",
    ") -> tuple[float, bool]:\n",
    "\n",
    "    assert optimizer in [\"BFGS\", \"L-BFGS-B\"]\n",
    "\n",
    "    if prior_reg:\n",
    "        # Note: assertion is not working when using numpy\n",
    "        assert (\n",
    "            prior_disp_var is not None\n",
    "        ), \"Sigma_prior is required for prior regularization\"\n",
    "\n",
    "    log_alpha_hat = np.log(alpha_hat)\n",
    "\n",
    "    def loss(log_alpha: float) -> float:\n",
    "        # closure to be minimized\n",
    "        alpha = np.exp(log_alpha)\n",
    "        reg = 0\n",
    "        if cr_reg:\n",
    "            W = mu / (1 + mu * alpha)\n",
    "            reg += 0.5 * np.linalg.slogdet((design_matrix.T * W) @ design_matrix)[1]\n",
    "        if prior_reg:\n",
    "            if prior_disp_var is None:\n",
    "                raise ValueError(\"Sigma_prior is required for prior regularization\")\n",
    "            reg += (log_alpha - log_alpha_hat) ** 2 / (2 * prior_disp_var)\n",
    "        return nb_nll(counts, mu, alpha) + reg\n",
    "\n",
    "    def dloss(log_alpha: float) -> float:\n",
    "        # gradient closure\n",
    "        alpha = np.exp(log_alpha)\n",
    "        reg_grad = 0\n",
    "        if cr_reg:\n",
    "            W = mu / (1 + mu * alpha)\n",
    "            dW = -(W**2)\n",
    "            reg_grad += (\n",
    "                0.5\n",
    "                * (\n",
    "                    np.linalg.inv((design_matrix.T * W) @ design_matrix)\n",
    "                    * ((design_matrix.T * dW) @ design_matrix)\n",
    "                ).sum()\n",
    "            ) * alpha  # since we want the gradient wrt log_alpha,\n",
    "            # we need to multiply by alpha\n",
    "        if prior_reg:\n",
    "            if prior_disp_var is None:\n",
    "                raise ValueError(\"Sigma_prior is required for prior regularization\")\n",
    "\n",
    "            reg_grad += (log_alpha - log_alpha_hat) / prior_disp_var\n",
    "        # dnb_nll is the gradient wrt alpha, we need to multiply by alpha to get the\n",
    "        # gradient wrt log_alpha\n",
    "        return alpha * dnb_nll(counts, mu, alpha) + reg_grad\n",
    "\n",
    "    res = scipy.optimize.minimize(\n",
    "        lambda x: loss(x[0]),\n",
    "        x0=np.log(alpha_hat),\n",
    "        jac=lambda x: dloss(x[0]),\n",
    "        method=optimizer,\n",
    "        bounds=(\n",
    "            [(np.log(min_disp), np.log(max_disp))] if optimizer == \"L-BFGS-B\" else None\n",
    "        ),\n",
    "    )\n",
    "\n",
    "    if res.success:\n",
    "        return np.exp(res.x[0]), res.success\n",
    "    else:\n",
    "        return (1e-8,False)\n",
    "\n"
   ]
  },
  {
   "cell_type": "code",
   "execution_count": 19,
   "id": "d85094af-22fd-4c95-9cf1-11210bd7d4a6",
   "metadata": {},
   "outputs": [],
   "source": [
    "def fit_alpha_mle_with_grid_search(\n",
    "    counts: np.ndarray,\n",
    "    design_matrix: np.ndarray,\n",
    "    mu: np.ndarray,\n",
    "    alpha_hat: float,\n",
    "    min_disp: float,\n",
    "    max_disp: float,\n",
    "    prior_disp_var,\n",
    "    cr_reg: bool = True,\n",
    "    prior_reg: bool = False,\n",
    "    optimizer = \"L-BFGS-B\",return_everything=False\n",
    ") -> tuple[float, bool]:\n",
    "\n",
    "    assert optimizer in [\"BFGS\", \"L-BFGS-B\"]\n",
    "\n",
    "    if prior_reg:\n",
    "        # Note: assertion is not working when using numpy\n",
    "        assert (\n",
    "            prior_disp_var is not None\n",
    "        ), \"Sigma_prior is required for prior regularization\"\n",
    "\n",
    "    log_alpha_hat = np.log(alpha_hat)\n",
    "\n",
    "    def loss(log_alpha: float) -> float:\n",
    "        # closure to be minimized\n",
    "        alpha = np.exp(log_alpha)\n",
    "        reg = 0\n",
    "        if cr_reg:\n",
    "            W = mu / (1 + mu * alpha)\n",
    "            reg += 0.5 * np.linalg.slogdet((design_matrix.T * W) @ design_matrix)[1]\n",
    "        if prior_reg:\n",
    "            if prior_disp_var is None:\n",
    "                raise ValueError(\"Sigma_prior is required for prior regularization\")\n",
    "            reg += (log_alpha - log_alpha_hat) ** 2 / (2 * prior_disp_var)\n",
    "        return nb_nll(counts, mu, alpha) + reg\n",
    "\n",
    "    def dloss(log_alpha: float) -> float:\n",
    "        # gradient closure\n",
    "        alpha = np.exp(log_alpha)\n",
    "        reg_grad = 0\n",
    "        if cr_reg:\n",
    "            W = mu / (1 + mu * alpha)\n",
    "            dW = -(W**2)\n",
    "            reg_grad += (\n",
    "                0.5\n",
    "                * (\n",
    "                    np.linalg.inv((design_matrix.T * W) @ design_matrix)\n",
    "                    * ((design_matrix.T * dW) @ design_matrix)\n",
    "                ).sum()\n",
    "            ) * alpha  # since we want the gradient wrt log_alpha,\n",
    "            # we need to multiply by alpha\n",
    "        if prior_reg:\n",
    "            if prior_disp_var is None:\n",
    "                raise ValueError(\"Sigma_prior is required for prior regularization\")\n",
    "\n",
    "            reg_grad += (log_alpha - log_alpha_hat) / prior_disp_var\n",
    "        # dnb_nll is the gradient wrt alpha, we need to multiply by alpha to get the\n",
    "        # gradient wrt log_alpha\n",
    "        return alpha * dnb_nll(counts, mu, alpha) + reg_grad\n",
    "\n",
    "    res = scipy.optimize.minimize(\n",
    "        lambda x: loss(x[0]),\n",
    "        x0=np.log(alpha_hat),\n",
    "        jac=lambda x: dloss(x[0]),\n",
    "        method=optimizer,\n",
    "        bounds=(\n",
    "            [(np.log(min_disp), np.log(max_disp))] if optimizer == \"L-BFGS-B\" else None\n",
    "        ),\n",
    "    )\n",
    "    grid_res = grid_fit_alpha(counts, design_matrix, mu, alpha_hat, min_disp, max_disp)\n",
    "    grid_loss = loss(grid_res)\n",
    "    # print(res)\n",
    "    lbfgsb_res = res.x[0]\n",
    "    lbfgsb_converged=res.success\n",
    "    lbfgsb_loss = loss(lbfgsb_res)\n",
    "\n",
    "    if return_everything:\n",
    "        return grid_res, grid_loss, lbfgsb_res,lbfgsb_loss, lbfgsb_converged\n",
    "    if res.success:\n",
    "        return np.exp(res.x[0]), res.success\n",
    "    else:\n",
    "        return np.exp(grid_res), res.success\n",
    "\n"
   ]
  },
  {
   "cell_type": "code",
   "execution_count": 20,
   "id": "2d23bf43-2340-4383-9ed1-e22dba88bc27",
   "metadata": {},
   "outputs": [],
   "source": [
    "def plot_loss(counts: np.ndarray,\n",
    "    design_matrix: np.ndarray,\n",
    "    mu: np.ndarray,\n",
    "    alpha_hat: float,\n",
    "    min_disp: float,\n",
    "    max_disp: float,\n",
    "    prior_disp_var,\n",
    "    cr_reg: bool = True,\n",
    "    prior_reg: bool = False,\n",
    "    optimizer = \"L-BFGS-B\",\n",
    "):\n",
    "    if prior_reg:\n",
    "        # Note: assertion is not working when using numpy\n",
    "        assert (\n",
    "            prior_disp_var is not None\n",
    "        ), \"Sigma_prior is required for prior regularization\"\n",
    "\n",
    "    log_alpha_hat = np.log(alpha_hat)\n",
    "\n",
    "    def loss(log_alpha: float) -> float:\n",
    "        # closure to be minimized\n",
    "        alpha = np.exp(log_alpha)\n",
    "        reg = 0\n",
    "        if cr_reg:\n",
    "            W = mu / (1 + mu * alpha)\n",
    "            reg += 0.5 * np.linalg.slogdet((design_matrix.T * W) @ design_matrix)[1]\n",
    "        if prior_reg:\n",
    "            if prior_disp_var is None:\n",
    "                raise ValueError(\"Sigma_prior is required for prior regularization\")\n",
    "            reg += (log_alpha - log_alpha_hat) ** 2 / (2 * prior_disp_var)\n",
    "        return nb_nll(counts, mu, alpha) + reg\n",
    "    def dloss(log_alpha: float) -> float:\n",
    "        # gradient closure\n",
    "        alpha = np.exp(log_alpha)\n",
    "        reg_grad = 0\n",
    "        if cr_reg:\n",
    "            W = mu / (1 + mu * alpha)\n",
    "            dW = -(W**2)\n",
    "            reg_grad += (\n",
    "                0.5\n",
    "                * (\n",
    "                    np.linalg.inv((design_matrix.T * W) @ design_matrix)\n",
    "                    * ((design_matrix.T * dW) @ design_matrix)\n",
    "                ).sum()\n",
    "            ) * alpha  # since we want the gradient wrt log_alpha,\n",
    "            # we need to multiply by alpha\n",
    "        if prior_reg:\n",
    "            if prior_disp_var is None:\n",
    "                raise ValueError(\"Sigma_prior is required for prior regularization\")\n",
    "\n",
    "            reg_grad += (log_alpha - log_alpha_hat) / prior_disp_var\n",
    "        # dnb_nll is the gradient wrt alpha, we need to multiply by alpha to get the\n",
    "        # gradient wrt log_alpha\n",
    "        return alpha * dnb_nll(counts, mu, alpha) + reg_grad\n",
    "\n",
    "    res = scipy.optimize.minimize(\n",
    "        lambda x: loss(x[0]),\n",
    "        x0=np.log(alpha_hat),\n",
    "        jac=lambda x: dloss(x[0]),\n",
    "        method=optimizer,\n",
    "        bounds=(\n",
    "            [(np.log(min_disp), np.log(max_disp))] if optimizer == \"L-BFGS-B\" else None\n",
    "        ),\n",
    "    )\n",
    "    print(res.message)\n",
    "    print(res.success)\n",
    "    print('lbfgsb ' + str(res.x[0]))\n",
    "    print('lbfgsb ' + str(res.x[0]+1e-4))\n",
    "    # print( np.exp(res.x[0]))\n",
    "    # print(alpha_hat)\n",
    "    xl = np.linspace(np.log(min_disp), np.log(max_disp),500)\n",
    "    plt.plot(xl,[loss(x_) for x_ in xl],color='lightgray',zorder=-1000)\n",
    "    plt.scatter(np.log(alpha_hat),loss(np.log(alpha_hat)),120,'k',marker='^',label='start '+str(loss(np.log(alpha_hat))))\n",
    "    plt.scatter(res.x[0],loss(res.x[0]),60,'r',label='lbfgsb '+str(loss(res.x[0])))\n",
    "    # x_ = -2.6546317340695693\n",
    "    # print(loss(-20))\n",
    "    # print(loss(-15))\n",
    "    # print(loss(-10))\n",
    "    x_=grid_fit_alpha(counts, design_matrix, mu, alpha_hat, min_disp, max_disp)\n",
    "    print('grid '+str(x_))\n",
    "    # print(x_)\n",
    "    plt.scatter(x_,loss(x_),30,'b',label='grid '+str(loss(x_)) )\n",
    "    plt.legend()\n",
    "    plt.xlabel('log alpha')\n",
    "    plt.ylabel('loss')\n",
    "    # print(loss(x_))\n",
    "    # plt.yscale('log')"
   ]
  },
  {
   "cell_type": "code",
   "execution_count": 21,
   "id": "130227ce-d884-408b-a5df-a899a7c68a92",
   "metadata": {},
   "outputs": [],
   "source": [
    "# design_matrix_=np.array([[1., 0., 0., 0., 0., 0., 0., 0.],\n",
    "#        [1., 0., 0., 0., 1., 0., 0., 0.],\n",
    "#        [1., 0., 1., 0., 0., 0., 0., 0.],\n",
    "#        [1., 0., 0., 1., 0., 0., 0., 0.],\n",
    "#        [1., 0., 0., 0., 0., 1., 0., 0.],\n",
    "#        [1., 0., 0., 0., 0., 0., 1., 0.],\n",
    "#        [1., 0., 0., 0., 0., 0., 0., 1.],\n",
    "#        [1., 1., 0., 0., 0., 0., 0., 0.],\n",
    "#        [1., 1., 0., 0., 1., 0., 0., 0.],\n",
    "#        [1., 1., 1., 0., 0., 0., 0., 0.],\n",
    "#        [1., 1., 0., 1., 0., 0., 0., 0.],\n",
    "#        [1., 1., 0., 0., 0., 1., 0., 0.],\n",
    "#        [1., 1., 0., 0., 0., 0., 1., 0.],\n",
    "#        [1., 1., 0., 0., 0., 0., 0., 1.]])\n",
    "# counts_ = np.array([ 1,  4,  5,  1,  6, 12,  6,  0,  6, 11,  3, 28, 27, 33])\n",
    "# mu _ = np.array([ 0.48002107,  1.90728713,  8.34361091,  1.37591092,  7.51619853,\n",
    "#         7.98984003,  7.38754112,  0.52039459,  8.09271187,  7.65638792,\n",
    "#         2.62408874, 26.48380025, 31.01015974, 31.61245707])"
   ]
  },
  {
   "cell_type": "code",
   "execution_count": 22,
   "id": "ad333ed9-63b7-42a2-aa90-0976b13cf801",
   "metadata": {},
   "outputs": [],
   "source": []
  },
  {
   "cell_type": "code",
   "execution_count": 49,
   "id": "2cb8c995-c3dd-4bb9-8141-bdd9497dcd5a",
   "metadata": {},
   "outputs": [
    {
     "name": "stderr",
     "output_type": "stream",
     "text": [
      "/tmp/ipykernel_25972/1777447424.py:8: FutureWarning: Series.__getitem__ treating keys as positions is deprecated. In a future version, integer keys will always be treated as labels (consistent with DataFrame behavior). To access a value by position, use `ser.iloc[pos]`\n",
      "  alpha_hat = alpha_hat[i],\n"
     ]
    },
    {
     "name": "stdout",
     "output_type": "stream",
     "text": [
      "CONVERGENCE: REL_REDUCTION_OF_F_<=_FACTR*EPSMCH\n",
      "True\n",
      "lbfgsb -18.420633954354834\n",
      "lbfgsb -18.420533954354834\n",
      "grid -2.2471628906982564\n"
     ]
    },
    {
     "data": {
      "image/png": "[encoded data removed]",
      "text/plain": [
       "<Figure size 640x480 with 1 Axes>"
      ]
     },
     "metadata": {},
     "output_type": "display_data"
    }
   ],
   "source": [
    "i = 2875\n",
    "plot_loss(\n",
    "                                 # counts=counts[:,i].astype('float32'),\n",
    "                                 counts=counts[:,i].astype('int'),\n",
    "                                 design_matrix=design_matrix,\n",
    "                                 mu=mu[:,i],\n",
    "                                 # alpha_hat=np.exp((np.log(min_disp)+np.log(max_disp))/2),\n",
    "                                 alpha_hat = alpha_hat[i],\n",
    "                                 min_disp=min_disp,\n",
    "                                 max_disp=max_disp,\n",
    "                                 prior_disp_var=prior_disp_var,\n",
    "                                 cr_reg=cr_reg,\n",
    "                                 prior_reg=prior_reg,\n",
    "                                 optimizer=optimizer)"
   ]
  },
  {
   "cell_type": "markdown",
   "id": "2014fc6e-755e-456b-bd16-ca97bbab623d",
   "metadata": {},
   "source": [
    "This oscillation is very poorly reproducible... need float32 + older version?"
   ]
  },
  {
   "cell_type": "code",
   "execution_count": 24,
   "id": "670c00f1-ce47-47a7-b369-4adde891e685",
   "metadata": {},
   "outputs": [
    {
     "name": "stderr",
     "output_type": "stream",
     "text": [
      "/tmp/ipykernel_25972/4132136430.py:8: FutureWarning: Series.__getitem__ treating keys as positions is deprecated. In a future version, integer keys will always be treated as labels (consistent with DataFrame behavior). To access a value by position, use `ser.iloc[pos]`\n",
      "  alpha_hat = alpha_hat[i],\n"
     ]
    },
    {
     "name": "stdout",
     "output_type": "stream",
     "text": [
      "ABNORMAL_TERMINATION_IN_LNSRCH\n",
      "False\n",
      "lbfgsb -7.712728086274476\n",
      "lbfgsb -7.712628086274476\n",
      "grid -17.485981625290812\n"
     ]
    },
    {
     "data": {
      "image/png": "[encoded data removed]",
      "text/plain": [
       "<Figure size 640x480 with 1 Axes>"
      ]
     },
     "metadata": {},
     "output_type": "display_data"
    }
   ],
   "source": [
    "i = 1\n",
    "plot_loss(\n",
    "                                 counts=counts[:,i].astype('float32'),\n",
    "                                 # counts=counts[:,i].astype('int'),\n",
    "                                 design_matrix=design_matrix,\n",
    "                                 mu=mu[:,i],\n",
    "                                 # alpha_hat=np.exp((np.log(min_disp)+np.log(max_disp))/2),\n",
    "                                 alpha_hat = alpha_hat[i],\n",
    "                                 min_disp=min_disp,\n",
    "                                 max_disp=max_disp,\n",
    "                                 prior_disp_var=prior_disp_var,\n",
    "                                 cr_reg=cr_reg,\n",
    "                                 prior_reg=prior_reg,\n",
    "                                 optimizer=optimizer)"
   ]
  },
  {
   "cell_type": "code",
   "execution_count": 25,
   "id": "27261876-580a-42c6-ba9c-387d349cb6a7",
   "metadata": {},
   "outputs": [
    {
     "data": {
      "text/plain": [
       "array([ 2,  0,  8,  1,  4,  6,  0,  1,  1,  5,  6, 12, 12,  6])"
      ]
     },
     "execution_count": 25,
     "metadata": {},
     "output_type": "execute_result"
    }
   ],
   "source": [
    "counts[:,i].astype('int')"
   ]
  },
  {
   "cell_type": "code",
   "execution_count": 26,
   "id": "da36bef8-74e9-413b-90f4-450285b6f9c3",
   "metadata": {},
   "outputs": [],
   "source": [
    "gf = ~dds_old.varm['_genewise_converged']"
   ]
  },
  {
   "cell_type": "code",
   "execution_count": 27,
   "id": "9db5dbc2-4f80-4777-ba7c-0cf0bd62b2b5",
   "metadata": {},
   "outputs": [
    {
     "data": {
      "image/png": "[encoded data removed]",
      "text/plain": [
       "<Figure size 640x480 with 1 Axes>"
      ]
     },
     "metadata": {},
     "output_type": "display_data"
    }
   ],
   "source": [
    "plt.scatter(dds_old.varm['genewise_dispersions'][gf],dds_new.var['genewise_dispersions'][gf],3,'k',alpha=0.3)\n",
    "plt.xscale('log')\n",
    "plt.yscale('log')"
   ]
  },
  {
   "cell_type": "code",
   "execution_count": 28,
   "id": "0905556b-3a54-4b86-9339-27069e228b15",
   "metadata": {},
   "outputs": [
    {
     "data": {
      "text/plain": [
       "array([2.11859802e-02, 5.26979691e-04, 7.03247321e-02, 5.84462092e-02,\n",
       "       8.01104056e-02, 1.62517223e-08, 4.15975804e-02, 2.42571124e-02,\n",
       "       7.55949851e-02, 2.18145110e-08])"
      ]
     },
     "execution_count": 28,
     "metadata": {},
     "output_type": "execute_result"
    }
   ],
   "source": [
    "dds_old.varm['genewise_dispersions'][non_zero_idx][:10]"
   ]
  },
  {
   "cell_type": "code",
   "execution_count": 29,
   "id": "96887c26-4833-4c51-80cc-0b860f7d25fe",
   "metadata": {},
   "outputs": [
    {
     "name": "stderr",
     "output_type": "stream",
     "text": [
      "/tmp/ipykernel_25972/262517294.py:1: FutureWarning: Series.__getitem__ treating keys as positions is deprecated. In a future version, integer keys will always be treated as labels (consistent with DataFrame behavior). To access a value by position, use `ser.iloc[pos]`\n",
      "  dds_new.var['genewise_dispersions'][non_zero_idx].values[:10]\n"
     ]
    },
    {
     "data": {
      "text/plain": [
       "array([2.11604610e-02, 1.00000000e-08, 1.00000000e-08, 5.84452975e-02,\n",
       "       1.00000000e-08, 1.00000000e-08, 4.15490185e-02, 1.00000000e-08,\n",
       "       1.00000000e-08, 1.00000000e-08])"
      ]
     },
     "execution_count": 29,
     "metadata": {},
     "output_type": "execute_result"
    }
   ],
   "source": [
    "dds_new.var['genewise_dispersions'][non_zero_idx].values[:10]"
   ]
  },
  {
   "cell_type": "code",
   "execution_count": 30,
   "id": "3ded847c-f7fd-43f6-a0f6-4d01220e764c",
   "metadata": {},
   "outputs": [
    {
     "name": "stderr",
     "output_type": "stream",
     "text": [
      "/tmp/ipykernel_25972/2433993565.py:1: FutureWarning: Series.__getitem__ treating keys as positions is deprecated. In a future version, integer keys will always be treated as labels (consistent with DataFrame behavior). To access a value by position, use `ser.iloc[pos]`\n",
      "  dds_new.var['_genewise_converged'][non_zero_idx][:10].values\n"
     ]
    },
    {
     "data": {
      "text/plain": [
       "array([ True,  True,  True,  True,  True,  True,  True,  True,  True,\n",
       "        True])"
      ]
     },
     "execution_count": 30,
     "metadata": {},
     "output_type": "execute_result"
    }
   ],
   "source": [
    "dds_new.var['_genewise_converged'][non_zero_idx][:10].values"
   ]
  },
  {
   "cell_type": "code",
   "execution_count": 31,
   "id": "1208106e-29a0-4139-a283-a4959ae50789",
   "metadata": {},
   "outputs": [
    {
     "data": {
      "text/plain": [
       "array([False,  True,  True,  True, False, False, False, False, False,\n",
       "       False])"
      ]
     },
     "execution_count": 31,
     "metadata": {},
     "output_type": "execute_result"
    }
   ],
   "source": [
    "dds_old.varm['_genewise_converged'][non_zero_idx][:10]"
   ]
  },
  {
   "cell_type": "code",
   "execution_count": null,
   "id": "bf01f10c-d0c5-40ca-813a-2684bb7f784a",
   "metadata": {},
   "outputs": [],
   "source": []
  },
  {
   "cell_type": "code",
   "execution_count": 32,
   "id": "2fed7ce5-a73b-4ec1-a920-6d6ede6809d8",
   "metadata": {},
   "outputs": [
    {
     "name": "stderr",
     "output_type": "stream",
     "text": [
      "  0%|                                                                                                                         | 0/10390 [00:00<?, ?it/s]/tmp/ipykernel_25972/1286205508.py:12: FutureWarning: Series.__getitem__ treating keys as positions is deprecated. In a future version, integer keys will always be treated as labels (consistent with DataFrame behavior). To access a value by position, use `ser.iloc[pos]`\n",
      "  alpha_hat = alpha_hat[i],\n",
      "100%|█████████████████████████████████████████████████████████████████████████████████████████████████████████████| 10390/10390 [01:56<00:00, 88.93it/s]\n"
     ]
    }
   ],
   "source": [
    "\n",
    "N=len(non_zero_idx)\n",
    "grid_res, grid_loss, lbfgsb_res,lbfgsb_loss,lbfgsb_conv = [np.empty(N) for i in range(5)]\n",
    "# res=np.empty(N)\n",
    "# conv=np.empty(N)\n",
    "for i in tqdm.tqdm(range(N)):\n",
    "    # r = fit_alpha_mle(\n",
    "    r = fit_alpha_mle_with_grid_search(\n",
    "                                     # counts=counts[:,i].astype('float32'),\n",
    "                                     counts=counts[:,i].astype('int'),\n",
    "                                     design_matrix=design_matrix,\n",
    "                                     mu=mu[:,i],\n",
    "                                     alpha_hat = alpha_hat[i],\n",
    "                                     min_disp=min_disp,\n",
    "                                     max_disp=max_disp,\n",
    "                                     prior_disp_var=prior_disp_var,\n",
    "                                     cr_reg=cr_reg,\n",
    "                                     prior_reg=prior_reg,\n",
    "                                     optimizer=optimizer,return_everything=True)\n",
    "    grid_res[i], grid_loss[i], lbfgsb_res[i],lbfgsb_loss[i],lbfgsb_conv[i] = r\n",
    "    # res[i] = r[0]\n",
    "    # conv[i] = r[1]\n",
    "    "
   ]
  },
  {
   "cell_type": "code",
   "execution_count": 33,
   "id": "fd5e6800-b144-439e-8c44-1e86d9c59012",
   "metadata": {},
   "outputs": [
    {
     "data": {
      "text/plain": [
       "array([-5.15525043, -0.14378774, -0.68587327, -5.19895094, -5.19895094,\n",
       "       -2.0601235 , -5.1444304 , -5.19861021, -1.3344541 , -0.6633254 ,\n",
       "       -1.39928435, -0.82151244, -5.19500253, -0.95889593, -0.82725909,\n",
       "       -1.3960247 , -2.08499692, -5.16317856, -2.00425783, -1.50975056,\n",
       "       -1.39247099, -0.67671144, -2.19439395, -4.46660585, -2.07492454,\n",
       "       -2.03573549, -2.07492454, -0.42621688, -2.10648518])"
      ]
     },
     "execution_count": 33,
     "metadata": {},
     "output_type": "execute_result"
    }
   ],
   "source": [
    "grid_loss[grid_loss<0]"
   ]
  },
  {
   "cell_type": "code",
   "execution_count": 34,
   "id": "e005c701-9de3-4efe-84f1-a4e69991f0ce",
   "metadata": {},
   "outputs": [
    {
     "data": {
      "text/plain": [
       "Text(0, 0.5, 'lbfgsb loss less search loss')"
      ]
     },
     "execution_count": 34,
     "metadata": {},
     "output_type": "execute_result"
    },
    {
     "data": {
      "image/png": "[encoded data removed]",
      "text/plain": [
       "<Figure size 640x480 with 1 Axes>"
      ]
     },
     "metadata": {},
     "output_type": "display_data"
    }
   ],
   "source": [
    "plt.scatter(grid_loss,lbfgsb_loss-grid_loss,3,'k',alpha=0.05)\n",
    "xl=[0,154]\n",
    "plt.xlabel('Grid search loss')\n",
    "plt.ylabel('lbfgsb loss less search loss')"
   ]
  },
  {
   "cell_type": "code",
   "execution_count": 35,
   "id": "b55578e5-b92b-44b1-8cac-244187059334",
   "metadata": {},
   "outputs": [
    {
     "data": {
      "text/plain": [
       "array([False,  True,  True, ..., False, False, False])"
      ]
     },
     "execution_count": 35,
     "metadata": {},
     "output_type": "execute_result"
    }
   ],
   "source": [
    "dds_old.varm['_genewise_converged']"
   ]
  },
  {
   "cell_type": "code",
   "execution_count": 38,
   "id": "73dd2943-c89e-45f2-be7a-973eeda1ce94",
   "metadata": {},
   "outputs": [],
   "source": [
    "# (df['lbfgsb_conv']==dds_old.varm['_genewise_converged'][non_zero_idx]).mean()"
   ]
  },
  {
   "cell_type": "code",
   "execution_count": null,
   "id": "d0789365-7de1-4f7e-8aaa-843c85544161",
   "metadata": {},
   "outputs": [],
   "source": []
  },
  {
   "cell_type": "code",
   "execution_count": 39,
   "id": "4ac7524a-77c6-4d1f-aa83-e4e184e485e2",
   "metadata": {},
   "outputs": [],
   "source": [
    "import pandas as pd \n",
    "\n",
    "df = pd.DataFrame.from_dict({'grid_res':grid_res, 'grid_loss':grid_loss, 'lbfgsb_res':lbfgsb_res,'lbfgsb_loss':lbfgsb_loss,'lbfgsb_conv':lbfgsb_conv})\n",
    "\n",
    "\n",
    "\n",
    "                             "
   ]
  },
  {
   "cell_type": "code",
   "execution_count": 40,
   "id": "7e76a8c7-90c6-4b7c-b581-3a38c8f0209f",
   "metadata": {},
   "outputs": [],
   "source": [
    "df['diff']=df['lbfgsb_loss']-df['grid_loss']"
   ]
  },
  {
   "cell_type": "code",
   "execution_count": 41,
   "id": "00de1dc7-d59f-4fe8-a0c9-22f4da920e63",
   "metadata": {},
   "outputs": [
    {
     "data": {
      "text/plain": [
       "0         True\n",
       "1        False\n",
       "2        False\n",
       "3         True\n",
       "4        False\n",
       "         ...  \n",
       "10385    False\n",
       "10386    False\n",
       "10387     True\n",
       "10388    False\n",
       "10389    False\n",
       "Length: 10390, dtype: bool"
      ]
     },
     "execution_count": 41,
     "metadata": {},
     "output_type": "execute_result"
    }
   ],
   "source": [
    "df['lbfgsb_loss']<df['grid_loss']"
   ]
  },
  {
   "cell_type": "code",
   "execution_count": 42,
   "id": "113f0190-4ac7-4f12-9024-689f893a34b5",
   "metadata": {},
   "outputs": [
    {
     "data": {
      "text/plain": [
       "0.9994225216554379"
      ]
     },
     "execution_count": 42,
     "metadata": {},
     "output_type": "execute_result"
    }
   ],
   "source": [
    "lbfgsb_conv.mean()"
   ]
  },
  {
   "cell_type": "code",
   "execution_count": null,
   "id": "3b6c3084-7b34-4153-8cc8-5d40265e4711",
   "metadata": {},
   "outputs": [],
   "source": []
  },
  {
   "cell_type": "code",
   "execution_count": 43,
   "id": "b39676e5-c861-4f31-98b3-60c83cb431df",
   "metadata": {},
   "outputs": [
    {
     "data": {
      "text/plain": [
       "0        40.628063\n",
       "3        51.655500\n",
       "6        59.823137\n",
       "12       34.181656\n",
       "13       40.372278\n",
       "           ...    \n",
       "10361    40.635539\n",
       "10364    36.412928\n",
       "10374    55.821732\n",
       "10383    29.074470\n",
       "10387    36.927256\n",
       "Name: lbfgsb_loss, Length: 2175, dtype: float64"
      ]
     },
     "execution_count": 43,
     "metadata": {},
     "output_type": "execute_result"
    }
   ],
   "source": [
    "df.loc[df['lbfgsb_loss']<df['grid_loss'],'lbfgsb_loss']"
   ]
  },
  {
   "cell_type": "code",
   "execution_count": 44,
   "id": "a60943b2-0942-46f1-a11c-bbcbce1cf5dd",
   "metadata": {},
   "outputs": [],
   "source": [
    "df['best_result'] = None\n",
    "df.loc[df['lbfgsb_loss']<df['grid_loss'],'best_result'] = df.loc[df['lbfgsb_loss']<df['grid_loss'],'lbfgsb_res']\n",
    "df.loc[df['lbfgsb_loss']>=df['grid_loss'],'best_result'] = df.loc[df['lbfgsb_loss']>=df['grid_loss'],'grid_res']\n",
    "df['best_result']=df['best_result'].astype(float)"
   ]
  },
  {
   "cell_type": "code",
   "execution_count": 45,
   "id": "1ae3e1c5-8233-4aa4-9aed-314ba3ef4750",
   "metadata": {},
   "outputs": [
    {
     "data": {
      "text/html": [
       "<div>\n",
       "<style scoped>\n",
       "    .dataframe tbody tr th:only-of-type {\n",
       "        vertical-align: middle;\n",
       "    }\n",
       "\n",
       "    .dataframe tbody tr th {\n",
       "        vertical-align: top;\n",
       "    }\n",
       "\n",
       "    .dataframe thead th {\n",
       "        text-align: right;\n",
       "    }\n",
       "</style>\n",
       "<table border=\"1\" class=\"dataframe\">\n",
       "  <thead>\n",
       "    <tr style=\"text-align: right;\">\n",
       "      <th></th>\n",
       "      <th>grid_res</th>\n",
       "      <th>grid_loss</th>\n",
       "      <th>lbfgsb_res</th>\n",
       "      <th>lbfgsb_loss</th>\n",
       "      <th>lbfgsb_conv</th>\n",
       "      <th>diff</th>\n",
       "      <th>best_result</th>\n",
       "    </tr>\n",
       "  </thead>\n",
       "  <tbody>\n",
       "    <tr>\n",
       "      <th>7990</th>\n",
       "      <td>-1.344695</td>\n",
       "      <td>57.991126</td>\n",
       "      <td>-18.420681</td>\n",
       "      <td>79.765196</td>\n",
       "      <td>0.0</td>\n",
       "      <td>21.774069</td>\n",
       "      <td>-1.344695</td>\n",
       "    </tr>\n",
       "    <tr>\n",
       "      <th>7275</th>\n",
       "      <td>-1.361885</td>\n",
       "      <td>49.281832</td>\n",
       "      <td>-18.420681</td>\n",
       "      <td>66.221080</td>\n",
       "      <td>0.0</td>\n",
       "      <td>16.939248</td>\n",
       "      <td>-1.361885</td>\n",
       "    </tr>\n",
       "    <tr>\n",
       "      <th>2875</th>\n",
       "      <td>-2.247163</td>\n",
       "      <td>60.672320</td>\n",
       "      <td>-18.420634</td>\n",
       "      <td>76.131694</td>\n",
       "      <td>1.0</td>\n",
       "      <td>15.459374</td>\n",
       "      <td>-2.247163</td>\n",
       "    </tr>\n",
       "    <tr>\n",
       "      <th>2060</th>\n",
       "      <td>-2.616745</td>\n",
       "      <td>63.585314</td>\n",
       "      <td>-18.420681</td>\n",
       "      <td>75.405020</td>\n",
       "      <td>1.0</td>\n",
       "      <td>11.819706</td>\n",
       "      <td>-2.616745</td>\n",
       "    </tr>\n",
       "    <tr>\n",
       "      <th>5962</th>\n",
       "      <td>-0.762388</td>\n",
       "      <td>39.183937</td>\n",
       "      <td>-18.420681</td>\n",
       "      <td>48.271769</td>\n",
       "      <td>1.0</td>\n",
       "      <td>9.087832</td>\n",
       "      <td>-0.762388</td>\n",
       "    </tr>\n",
       "    <tr>\n",
       "      <th>...</th>\n",
       "      <td>...</td>\n",
       "      <td>...</td>\n",
       "      <td>...</td>\n",
       "      <td>...</td>\n",
       "      <td>...</td>\n",
       "      <td>...</td>\n",
       "      <td>...</td>\n",
       "    </tr>\n",
       "    <tr>\n",
       "      <th>8444</th>\n",
       "      <td>-17.485982</td>\n",
       "      <td>46.519728</td>\n",
       "      <td>-18.420681</td>\n",
       "      <td>46.519722</td>\n",
       "      <td>1.0</td>\n",
       "      <td>-0.000006</td>\n",
       "      <td>-18.420681</td>\n",
       "    </tr>\n",
       "    <tr>\n",
       "      <th>8771</th>\n",
       "      <td>-16.968137</td>\n",
       "      <td>35.338073</td>\n",
       "      <td>-18.420681</td>\n",
       "      <td>35.338067</td>\n",
       "      <td>1.0</td>\n",
       "      <td>-0.000006</td>\n",
       "      <td>-18.420681</td>\n",
       "    </tr>\n",
       "    <tr>\n",
       "      <th>5456</th>\n",
       "      <td>-18.225146</td>\n",
       "      <td>39.228249</td>\n",
       "      <td>-18.420681</td>\n",
       "      <td>39.228241</td>\n",
       "      <td>1.0</td>\n",
       "      <td>-0.000008</td>\n",
       "      <td>-18.420681</td>\n",
       "    </tr>\n",
       "    <tr>\n",
       "      <th>4500</th>\n",
       "      <td>-18.238038</td>\n",
       "      <td>22.793321</td>\n",
       "      <td>-18.420681</td>\n",
       "      <td>22.793313</td>\n",
       "      <td>1.0</td>\n",
       "      <td>-0.000008</td>\n",
       "      <td>-18.420681</td>\n",
       "    </tr>\n",
       "    <tr>\n",
       "      <th>1732</th>\n",
       "      <td>-17.730937</td>\n",
       "      <td>46.038326</td>\n",
       "      <td>-18.420681</td>\n",
       "      <td>46.038318</td>\n",
       "      <td>1.0</td>\n",
       "      <td>-0.000008</td>\n",
       "      <td>-18.420681</td>\n",
       "    </tr>\n",
       "  </tbody>\n",
       "</table>\n",
       "<p>10390 rows × 7 columns</p>\n",
       "</div>"
      ],
      "text/plain": [
       "       grid_res  grid_loss  lbfgsb_res  lbfgsb_loss  lbfgsb_conv       diff  \\\n",
       "7990  -1.344695  57.991126  -18.420681    79.765196          0.0  21.774069   \n",
       "7275  -1.361885  49.281832  -18.420681    66.221080          0.0  16.939248   \n",
       "2875  -2.247163  60.672320  -18.420634    76.131694          1.0  15.459374   \n",
       "2060  -2.616745  63.585314  -18.420681    75.405020          1.0  11.819706   \n",
       "5962  -0.762388  39.183937  -18.420681    48.271769          1.0   9.087832   \n",
       "...         ...        ...         ...          ...          ...        ...   \n",
       "8444 -17.485982  46.519728  -18.420681    46.519722          1.0  -0.000006   \n",
       "8771 -16.968137  35.338073  -18.420681    35.338067          1.0  -0.000006   \n",
       "5456 -18.225146  39.228249  -18.420681    39.228241          1.0  -0.000008   \n",
       "4500 -18.238038  22.793321  -18.420681    22.793313          1.0  -0.000008   \n",
       "1732 -17.730937  46.038326  -18.420681    46.038318          1.0  -0.000008   \n",
       "\n",
       "      best_result  \n",
       "7990    -1.344695  \n",
       "7275    -1.361885  \n",
       "2875    -2.247163  \n",
       "2060    -2.616745  \n",
       "5962    -0.762388  \n",
       "...           ...  \n",
       "8444   -18.420681  \n",
       "8771   -18.420681  \n",
       "5456   -18.420681  \n",
       "4500   -18.420681  \n",
       "1732   -18.420681  \n",
       "\n",
       "[10390 rows x 7 columns]"
      ]
     },
     "execution_count": 45,
     "metadata": {},
     "output_type": "execute_result"
    }
   ],
   "source": [
    "df.sort_values('diff',ascending=False)"
   ]
  },
  {
   "cell_type": "code",
   "execution_count": 47,
   "id": "49c7ae34-145a-4f66-b16e-4c6462834ade",
   "metadata": {},
   "outputs": [],
   "source": [
    "# plt.scatter(dds_old.varm['genewise_dispersions'][non_zero_idx][conv],res[conv],3,'k',alpha=0.05)\n",
    "# plt.scatter(dds_old.varm['genewise_dispersions'][non_zero_idx][~conv],res[~conv],3,'lightgray',alpha=0.05)\n",
    "# plt.xscale('log')\n",
    "# plt.yscale('log')"
   ]
  },
  {
   "cell_type": "markdown",
   "id": "054118d3-17a9-4594-8cc5-63a905af8abb",
   "metadata": {},
   "source": [
    "The potentially interesting genes are where lbfgsb_conv=1 i.e. lbfgsb converges but the grid loss is still lower than the lbfgsb loss"
   ]
  },
  {
   "cell_type": "code",
   "execution_count": 48,
   "id": "4aea45c5-523f-42a0-b530-c980350434e7",
   "metadata": {},
   "outputs": [
    {
     "data": {
      "text/html": [
       "<div>\n",
       "<style scoped>\n",
       "    .dataframe tbody tr th:only-of-type {\n",
       "        vertical-align: middle;\n",
       "    }\n",
       "\n",
       "    .dataframe tbody tr th {\n",
       "        vertical-align: top;\n",
       "    }\n",
       "\n",
       "    .dataframe thead th {\n",
       "        text-align: right;\n",
       "    }\n",
       "</style>\n",
       "<table border=\"1\" class=\"dataframe\">\n",
       "  <thead>\n",
       "    <tr style=\"text-align: right;\">\n",
       "      <th></th>\n",
       "      <th>grid_res</th>\n",
       "      <th>grid_loss</th>\n",
       "      <th>lbfgsb_res</th>\n",
       "      <th>lbfgsb_loss</th>\n",
       "      <th>lbfgsb_conv</th>\n",
       "      <th>diff</th>\n",
       "      <th>best_result</th>\n",
       "    </tr>\n",
       "  </thead>\n",
       "  <tbody>\n",
       "    <tr>\n",
       "      <th>2875</th>\n",
       "      <td>-2.247163</td>\n",
       "      <td>60.672320</td>\n",
       "      <td>-18.420634</td>\n",
       "      <td>76.131694</td>\n",
       "      <td>1.0</td>\n",
       "      <td>15.459374</td>\n",
       "      <td>-2.247163</td>\n",
       "    </tr>\n",
       "    <tr>\n",
       "      <th>2060</th>\n",
       "      <td>-2.616745</td>\n",
       "      <td>63.585314</td>\n",
       "      <td>-18.420681</td>\n",
       "      <td>75.405020</td>\n",
       "      <td>1.0</td>\n",
       "      <td>11.819706</td>\n",
       "      <td>-2.616745</td>\n",
       "    </tr>\n",
       "    <tr>\n",
       "      <th>5962</th>\n",
       "      <td>-0.762388</td>\n",
       "      <td>39.183937</td>\n",
       "      <td>-18.420681</td>\n",
       "      <td>48.271769</td>\n",
       "      <td>1.0</td>\n",
       "      <td>9.087832</td>\n",
       "      <td>-0.762388</td>\n",
       "    </tr>\n",
       "    <tr>\n",
       "      <th>1435</th>\n",
       "      <td>-1.591799</td>\n",
       "      <td>49.532863</td>\n",
       "      <td>-18.420681</td>\n",
       "      <td>58.521661</td>\n",
       "      <td>1.0</td>\n",
       "      <td>8.988798</td>\n",
       "      <td>-1.591799</td>\n",
       "    </tr>\n",
       "    <tr>\n",
       "      <th>7163</th>\n",
       "      <td>0.943707</td>\n",
       "      <td>21.108554</td>\n",
       "      <td>-18.420681</td>\n",
       "      <td>29.165621</td>\n",
       "      <td>1.0</td>\n",
       "      <td>8.057066</td>\n",
       "      <td>0.943707</td>\n",
       "    </tr>\n",
       "    <tr>\n",
       "      <th>8360</th>\n",
       "      <td>-3.587973</td>\n",
       "      <td>76.219839</td>\n",
       "      <td>-18.420668</td>\n",
       "      <td>83.339582</td>\n",
       "      <td>1.0</td>\n",
       "      <td>7.119744</td>\n",
       "      <td>-3.587973</td>\n",
       "    </tr>\n",
       "    <tr>\n",
       "      <th>8339</th>\n",
       "      <td>2.851782</td>\n",
       "      <td>3.427825</td>\n",
       "      <td>-18.420681</td>\n",
       "      <td>9.984729</td>\n",
       "      <td>1.0</td>\n",
       "      <td>6.556903</td>\n",
       "      <td>2.851782</td>\n",
       "    </tr>\n",
       "    <tr>\n",
       "      <th>4775</th>\n",
       "      <td>2.851782</td>\n",
       "      <td>-0.958896</td>\n",
       "      <td>-18.420681</td>\n",
       "      <td>5.548580</td>\n",
       "      <td>1.0</td>\n",
       "      <td>6.507476</td>\n",
       "      <td>2.851782</td>\n",
       "    </tr>\n",
       "    <tr>\n",
       "      <th>2124</th>\n",
       "      <td>2.851782</td>\n",
       "      <td>-5.144430</td>\n",
       "      <td>-18.420681</td>\n",
       "      <td>1.258906</td>\n",
       "      <td>1.0</td>\n",
       "      <td>6.403336</td>\n",
       "      <td>2.851782</td>\n",
       "    </tr>\n",
       "    <tr>\n",
       "      <th>368</th>\n",
       "      <td>2.851782</td>\n",
       "      <td>-5.155250</td>\n",
       "      <td>-18.420681</td>\n",
       "      <td>1.160005</td>\n",
       "      <td>1.0</td>\n",
       "      <td>6.315255</td>\n",
       "      <td>2.851782</td>\n",
       "    </tr>\n",
       "    <tr>\n",
       "      <th>8357</th>\n",
       "      <td>2.851782</td>\n",
       "      <td>-4.466606</td>\n",
       "      <td>-18.420681</td>\n",
       "      <td>1.830615</td>\n",
       "      <td>1.0</td>\n",
       "      <td>6.297221</td>\n",
       "      <td>2.851782</td>\n",
       "    </tr>\n",
       "    <tr>\n",
       "      <th>6404</th>\n",
       "      <td>2.851782</td>\n",
       "      <td>-5.163179</td>\n",
       "      <td>-18.420681</td>\n",
       "      <td>1.087976</td>\n",
       "      <td>1.0</td>\n",
       "      <td>6.251155</td>\n",
       "      <td>2.851782</td>\n",
       "    </tr>\n",
       "    <tr>\n",
       "      <th>5906</th>\n",
       "      <td>2.851782</td>\n",
       "      <td>3.475102</td>\n",
       "      <td>-18.420681</td>\n",
       "      <td>9.684772</td>\n",
       "      <td>1.0</td>\n",
       "      <td>6.209670</td>\n",
       "      <td>2.851782</td>\n",
       "    </tr>\n",
       "    <tr>\n",
       "      <th>8049</th>\n",
       "      <td>2.851782</td>\n",
       "      <td>7.320887</td>\n",
       "      <td>-18.420681</td>\n",
       "      <td>13.470238</td>\n",
       "      <td>1.0</td>\n",
       "      <td>6.149352</td>\n",
       "      <td>2.851782</td>\n",
       "    </tr>\n",
       "    <tr>\n",
       "      <th>3603</th>\n",
       "      <td>2.851782</td>\n",
       "      <td>-5.195003</td>\n",
       "      <td>-18.420681</td>\n",
       "      <td>0.748635</td>\n",
       "      <td>1.0</td>\n",
       "      <td>5.943637</td>\n",
       "      <td>2.851782</td>\n",
       "    </tr>\n",
       "    <tr>\n",
       "      <th>4061</th>\n",
       "      <td>2.851782</td>\n",
       "      <td>6.805439</td>\n",
       "      <td>-18.420681</td>\n",
       "      <td>12.728093</td>\n",
       "      <td>1.0</td>\n",
       "      <td>5.922653</td>\n",
       "      <td>2.851782</td>\n",
       "    </tr>\n",
       "    <tr>\n",
       "      <th>2326</th>\n",
       "      <td>2.851782</td>\n",
       "      <td>-5.198610</td>\n",
       "      <td>-18.420681</td>\n",
       "      <td>0.708029</td>\n",
       "      <td>1.0</td>\n",
       "      <td>5.906640</td>\n",
       "      <td>2.851782</td>\n",
       "    </tr>\n",
       "    <tr>\n",
       "      <th>1745</th>\n",
       "      <td>2.851782</td>\n",
       "      <td>-5.198951</td>\n",
       "      <td>-18.420681</td>\n",
       "      <td>0.704197</td>\n",
       "      <td>1.0</td>\n",
       "      <td>5.903148</td>\n",
       "      <td>2.851782</td>\n",
       "    </tr>\n",
       "    <tr>\n",
       "      <th>1819</th>\n",
       "      <td>2.851782</td>\n",
       "      <td>-5.198951</td>\n",
       "      <td>-18.420681</td>\n",
       "      <td>0.704197</td>\n",
       "      <td>1.0</td>\n",
       "      <td>5.903148</td>\n",
       "      <td>2.851782</td>\n",
       "    </tr>\n",
       "    <tr>\n",
       "      <th>7259</th>\n",
       "      <td>1.446510</td>\n",
       "      <td>19.390505</td>\n",
       "      <td>-18.420681</td>\n",
       "      <td>25.182779</td>\n",
       "      <td>1.0</td>\n",
       "      <td>5.792273</td>\n",
       "      <td>1.446510</td>\n",
       "    </tr>\n",
       "  </tbody>\n",
       "</table>\n",
       "</div>"
      ],
      "text/plain": [
       "      grid_res  grid_loss  lbfgsb_res  lbfgsb_loss  lbfgsb_conv       diff  \\\n",
       "2875 -2.247163  60.672320  -18.420634    76.131694          1.0  15.459374   \n",
       "2060 -2.616745  63.585314  -18.420681    75.405020          1.0  11.819706   \n",
       "5962 -0.762388  39.183937  -18.420681    48.271769          1.0   9.087832   \n",
       "1435 -1.591799  49.532863  -18.420681    58.521661          1.0   8.988798   \n",
       "7163  0.943707  21.108554  -18.420681    29.165621          1.0   8.057066   \n",
       "8360 -3.587973  76.219839  -18.420668    83.339582          1.0   7.119744   \n",
       "8339  2.851782   3.427825  -18.420681     9.984729          1.0   6.556903   \n",
       "4775  2.851782  -0.958896  -18.420681     5.548580          1.0   6.507476   \n",
       "2124  2.851782  -5.144430  -18.420681     1.258906          1.0   6.403336   \n",
       "368   2.851782  -5.155250  -18.420681     1.160005          1.0   6.315255   \n",
       "8357  2.851782  -4.466606  -18.420681     1.830615          1.0   6.297221   \n",
       "6404  2.851782  -5.163179  -18.420681     1.087976          1.0   6.251155   \n",
       "5906  2.851782   3.475102  -18.420681     9.684772          1.0   6.209670   \n",
       "8049  2.851782   7.320887  -18.420681    13.470238          1.0   6.149352   \n",
       "3603  2.851782  -5.195003  -18.420681     0.748635          1.0   5.943637   \n",
       "4061  2.851782   6.805439  -18.420681    12.728093          1.0   5.922653   \n",
       "2326  2.851782  -5.198610  -18.420681     0.708029          1.0   5.906640   \n",
       "1745  2.851782  -5.198951  -18.420681     0.704197          1.0   5.903148   \n",
       "1819  2.851782  -5.198951  -18.420681     0.704197          1.0   5.903148   \n",
       "7259  1.446510  19.390505  -18.420681    25.182779          1.0   5.792273   \n",
       "\n",
       "      best_result  \n",
       "2875    -2.247163  \n",
       "2060    -2.616745  \n",
       "5962    -0.762388  \n",
       "1435    -1.591799  \n",
       "7163     0.943707  \n",
       "8360    -3.587973  \n",
       "8339     2.851782  \n",
       "4775     2.851782  \n",
       "2124     2.851782  \n",
       "368      2.851782  \n",
       "8357     2.851782  \n",
       "6404     2.851782  \n",
       "5906     2.851782  \n",
       "8049     2.851782  \n",
       "3603     2.851782  \n",
       "4061     2.851782  \n",
       "2326     2.851782  \n",
       "1745     2.851782  \n",
       "1819     2.851782  \n",
       "7259     1.446510  "
      ]
     },
     "execution_count": 48,
     "metadata": {},
     "output_type": "execute_result"
    }
   ],
   "source": [
    "df[df['lbfgsb_conv']==1].sort_values('diff',ascending=False)[:20]"
   ]
  },
  {
   "cell_type": "code",
   "execution_count": null,
   "id": "98463bf7-add6-4217-978c-b98b39b0fc2c",
   "metadata": {},
   "outputs": [],
   "source": []
  }
 ],
 "metadata": {
  "kernelspec": {
   "display_name": "Python 3 (ipykernel)",
   "language": "python",
   "name": "python3"
  },
  "language_info": {
   "codemirror_mode": {
    "name": "ipython",
    "version": 3
   },
   "file_extension": ".py",
   "mimetype": "text/x-python",
   "name": "python",
   "nbconvert_exporter": "python",
   "pygments_lexer": "ipython3",
   "version": "3.9.7"
  }
 },
 "nbformat": 4,
 "nbformat_minor": 5
}
